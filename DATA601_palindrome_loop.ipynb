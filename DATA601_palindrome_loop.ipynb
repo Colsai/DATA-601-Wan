{
  "nbformat": 4,
  "nbformat_minor": 0,
  "metadata": {
    "colab": {
      "name": "DATA601_palindrome_loop.ipynb",
      "provenance": [],
      "collapsed_sections": [],
      "authorship_tag": "ABX9TyNneD+rPn3ao9OjSCze8SYK",
      "include_colab_link": true
    },
    "kernelspec": {
      "name": "python3",
      "display_name": "Python 3"
    }
  },
  "cells": [
    {
      "cell_type": "markdown",
      "metadata": {
        "id": "view-in-github",
        "colab_type": "text"
      },
      "source": [
        "<a href=\"https://colab.research.google.com/github/Colsai/DATA_601_Wan/blob/main/DATA601_palindrome_loop.ipynb\" target=\"_parent\"><img src=\"https://colab.research.google.com/assets/colab-badge.svg\" alt=\"Open In Colab\"/></a>"
      ]
    },
    {
      "cell_type": "code",
      "metadata": {
        "colab": {
          "base_uri": "https://localhost:8080/"
        },
        "id": "GuKA6LB5qVX9",
        "outputId": "d32f0480-b187-48f3-8aae-0d5b269fa3ea"
      },
      "source": [
        "palindrome_list = []\r\n",
        "\r\n",
        "for i in range(0,9):\r\n",
        "    for j in range(0,9):\r\n",
        "        for k in range (0,9):\r\n",
        "            for l in range (0,9):\r\n",
        "                palndr = [i,j,k,l,k,j,i]\r\n",
        "                palindrome_list.append(palndr)\r\n",
        "\r\n",
        "len(palindrome_list)"
      ],
      "execution_count": 31,
      "outputs": [
        {
          "output_type": "execute_result",
          "data": {
            "text/plain": [
              "6561"
            ]
          },
          "metadata": {
            "tags": []
          },
          "execution_count": 31
        }
      ]
    },
    {
      "cell_type": "markdown",
      "metadata": {
        "id": "Qf0HkD0-rKJu"
      },
      "source": [
        ""
      ]
    }
  ]
}