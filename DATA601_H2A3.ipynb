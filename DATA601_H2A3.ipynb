{
  "nbformat": 4,
  "nbformat_minor": 0,
  "metadata": {
    "colab": {
      "name": "DATA601 H2A3.ipynb",
      "provenance": [],
      "collapsed_sections": [],
      "authorship_tag": "ABX9TyO3EJohmoQLkiqGGS7ebHpf",
      "include_colab_link": true
    },
    "kernelspec": {
      "name": "python3",
      "display_name": "Python 3"
    }
  },
  "cells": [
    {
      "cell_type": "markdown",
      "metadata": {
        "id": "view-in-github",
        "colab_type": "text"
      },
      "source": [
        "<a href=\"https://colab.research.google.com/github/Colsai/DATA_601_Wan/blob/main/DATA601_H2A3.ipynb\" target=\"_parent\"><img src=\"https://colab.research.google.com/assets/colab-badge.svg\" alt=\"Open In Colab\"/></a>"
      ]
    },
    {
      "cell_type": "markdown",
      "metadata": {
        "id": "E9Qtu2rJ-QpD"
      },
      "source": [
        "# DATA601 \r\n",
        "WEEK 2 Homework 3 (Wan)"
      ]
    },
    {
      "cell_type": "code",
      "metadata": {
        "id": "eZ8eIcrD9tNv"
      },
      "source": [
        "#Load Pandas Package\r\n",
        "import pandas as pd"
      ],
      "execution_count": 1,
      "outputs": []
    },
    {
      "cell_type": "code",
      "metadata": {
        "id": "9qoOLpWI9x-p"
      },
      "source": [
        "#URL of the data\r\n",
        "url = 'https://people.sc.fsu.edu/~jburkardt/data/csv/letter_frequency.csv'"
      ],
      "execution_count": 3,
      "outputs": []
    },
    {
      "cell_type": "code",
      "metadata": {
        "id": "pcbPt_Db9zrH"
      },
      "source": [
        "#Read the URL of the data as csv into the program\r\n",
        "df = pd.read_csv(url)"
      ],
      "execution_count": 7,
      "outputs": []
    },
    {
      "cell_type": "code",
      "metadata": {
        "colab": {
          "base_uri": "https://localhost:8080/",
          "height": 204
        },
        "id": "M39O-vXy93j2",
        "outputId": "1b4cf3ad-2a0b-447f-fab3-ca68175e291a"
      },
      "source": [
        "#View the head of the data\r\n",
        "df.head()"
      ],
      "execution_count": 6,
      "outputs": [
        {
          "output_type": "execute_result",
          "data": {
            "text/html": [
              "<div>\n",
              "<style scoped>\n",
              "    .dataframe tbody tr th:only-of-type {\n",
              "        vertical-align: middle;\n",
              "    }\n",
              "\n",
              "    .dataframe tbody tr th {\n",
              "        vertical-align: top;\n",
              "    }\n",
              "\n",
              "    .dataframe thead th {\n",
              "        text-align: right;\n",
              "    }\n",
              "</style>\n",
              "<table border=\"1\" class=\"dataframe\">\n",
              "  <thead>\n",
              "    <tr style=\"text-align: right;\">\n",
              "      <th></th>\n",
              "      <th>Letter</th>\n",
              "      <th>\"Frequency\"</th>\n",
              "      <th>\"Percentage\"</th>\n",
              "    </tr>\n",
              "  </thead>\n",
              "  <tbody>\n",
              "    <tr>\n",
              "      <th>0</th>\n",
              "      <td>\"A\"</td>\n",
              "      <td>24373121</td>\n",
              "      <td>8.1</td>\n",
              "    </tr>\n",
              "    <tr>\n",
              "      <th>1</th>\n",
              "      <td>\"B\"</td>\n",
              "      <td>4762938</td>\n",
              "      <td>1.6</td>\n",
              "    </tr>\n",
              "    <tr>\n",
              "      <th>2</th>\n",
              "      <td>\"C\"</td>\n",
              "      <td>8982417</td>\n",
              "      <td>3.0</td>\n",
              "    </tr>\n",
              "    <tr>\n",
              "      <th>3</th>\n",
              "      <td>\"D\"</td>\n",
              "      <td>10805580</td>\n",
              "      <td>3.6</td>\n",
              "    </tr>\n",
              "    <tr>\n",
              "      <th>4</th>\n",
              "      <td>\"E\"</td>\n",
              "      <td>37907119</td>\n",
              "      <td>12.6</td>\n",
              "    </tr>\n",
              "  </tbody>\n",
              "</table>\n",
              "</div>"
            ],
            "text/plain": [
              "    Letter   \"Frequency\"   \"Percentage\"\n",
              "0      \"A\"      24373121            8.1\n",
              "1      \"B\"       4762938            1.6\n",
              "2      \"C\"       8982417            3.0\n",
              "3      \"D\"      10805580            3.6\n",
              "4      \"E\"      37907119           12.6"
            ]
          },
          "metadata": {
            "tags": []
          },
          "execution_count": 6
        }
      ]
    },
    {
      "cell_type": "code",
      "metadata": {
        "colab": {
          "base_uri": "https://localhost:8080/",
          "height": 204
        },
        "id": "HLTVb57W961S",
        "outputId": "879a94fb-ebf0-4025-ea14-1c49a7eff1a5"
      },
      "source": [
        "#View the tail of the data\r\n",
        "df.tail()"
      ],
      "execution_count": 9,
      "outputs": [
        {
          "output_type": "execute_result",
          "data": {
            "text/html": [
              "<div>\n",
              "<style scoped>\n",
              "    .dataframe tbody tr th:only-of-type {\n",
              "        vertical-align: middle;\n",
              "    }\n",
              "\n",
              "    .dataframe tbody tr th {\n",
              "        vertical-align: top;\n",
              "    }\n",
              "\n",
              "    .dataframe thead th {\n",
              "        text-align: right;\n",
              "    }\n",
              "</style>\n",
              "<table border=\"1\" class=\"dataframe\">\n",
              "  <thead>\n",
              "    <tr style=\"text-align: right;\">\n",
              "      <th></th>\n",
              "      <th>Letter</th>\n",
              "      <th>\"Frequency\"</th>\n",
              "      <th>\"Percentage\"</th>\n",
              "    </tr>\n",
              "  </thead>\n",
              "  <tbody>\n",
              "    <tr>\n",
              "      <th>21</th>\n",
              "      <td>\"V\"</td>\n",
              "      <td>2835696</td>\n",
              "      <td>0.9</td>\n",
              "    </tr>\n",
              "    <tr>\n",
              "      <th>22</th>\n",
              "      <td>\"W\"</td>\n",
              "      <td>6505294</td>\n",
              "      <td>2.2</td>\n",
              "    </tr>\n",
              "    <tr>\n",
              "      <th>23</th>\n",
              "      <td>\"X\"</td>\n",
              "      <td>562732</td>\n",
              "      <td>0.2</td>\n",
              "    </tr>\n",
              "    <tr>\n",
              "      <th>24</th>\n",
              "      <td>\"Y\"</td>\n",
              "      <td>5910495</td>\n",
              "      <td>2.0</td>\n",
              "    </tr>\n",
              "    <tr>\n",
              "      <th>25</th>\n",
              "      <td>\"Z\"</td>\n",
              "      <td>93172</td>\n",
              "      <td>0.0</td>\n",
              "    </tr>\n",
              "  </tbody>\n",
              "</table>\n",
              "</div>"
            ],
            "text/plain": [
              "     Letter   \"Frequency\"   \"Percentage\"\n",
              "21      \"V\"       2835696            0.9\n",
              "22      \"W\"       6505294            2.2\n",
              "23      \"X\"        562732            0.2\n",
              "24      \"Y\"       5910495            2.0\n",
              "25      \"Z\"         93172            0.0"
            ]
          },
          "metadata": {
            "tags": []
          },
          "execution_count": 9
        }
      ]
    },
    {
      "cell_type": "code",
      "metadata": {
        "colab": {
          "base_uri": "https://localhost:8080/",
          "height": 162
        },
        "id": "LovrfGA_-Blk",
        "outputId": "cc914562-7a56-4058-a221-6a9fe45144af"
      },
      "source": [
        "#Transpose the data\r\n",
        "df.transpose()"
      ],
      "execution_count": 10,
      "outputs": [
        {
          "output_type": "execute_result",
          "data": {
            "text/html": [
              "<div>\n",
              "<style scoped>\n",
              "    .dataframe tbody tr th:only-of-type {\n",
              "        vertical-align: middle;\n",
              "    }\n",
              "\n",
              "    .dataframe tbody tr th {\n",
              "        vertical-align: top;\n",
              "    }\n",
              "\n",
              "    .dataframe thead th {\n",
              "        text-align: right;\n",
              "    }\n",
              "</style>\n",
              "<table border=\"1\" class=\"dataframe\">\n",
              "  <thead>\n",
              "    <tr style=\"text-align: right;\">\n",
              "      <th></th>\n",
              "      <th>0</th>\n",
              "      <th>1</th>\n",
              "      <th>2</th>\n",
              "      <th>3</th>\n",
              "      <th>4</th>\n",
              "      <th>5</th>\n",
              "      <th>6</th>\n",
              "      <th>7</th>\n",
              "      <th>8</th>\n",
              "      <th>9</th>\n",
              "      <th>10</th>\n",
              "      <th>11</th>\n",
              "      <th>12</th>\n",
              "      <th>13</th>\n",
              "      <th>14</th>\n",
              "      <th>15</th>\n",
              "      <th>16</th>\n",
              "      <th>17</th>\n",
              "      <th>18</th>\n",
              "      <th>19</th>\n",
              "      <th>20</th>\n",
              "      <th>21</th>\n",
              "      <th>22</th>\n",
              "      <th>23</th>\n",
              "      <th>24</th>\n",
              "      <th>25</th>\n",
              "    </tr>\n",
              "  </thead>\n",
              "  <tbody>\n",
              "    <tr>\n",
              "      <th>Letter</th>\n",
              "      <td>\"A\"</td>\n",
              "      <td>\"B\"</td>\n",
              "      <td>\"C\"</td>\n",
              "      <td>\"D\"</td>\n",
              "      <td>\"E\"</td>\n",
              "      <td>\"F\"</td>\n",
              "      <td>\"G\"</td>\n",
              "      <td>\"H\"</td>\n",
              "      <td>\"I\"</td>\n",
              "      <td>\"J\"</td>\n",
              "      <td>\"K\"</td>\n",
              "      <td>\"L\"</td>\n",
              "      <td>\"M\"</td>\n",
              "      <td>\"N\"</td>\n",
              "      <td>\"O\"</td>\n",
              "      <td>\"P\"</td>\n",
              "      <td>\"Q\"</td>\n",
              "      <td>\"R\"</td>\n",
              "      <td>\"S\"</td>\n",
              "      <td>\"T\"</td>\n",
              "      <td>\"U\"</td>\n",
              "      <td>\"V\"</td>\n",
              "      <td>\"W\"</td>\n",
              "      <td>\"X\"</td>\n",
              "      <td>\"Y\"</td>\n",
              "      <td>\"Z\"</td>\n",
              "    </tr>\n",
              "    <tr>\n",
              "      <th>\"Frequency\"</th>\n",
              "      <td>24373121</td>\n",
              "      <td>4762938</td>\n",
              "      <td>8982417</td>\n",
              "      <td>10805580</td>\n",
              "      <td>37907119</td>\n",
              "      <td>7486889</td>\n",
              "      <td>5143059</td>\n",
              "      <td>18058207</td>\n",
              "      <td>21820970</td>\n",
              "      <td>474021</td>\n",
              "      <td>1720909</td>\n",
              "      <td>11730498</td>\n",
              "      <td>7391366</td>\n",
              "      <td>21402466</td>\n",
              "      <td>23215532</td>\n",
              "      <td>5719422</td>\n",
              "      <td>297237</td>\n",
              "      <td>17897352</td>\n",
              "      <td>19059775</td>\n",
              "      <td>28691274</td>\n",
              "      <td>8022379</td>\n",
              "      <td>2835696</td>\n",
              "      <td>6505294</td>\n",
              "      <td>562732</td>\n",
              "      <td>5910495</td>\n",
              "      <td>93172</td>\n",
              "    </tr>\n",
              "    <tr>\n",
              "      <th>\"Percentage\"</th>\n",
              "      <td>8.1</td>\n",
              "      <td>1.6</td>\n",
              "      <td>3</td>\n",
              "      <td>3.6</td>\n",
              "      <td>12.6</td>\n",
              "      <td>2.5</td>\n",
              "      <td>1.7</td>\n",
              "      <td>6</td>\n",
              "      <td>7.3</td>\n",
              "      <td>0.2</td>\n",
              "      <td>0.6</td>\n",
              "      <td>3.9</td>\n",
              "      <td>2.5</td>\n",
              "      <td>7.1</td>\n",
              "      <td>7.7</td>\n",
              "      <td>1.9</td>\n",
              "      <td>0.1</td>\n",
              "      <td>5.9</td>\n",
              "      <td>6.3</td>\n",
              "      <td>9.5</td>\n",
              "      <td>2.7</td>\n",
              "      <td>0.9</td>\n",
              "      <td>2.2</td>\n",
              "      <td>0.2</td>\n",
              "      <td>2</td>\n",
              "      <td>0</td>\n",
              "    </tr>\n",
              "  </tbody>\n",
              "</table>\n",
              "</div>"
            ],
            "text/plain": [
              "                     0        1        2   ...       23       24       25\n",
              "Letter              \"A\"      \"B\"      \"C\"  ...      \"X\"      \"Y\"      \"Z\"\n",
              " \"Frequency\"   24373121  4762938  8982417  ...   562732  5910495    93172\n",
              " \"Percentage\"       8.1      1.6        3  ...      0.2        2        0\n",
              "\n",
              "[3 rows x 26 columns]"
            ]
          },
          "metadata": {
            "tags": []
          },
          "execution_count": 10
        }
      ]
    }
  ]
}