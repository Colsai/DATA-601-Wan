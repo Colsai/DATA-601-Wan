{
  "nbformat": 4,
  "nbformat_minor": 0,
  "metadata": {
    "colab": {
      "name": "DATA601_H2A2.ipynb",
      "provenance": [],
      "collapsed_sections": [],
      "authorship_tag": "ABX9TyNl/chvPwHe8Fkqc8qpF0Tl",
      "include_colab_link": true
    },
    "kernelspec": {
      "name": "python3",
      "display_name": "Python 3"
    }
  },
  "cells": [
    {
      "cell_type": "markdown",
      "metadata": {
        "id": "view-in-github",
        "colab_type": "text"
      },
      "source": [
        "<a href=\"https://colab.research.google.com/github/Colsai/DATA_601_Wan/blob/main/DATA601_H2A2.ipynb\" target=\"_parent\"><img src=\"https://colab.research.google.com/assets/colab-badge.svg\" alt=\"Open In Colab\"/></a>"
      ]
    },
    {
      "cell_type": "markdown",
      "metadata": {
        "id": "__bji9-S3QcU"
      },
      "source": [
        "## DATA601 Week 2:HW2 (WAN)\r\n"
      ]
    },
    {
      "cell_type": "markdown",
      "metadata": {
        "id": "KnVse7nJ73oA"
      },
      "source": [
        "## Step 1: Setting Variables\r\n",
        "With indexing, if we just start the indexing for the loop from the end, the inbuilt functions will cycle around back to the length of the list - 1."
      ]
    },
    {
      "cell_type": "code",
      "metadata": {
        "id": "H_PXwdPB7LEw"
      },
      "source": [
        "#Changed list as new list 'mod_list'\r\n",
        "test_list = [0,2,3,4,5,2,3,]\r\n",
        "moved_list = []"
      ],
      "execution_count": null,
      "outputs": []
    },
    {
      "cell_type": "markdown",
      "metadata": {
        "id": "sWGp6xz-7yU2"
      },
      "source": [
        "## Step 2: Function\r\n",
        "With indexing, if we just start the indexing for the loop from the end, the inbuilt functions will cycle around back to the length of the list - 1."
      ]
    },
    {
      "cell_type": "code",
      "metadata": {
        "id": "78eur2pM5fGi"
      },
      "source": [
        "def increase_index(input_list):\r\n",
        "    moved_list = []\r\n",
        "\r\n",
        "    for element in range(-1,len(test_list)-1):\r\n",
        "        moved_list.append(test_list[element])\r\n",
        "    \r\n",
        "    return moved_list"
      ],
      "execution_count": null,
      "outputs": []
    },
    {
      "cell_type": "markdown",
      "metadata": {
        "id": "tzzQa_By78SQ"
      },
      "source": [
        "## Step 3: Test"
      ]
    },
    {
      "cell_type": "code",
      "metadata": {
        "colab": {
          "base_uri": "https://localhost:8080/"
        },
        "id": "9QBnII5n5iXv",
        "outputId": "a19c4859-7bff-4b15-ab15-0eb06895d156"
      },
      "source": [
        "a_list = [0,2,3,4,5,2,3]\r\n",
        "increase_index(a_list)"
      ],
      "execution_count": null,
      "outputs": [
        {
          "output_type": "execute_result",
          "data": {
            "text/plain": [
              "[3, 0, 2, 3, 4, 5, 2]"
            ]
          },
          "metadata": {
            "tags": []
          },
          "execution_count": 11
        }
      ]
    },
    {
      "cell_type": "code",
      "metadata": {
        "id": "AJKRwAsm8Eok"
      },
      "source": [
        "def increase_index_adv(input_list):\r\n",
        "    moved_list = []\r\n",
        "\r\n",
        "    try:\r\n",
        "        for element in range(-1,len(test_list)-1):\r\n",
        "            moved_list.append(test_list[element])   \r\n",
        "        return moved_list\r\n",
        "\r\n",
        "    except:\r\n",
        "        print(\"Your input type must be a list.\")"
      ],
      "execution_count": null,
      "outputs": []
    }
  ]
}