{
  "nbformat": 4,
  "nbformat_minor": 0,
  "metadata": {
    "colab": {
      "name": "DATA601_WK7_HW2.ipynb",
      "provenance": [],
      "collapsed_sections": [],
      "authorship_tag": "ABX9TyMaIomfGsxc0yYh+lF9fMPW",
      "include_colab_link": true
    },
    "kernelspec": {
      "name": "python3",
      "display_name": "Python 3"
    }
  },
  "cells": [
    {
      "cell_type": "markdown",
      "metadata": {
        "id": "view-in-github",
        "colab_type": "text"
      },
      "source": [
        "<a href=\"https://colab.research.google.com/github/Colsai/DATA-601-Wan/blob/main/DATA601_WK7_HW2.ipynb\" target=\"_parent\"><img src=\"https://colab.research.google.com/assets/colab-badge.svg\" alt=\"Open In Colab\"/></a>"
      ]
    },
    {
      "cell_type": "markdown",
      "metadata": {
        "id": "XRsJyzVvPs96"
      },
      "source": [
        "# DATA601 (WAN)\r\n",
        "## WK7HWK2\r\n",
        "- Simulate a fair die and a biased 6-sided die. The biased die has probabilities {0.15, 0.15, 0.15, 0.15, 0.15, 0.25}. \r\n",
        "- Create a visualization that compares outcomes of multiple rolls of a fair die and this biased die. \r\n",
        "- You can use a single visualization or multiple visualizations to demonstrate the difference in outcomes for the dice. The user of your notebook should be able to alter the number of simulations as an argument to a function.​\r\n",
        "- Submit the .ipynb file containing the analysis and the generated pictures.​\r\n",
        "- Include the assignment description in a markdown cell at the top of your notebook."
      ]
    },
    {
      "cell_type": "code",
      "metadata": {
        "id": "doUT-0C1HCac"
      },
      "source": [
        "#Import Packages\r\n",
        "import random\r\n",
        "import re\r\n",
        "import pandas as pd\r\n",
        "import matplotlib.pyplot as plt\r\n",
        "import seaborn as sns"
      ],
      "execution_count": null,
      "outputs": []
    },
    {
      "cell_type": "code",
      "metadata": {
        "colab": {
          "base_uri": "https://localhost:8080/"
        },
        "id": "1iD9qy2qHLlO",
        "outputId": "597044cf-1575-4fd0-92c5-6b8e4d545f10"
      },
      "source": [
        "dir(random)[0:5]"
      ],
      "execution_count": null,
      "outputs": [
        {
          "output_type": "execute_result",
          "data": {
            "text/plain": [
              "['BPF', 'LOG4', 'NV_MAGICCONST', 'RECIP_BPF', 'Random']"
            ]
          },
          "metadata": {
            "tags": []
          },
          "execution_count": 42
        }
      ]
    },
    {
      "cell_type": "code",
      "metadata": {
        "colab": {
          "base_uri": "https://localhost:8080/"
        },
        "id": "hr6gknhUHM5z",
        "outputId": "a3662105-89ab-4eb5-b44d-2dc1c0c6448a"
      },
      "source": [
        "#What functions can we call for random\r\n",
        "for element in dir(random):\r\n",
        "    rand_items = re.match(\"rand\", element)\r\n",
        "    \r\n",
        "    if rand_items:\r\n",
        "        print(element)"
      ],
      "execution_count": null,
      "outputs": [
        {
          "output_type": "stream",
          "text": [
            "randint\n",
            "random\n",
            "randrange\n"
          ],
          "name": "stdout"
        }
      ]
    },
    {
      "cell_type": "code",
      "metadata": {
        "colab": {
          "base_uri": "https://localhost:8080/"
        },
        "id": "VCxXRPe1ILkx",
        "outputId": "4c2605c3-4022-4c02-c16c-3387468941f3"
      },
      "source": [
        "dir(random.random)"
      ],
      "execution_count": null,
      "outputs": [
        {
          "output_type": "execute_result",
          "data": {
            "text/plain": [
              "['__call__',\n",
              " '__class__',\n",
              " '__delattr__',\n",
              " '__dir__',\n",
              " '__doc__',\n",
              " '__eq__',\n",
              " '__format__',\n",
              " '__ge__',\n",
              " '__getattribute__',\n",
              " '__gt__',\n",
              " '__hash__',\n",
              " '__init__',\n",
              " '__init_subclass__',\n",
              " '__le__',\n",
              " '__lt__',\n",
              " '__module__',\n",
              " '__name__',\n",
              " '__ne__',\n",
              " '__new__',\n",
              " '__qualname__',\n",
              " '__reduce__',\n",
              " '__reduce_ex__',\n",
              " '__repr__',\n",
              " '__self__',\n",
              " '__setattr__',\n",
              " '__sizeof__',\n",
              " '__str__',\n",
              " '__subclasshook__',\n",
              " '__text_signature__']"
            ]
          },
          "metadata": {
            "tags": []
          },
          "execution_count": 44
        }
      ]
    },
    {
      "cell_type": "markdown",
      "metadata": {
        "id": "k7-r4PuhJZ39"
      },
      "source": [
        "I'll use random.choices for weighting the di\r\n",
        "https://www.w3schools.com/python/ref_random_choices.asp"
      ]
    },
    {
      "cell_type": "markdown",
      "metadata": {
        "id": "RWYah9UuPk4e"
      },
      "source": [
        "Short functions for \r\n",
        "- regular di (even chance between 1-6)\r\n",
        "- weighted di\r\n"
      ]
    },
    {
      "cell_type": "code",
      "metadata": {
        "id": "sePnCGaTIx6O"
      },
      "source": [
        "def regular_di(sides, rolls):\r\n",
        "    nm_rolls = []    \r\n",
        "    \r\n",
        "    for i in range(0,rolls):\r\n",
        "        nm_rolls.append(random.randint(1,sides))\r\n",
        "    \r\n",
        "    return nm_rolls"
      ],
      "execution_count": null,
      "outputs": []
    },
    {
      "cell_type": "code",
      "metadata": {
        "id": "pTaSgVsOMAkS"
      },
      "source": [
        "def weighted_di(rolls):\r\n",
        "    wt_rolls = []    \r\n",
        "    \r\n",
        "    for i in range(0,rolls):\r\n",
        "        roll = random.choices([1,2,3,4,5,6], [.15,.15,.15,.15,.15,.25])\r\n",
        "    \r\n",
        "    #Random.choices returns as list, select only first elem\r\n",
        "        wt_rolls.append(roll[0])\r\n",
        "    \r\n",
        "    return wt_rolls"
      ],
      "execution_count": null,
      "outputs": []
    },
    {
      "cell_type": "code",
      "metadata": {
        "id": "T8xnKpRcLrBs"
      },
      "source": [
        "#Create Empty Dataframe\r\n",
        "df = pd.DataFrame()"
      ],
      "execution_count": null,
      "outputs": []
    },
    {
      "cell_type": "code",
      "metadata": {
        "colab": {
          "base_uri": "https://localhost:8080/"
        },
        "id": "7OvesLuaJ3tx",
        "outputId": "08d82183-0855-4372-8de5-2cb9f29b56f4"
      },
      "source": [
        "#let's convert this into a series (https://note.nkmk.me/en/python-pandas-list/)\r\n",
        "num_rolls = 1000000\r\n",
        "\r\n",
        "df['regular'] = pd.Series(regular_di(6,num_rolls))\r\n",
        "df['weighted'] = pd.Series(weighted_di(num_rolls))\r\n",
        "df.weighted.value_counts()"
      ],
      "execution_count": null,
      "outputs": [
        {
          "output_type": "execute_result",
          "data": {
            "text/plain": [
              "6    250236\n",
              "2    150866\n",
              "5    149936\n",
              "4    149780\n",
              "3    149669\n",
              "1    149513\n",
              "Name: weighted, dtype: int64"
            ]
          },
          "metadata": {
            "tags": []
          },
          "execution_count": 48
        }
      ]
    },
    {
      "cell_type": "code",
      "metadata": {
        "colab": {
          "base_uri": "https://localhost:8080/",
          "height": 535
        },
        "id": "U3eVoLSxuLnl",
        "outputId": "332785f6-0bae-4cf1-80ec-f879d0fd19a5"
      },
      "source": [
        "#Graph the two\r\n",
        "fig, ax = plt.subplots(figsize = (10,8), sharex = True, sharey= True)\r\n",
        "sns.set_style()\r\n",
        "\r\n",
        "sns.histplot(df.regular +.4, shrink = 2, color = \"red\", label = \"Regular Rolls\")\r\n",
        "sns.histplot(df.weighted+.6, shrink = 2, color = \"blue\", label = \"Weighted Rolls\")\r\n",
        "\r\n",
        "ax.legend()\r\n",
        "plt.title(f\"Weighted Di vs Regular Di, {num_rolls} rolls\")\r\n",
        "plt.xlabel(\"Roll Outcome (1-6)\")\r\n",
        "plt.ylabel(\"Number of Occurences\")"
      ],
      "execution_count": null,
      "outputs": [
        {
          "output_type": "execute_result",
          "data": {
            "text/plain": [
              "Text(0, 0.5, 'Number of Occurences')"
            ]
          },
          "metadata": {
            "tags": []
          },
          "execution_count": 66
        },
        {
          "output_type": "display_data",
          "data": {
            "image/png": "[encoded data removed]",
            "text/plain": [
              "<Figure size 720x576 with 1 Axes>"
            ]
          },
          "metadata": {
            "tags": []
          }
        }
      ]
    }
  ]
}