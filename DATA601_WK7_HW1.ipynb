{
  "nbformat": 4,
  "nbformat_minor": 0,
  "metadata": {
    "colab": {
      "name": "DATA601_WK7_HW1.ipynb",
      "provenance": [],
      "collapsed_sections": [],
      "mount_file_id": "1iuLZO_xH8YDtSwjkU5ck2KqmHVjcl8ba",
      "authorship_tag": "ABX9TyOJfd/u/nsOyaz9p2FDCC4p",
      "include_colab_link": true
    },
    "kernelspec": {
      "name": "python3",
      "display_name": "Python 3"
    }
  },
  "cells": [
    {
      "cell_type": "markdown",
      "metadata": {
        "id": "view-in-github",
        "colab_type": "text"
      },
      "source": [
        "<a href=\"https://colab.research.google.com/github/Colsai/DATA-601-Wan/blob/main/DATA601_WK7_HW1.ipynb\" target=\"_parent\"><img src=\"https://colab.research.google.com/assets/colab-badge.svg\" alt=\"Open In Colab\"/></a>"
      ]
    },
    {
      "cell_type": "markdown",
      "metadata": {
        "id": "ATO1IXmYQDM1"
      },
      "source": [
        "# DATA601 Wan  \n",
        "## WK7 HW1"
      ]
    },
    {
      "cell_type": "markdown",
      "metadata": {
        "id": "g6GYrojc2k5L"
      },
      "source": [
        "### Directions: \n",
        "Acquire power data from this source for at least 10 days and not more than 40 days. The website limits the window size, so you will need to download multiple files. Load the data into a Jupyter Notebook. Combine the multiple input files to create a single dataframe.\n",
        "\n",
        "Create two bar graphs of the power consumption per hour.\n",
        "\n",
        "- One bar graph has 24 bars; each bar is the average across all days for that hour​   \n",
        "- one bar graph has 24*(number of days) bars. \n",
        "- Your choice of average or sum for each hour. Label the y-axis appropriately.\n",
        "- Submit the .ipynb file containing the analysis and the generated pictures.​\n",
        "\n",
        "Include the assignment description in a markdown cell at the top of your notebook.\n",
        "\n",
        "Source: https://www.bmreports.com/bmrs/?q=demand/rollingsystemdemand"
      ]
    },
    {
      "cell_type": "code",
      "metadata": {
        "id": "nbYdtJ5o2QJx"
      },
      "source": [
        "#Import Packages for Use\n",
        "import pandas as pd\n",
        "import datetime\n",
        "from datetime import datetime\n",
        "import matplotlib.pyplot as plt\n",
        "import seaborn as sns"
      ],
      "execution_count": 20,
      "outputs": []
    },
    {
      "cell_type": "code",
      "metadata": {
        "id": "CzcKvRvu3VMo"
      },
      "source": [
        "#The website only allows 7 day collection, so we will important concat two CSV\n",
        "df_demand1 = pd.read_csv('/content/drive/MyDrive/RollingSystemDemand_2021_1.csv')\n",
        "df_demand2 = pd.read_csv('/content/drive/MyDrive/RollingSystemDemand_2021_2.csv')"
      ],
      "execution_count": 21,
      "outputs": []
    },
    {
      "cell_type": "code",
      "metadata": {
        "colab": {
          "base_uri": "https://localhost:8080/"
        },
        "id": "4EIftLJaWM9H",
        "outputId": "a19dbcc8-7d9d-406e-df57-b8a54270322c"
      },
      "source": [
        "#Quick look at dataframe 1\n",
        "df_demand1.info()"
      ],
      "execution_count": 22,
      "outputs": [
        {
          "output_type": "stream",
          "text": [
            "<class 'pandas.core.frame.DataFrame'>\n",
            "Index: 2001 entries, VD to FTR\n",
            "Data columns (total 2 columns):\n",
            " #   Column                 Non-Null Count  Dtype  \n",
            "---  ------                 --------------  -----  \n",
            " 0   HDR                    2001 non-null   int64  \n",
            " 1   ROLLING SYSTEM DEMAND  2000 non-null   float64\n",
            "dtypes: float64(1), int64(1)\n",
            "memory usage: 46.9+ KB\n"
          ],
          "name": "stdout"
        }
      ]
    },
    {
      "cell_type": "code",
      "metadata": {
        "colab": {
          "base_uri": "https://localhost:8080/"
        },
        "id": "hKTrWHL4WRYH",
        "outputId": "37f3818f-1c42-412f-9120-335b93be877b"
      },
      "source": [
        "#Quick look at dataframe 2\n",
        "df_demand2.info()"
      ],
      "execution_count": 23,
      "outputs": [
        {
          "output_type": "stream",
          "text": [
            "<class 'pandas.core.frame.DataFrame'>\n",
            "Index: 2001 entries, VD to FTR\n",
            "Data columns (total 2 columns):\n",
            " #   Column                 Non-Null Count  Dtype  \n",
            "---  ------                 --------------  -----  \n",
            " 0   HDR                    2001 non-null   int64  \n",
            " 1   ROLLING SYSTEM DEMAND  2000 non-null   float64\n",
            "dtypes: float64(1), int64(1)\n",
            "memory usage: 46.9+ KB\n"
          ],
          "name": "stdout"
        }
      ]
    },
    {
      "cell_type": "code",
      "metadata": {
        "colab": {
          "base_uri": "https://localhost:8080/"
        },
        "id": "ZALMH6VbabEE",
        "outputId": "3faefa93-9e78-463b-b2cb-5de35213714a"
      },
      "source": [
        "#What are the values of each of the items?\n",
        "df_demand1.value_counts()"
      ],
      "execution_count": 24,
      "outputs": [
        {
          "output_type": "execute_result",
          "data": {
            "text/plain": [
              "HDR             ROLLING SYSTEM DEMAND\n",
              "20210307223500  30572.0                  1\n",
              "20210303075000  37522.0                  1\n",
              "20210303064500  29393.0                  1\n",
              "20210303065000  29695.0                  1\n",
              "20210303065500  33672.0                  1\n",
              "                                        ..\n",
              "20210305153000  38242.0                  1\n",
              "20210305153500  38238.0                  1\n",
              "20210305154000  38201.0                  1\n",
              "20210305154500  38244.0                  1\n",
              "20210301000000  27035.0                  1\n",
              "Length: 2000, dtype: int64"
            ]
          },
          "metadata": {
            "tags": []
          },
          "execution_count": 24
        }
      ]
    },
    {
      "cell_type": "markdown",
      "metadata": {
        "id": "ERRymw1pafvk"
      },
      "source": [
        "Since some of the values have null values in them, I'll drop them here. It will allow an easier conversion to datetime later. "
      ]
    },
    {
      "cell_type": "code",
      "metadata": {
        "id": "gAF66kseaGKw"
      },
      "source": [
        "#Since some of the values are the \n",
        "df_demand1 = df_demand1.dropna()\n",
        "df_demand2 = df_demand2.dropna()"
      ],
      "execution_count": 25,
      "outputs": []
    },
    {
      "cell_type": "markdown",
      "metadata": {
        "id": "7hXNpPDjRi1T"
      },
      "source": [
        "Simple list concat of the two dataframes  \n",
        "Source: Pandas 1.X Cookbook"
      ]
    },
    {
      "cell_type": "code",
      "metadata": {
        "id": "6ABDuocFRFid"
      },
      "source": [
        "#Concat the dataframes\n",
        "df_list = [df_demand1, df_demand2]\n",
        "df = pd.concat(df_list)\n",
        "#df.columns = [\"VD\", \"Time\", \"Demand\"]"
      ],
      "execution_count": 26,
      "outputs": []
    },
    {
      "cell_type": "code",
      "metadata": {
        "colab": {
          "base_uri": "https://localhost:8080/",
          "height": 202
        },
        "id": "uY_PhlkBY9l8",
        "outputId": "c0b1475d-332a-459a-e1be-72744fcbe34e"
      },
      "source": [
        "#What does the head of the data look like?\n",
        "df.head()"
      ],
      "execution_count": 27,
      "outputs": [
        {
          "output_type": "execute_result",
          "data": {
            "text/html": [
              "<div>\n",
              "<style scoped>\n",
              "    .dataframe tbody tr th:only-of-type {\n",
              "        vertical-align: middle;\n",
              "    }\n",
              "\n",
              "    .dataframe tbody tr th {\n",
              "        vertical-align: top;\n",
              "    }\n",
              "\n",
              "    .dataframe thead th {\n",
              "        text-align: right;\n",
              "    }\n",
              "</style>\n",
              "<table border=\"1\" class=\"dataframe\">\n",
              "  <thead>\n",
              "    <tr style=\"text-align: right;\">\n",
              "      <th></th>\n",
              "      <th>HDR</th>\n",
              "      <th>ROLLING SYSTEM DEMAND</th>\n",
              "    </tr>\n",
              "  </thead>\n",
              "  <tbody>\n",
              "    <tr>\n",
              "      <th>VD</th>\n",
              "      <td>20210301000000</td>\n",
              "      <td>27035.0</td>\n",
              "    </tr>\n",
              "    <tr>\n",
              "      <th>VD</th>\n",
              "      <td>20210301000500</td>\n",
              "      <td>27069.0</td>\n",
              "    </tr>\n",
              "    <tr>\n",
              "      <th>VD</th>\n",
              "      <td>20210301001000</td>\n",
              "      <td>27109.0</td>\n",
              "    </tr>\n",
              "    <tr>\n",
              "      <th>VD</th>\n",
              "      <td>20210301001500</td>\n",
              "      <td>27197.0</td>\n",
              "    </tr>\n",
              "    <tr>\n",
              "      <th>VD</th>\n",
              "      <td>20210301002000</td>\n",
              "      <td>27248.0</td>\n",
              "    </tr>\n",
              "  </tbody>\n",
              "</table>\n",
              "</div>"
            ],
            "text/plain": [
              "               HDR  ROLLING SYSTEM DEMAND\n",
              "VD  20210301000000                27035.0\n",
              "VD  20210301000500                27069.0\n",
              "VD  20210301001000                27109.0\n",
              "VD  20210301001500                27197.0\n",
              "VD  20210301002000                27248.0"
            ]
          },
          "metadata": {
            "tags": []
          },
          "execution_count": 27
        }
      ]
    },
    {
      "cell_type": "code",
      "metadata": {
        "colab": {
          "base_uri": "https://localhost:8080/",
          "height": 202
        },
        "id": "vNUYm4CQ3jD-",
        "outputId": "73cccb6a-8001-408b-a1fa-b904f2d115b4"
      },
      "source": [
        "#What does the tail look like?\n",
        "df.tail()"
      ],
      "execution_count": 28,
      "outputs": [
        {
          "output_type": "execute_result",
          "data": {
            "text/html": [
              "<div>\n",
              "<style scoped>\n",
              "    .dataframe tbody tr th:only-of-type {\n",
              "        vertical-align: middle;\n",
              "    }\n",
              "\n",
              "    .dataframe tbody tr th {\n",
              "        vertical-align: top;\n",
              "    }\n",
              "\n",
              "    .dataframe thead th {\n",
              "        text-align: right;\n",
              "    }\n",
              "</style>\n",
              "<table border=\"1\" class=\"dataframe\">\n",
              "  <thead>\n",
              "    <tr style=\"text-align: right;\">\n",
              "      <th></th>\n",
              "      <th>HDR</th>\n",
              "      <th>ROLLING SYSTEM DEMAND</th>\n",
              "    </tr>\n",
              "  </thead>\n",
              "  <tbody>\n",
              "    <tr>\n",
              "      <th>VD</th>\n",
              "      <td>20210314221500</td>\n",
              "      <td>27686.0</td>\n",
              "    </tr>\n",
              "    <tr>\n",
              "      <th>VD</th>\n",
              "      <td>20210314222000</td>\n",
              "      <td>27396.0</td>\n",
              "    </tr>\n",
              "    <tr>\n",
              "      <th>VD</th>\n",
              "      <td>20210314222500</td>\n",
              "      <td>27142.0</td>\n",
              "    </tr>\n",
              "    <tr>\n",
              "      <th>VD</th>\n",
              "      <td>20210314223000</td>\n",
              "      <td>26939.0</td>\n",
              "    </tr>\n",
              "    <tr>\n",
              "      <th>VD</th>\n",
              "      <td>20210314223500</td>\n",
              "      <td>26797.0</td>\n",
              "    </tr>\n",
              "  </tbody>\n",
              "</table>\n",
              "</div>"
            ],
            "text/plain": [
              "               HDR  ROLLING SYSTEM DEMAND\n",
              "VD  20210314221500                27686.0\n",
              "VD  20210314222000                27396.0\n",
              "VD  20210314222500                27142.0\n",
              "VD  20210314223000                26939.0\n",
              "VD  20210314223500                26797.0"
            ]
          },
          "metadata": {
            "tags": []
          },
          "execution_count": 28
        }
      ]
    },
    {
      "cell_type": "markdown",
      "metadata": {
        "id": "VhJrQMfgR1cc"
      },
      "source": [
        "So the format is YYYY-MMDD-??????  \n",
        "Time markers appear to be in 500 intervals after.\n",
        "\n",
        "Next step: REF- Notebook 7 Time Series Final"
      ]
    },
    {
      "cell_type": "code",
      "metadata": {
        "id": "bZ1Ddr8vZH4D"
      },
      "source": [
        "df['HDR']=pd.to_datetime(df['HDR'].astype(str),format='%Y%m%d%H%M%S')"
      ],
      "execution_count": 29,
      "outputs": []
    },
    {
      "cell_type": "code",
      "metadata": {
        "colab": {
          "base_uri": "https://localhost:8080/",
          "height": 202
        },
        "id": "t1BJHKO873MD",
        "outputId": "9f403a22-1626-4d69-ad9f-03638fe082c4"
      },
      "source": [
        "#First element\n",
        "df.tail()"
      ],
      "execution_count": 30,
      "outputs": [
        {
          "output_type": "execute_result",
          "data": {
            "text/html": [
              "<div>\n",
              "<style scoped>\n",
              "    .dataframe tbody tr th:only-of-type {\n",
              "        vertical-align: middle;\n",
              "    }\n",
              "\n",
              "    .dataframe tbody tr th {\n",
              "        vertical-align: top;\n",
              "    }\n",
              "\n",
              "    .dataframe thead th {\n",
              "        text-align: right;\n",
              "    }\n",
              "</style>\n",
              "<table border=\"1\" class=\"dataframe\">\n",
              "  <thead>\n",
              "    <tr style=\"text-align: right;\">\n",
              "      <th></th>\n",
              "      <th>HDR</th>\n",
              "      <th>ROLLING SYSTEM DEMAND</th>\n",
              "    </tr>\n",
              "  </thead>\n",
              "  <tbody>\n",
              "    <tr>\n",
              "      <th>VD</th>\n",
              "      <td>2021-03-14 22:15:00</td>\n",
              "      <td>27686.0</td>\n",
              "    </tr>\n",
              "    <tr>\n",
              "      <th>VD</th>\n",
              "      <td>2021-03-14 22:20:00</td>\n",
              "      <td>27396.0</td>\n",
              "    </tr>\n",
              "    <tr>\n",
              "      <th>VD</th>\n",
              "      <td>2021-03-14 22:25:00</td>\n",
              "      <td>27142.0</td>\n",
              "    </tr>\n",
              "    <tr>\n",
              "      <th>VD</th>\n",
              "      <td>2021-03-14 22:30:00</td>\n",
              "      <td>26939.0</td>\n",
              "    </tr>\n",
              "    <tr>\n",
              "      <th>VD</th>\n",
              "      <td>2021-03-14 22:35:00</td>\n",
              "      <td>26797.0</td>\n",
              "    </tr>\n",
              "  </tbody>\n",
              "</table>\n",
              "</div>"
            ],
            "text/plain": [
              "                   HDR  ROLLING SYSTEM DEMAND\n",
              "VD 2021-03-14 22:15:00                27686.0\n",
              "VD 2021-03-14 22:20:00                27396.0\n",
              "VD 2021-03-14 22:25:00                27142.0\n",
              "VD 2021-03-14 22:30:00                26939.0\n",
              "VD 2021-03-14 22:35:00                26797.0"
            ]
          },
          "metadata": {
            "tags": []
          },
          "execution_count": 30
        }
      ]
    },
    {
      "cell_type": "code",
      "metadata": {
        "colab": {
          "base_uri": "https://localhost:8080/",
          "height": 359
        },
        "id": "8YR_a3nc3nmS",
        "outputId": "317e864d-cf3e-45ba-cca7-a5e128dc1fe8"
      },
      "source": [
        "#Starting out trying to graph our data (similar patterns to classwork example)\n",
        "plt.scatter(x = 'HDR', \n",
        "            y = 'ROLLING SYSTEM DEMAND', \n",
        "            data = df)\n",
        "\n",
        "plt.xticks(rotation='vertical')\n",
        "plt.tick_params(labelsize=12)\n",
        "plt.title(\"Power Demand- 3/1-3/18\")\n",
        "plt.xlabel('date',fontsize=14)\n",
        "plt.ylabel('demand [MegaWatts]',fontsize=12)\n",
        "plt.show()"
      ],
      "execution_count": 31,
      "outputs": [
        {
          "output_type": "display_data",
          "data": {
            "image/png": "[encoded data removed]",
            "text/plain": [
              "<Figure size 432x288 with 1 Axes>"
            ]
          },
          "metadata": {
            "tags": []
          }
        }
      ]
    },
    {
      "cell_type": "markdown",
      "metadata": {
        "id": "c1yGaMqNRuP9"
      },
      "source": [
        "Looks like we're getting there. We have all of the data of each day, now we just have to figure out a way to connect the troughs and peaks per day. "
      ]
    },
    {
      "cell_type": "markdown",
      "metadata": {
        "id": "cZ0d4vwfeCAB"
      },
      "source": [
        "https://stackoverflow.com/questions/33227473/how-to-set-the-range-of-y-axis-for-a-seaborn-boxplot"
      ]
    },
    {
      "cell_type": "code",
      "metadata": {
        "id": "0Cy6F93xeoKv"
      },
      "source": [
        "import matplotlib.ticker as ticker"
      ],
      "execution_count": 32,
      "outputs": []
    },
    {
      "cell_type": "code",
      "metadata": {
        "id": "iSlXz9l630PM",
        "colab": {
          "base_uri": "https://localhost:8080/",
          "height": 517
        },
        "outputId": "41e56beb-0bb3-4433-d733-370c963c5def"
      },
      "source": [
        "#Let's visualize this in seaborn for a nicer-looking visualization\n",
        "\n",
        "fig, ax = plt.subplots(figsize = (14,8))\n",
        "sns.set_style(\"whitegrid\")\n",
        "ax.grid(alpha = .5)\n",
        "\n",
        "sns.lineplot(x = 'HDR', y=\"ROLLING SYSTEM DEMAND\", data = df, alpha = .75, color = 'black', linewidth = 2)\n",
        "\n",
        "ax.set_title(\"Electricity Demand, March 01, 2021 through March 15, 2021.\", size = 14)\n",
        "ax.set_xlabel(\"Date\", size = 12)\n",
        "ax.set_ylabel(\"Demand (in Megawatts)\", size = 12)\n",
        "ax.set_yscale(\"linear\")\n",
        "\n",
        "#Change the minimum, so that scales from 0\n",
        "ax.set(ylim=(0, 4.5e4))\n",
        "ax.xaxis.set_major_locator(ticker.MultipleLocator(2))"
      ],
      "execution_count": 33,
      "outputs": [
        {
          "output_type": "display_data",
          "data": {
            "image/png": "[encoded data removed]",
            "text/plain": [
              "<Figure size 1008x576 with 1 Axes>"
            ]
          },
          "metadata": {
            "tags": []
          }
        }
      ]
    },
    {
      "cell_type": "markdown",
      "metadata": {
        "id": "ZYrP6idxSsT1"
      },
      "source": [
        "Bar Graphs"
      ]
    },
    {
      "cell_type": "code",
      "metadata": {
        "id": "4_qS0YgffZD1",
        "colab": {
          "base_uri": "https://localhost:8080/",
          "height": 509
        },
        "outputId": "61c82e06-f26f-486c-fe51-6fa69b7de640"
      },
      "source": [
        "df.groupby(df['HDR'].dt.day).agg(\"mean\")"
      ],
      "execution_count": 34,
      "outputs": [
        {
          "output_type": "execute_result",
          "data": {
            "text/html": [
              "<div>\n",
              "<style scoped>\n",
              "    .dataframe tbody tr th:only-of-type {\n",
              "        vertical-align: middle;\n",
              "    }\n",
              "\n",
              "    .dataframe tbody tr th {\n",
              "        vertical-align: top;\n",
              "    }\n",
              "\n",
              "    .dataframe thead th {\n",
              "        text-align: right;\n",
              "    }\n",
              "</style>\n",
              "<table border=\"1\" class=\"dataframe\">\n",
              "  <thead>\n",
              "    <tr style=\"text-align: right;\">\n",
              "      <th></th>\n",
              "      <th>ROLLING SYSTEM DEMAND</th>\n",
              "    </tr>\n",
              "    <tr>\n",
              "      <th>HDR</th>\n",
              "      <th></th>\n",
              "    </tr>\n",
              "  </thead>\n",
              "  <tbody>\n",
              "    <tr>\n",
              "      <th>1</th>\n",
              "      <td>33984.649306</td>\n",
              "    </tr>\n",
              "    <tr>\n",
              "      <th>2</th>\n",
              "      <td>35063.420139</td>\n",
              "    </tr>\n",
              "    <tr>\n",
              "      <th>3</th>\n",
              "      <td>36126.416667</td>\n",
              "    </tr>\n",
              "    <tr>\n",
              "      <th>4</th>\n",
              "      <td>35634.614583</td>\n",
              "    </tr>\n",
              "    <tr>\n",
              "      <th>5</th>\n",
              "      <td>35039.145833</td>\n",
              "    </tr>\n",
              "    <tr>\n",
              "      <th>6</th>\n",
              "      <td>32103.458333</td>\n",
              "    </tr>\n",
              "    <tr>\n",
              "      <th>7</th>\n",
              "      <td>31498.154412</td>\n",
              "    </tr>\n",
              "    <tr>\n",
              "      <th>8</th>\n",
              "      <td>33933.798611</td>\n",
              "    </tr>\n",
              "    <tr>\n",
              "      <th>9</th>\n",
              "      <td>31766.062500</td>\n",
              "    </tr>\n",
              "    <tr>\n",
              "      <th>10</th>\n",
              "      <td>31560.076389</td>\n",
              "    </tr>\n",
              "    <tr>\n",
              "      <th>11</th>\n",
              "      <td>29353.295139</td>\n",
              "    </tr>\n",
              "    <tr>\n",
              "      <th>12</th>\n",
              "      <td>29276.725694</td>\n",
              "    </tr>\n",
              "    <tr>\n",
              "      <th>13</th>\n",
              "      <td>27359.819444</td>\n",
              "    </tr>\n",
              "    <tr>\n",
              "      <th>14</th>\n",
              "      <td>28171.955882</td>\n",
              "    </tr>\n",
              "  </tbody>\n",
              "</table>\n",
              "</div>"
            ],
            "text/plain": [
              "     ROLLING SYSTEM DEMAND\n",
              "HDR                       \n",
              "1             33984.649306\n",
              "2             35063.420139\n",
              "3             36126.416667\n",
              "4             35634.614583\n",
              "5             35039.145833\n",
              "6             32103.458333\n",
              "7             31498.154412\n",
              "8             33933.798611\n",
              "9             31766.062500\n",
              "10            31560.076389\n",
              "11            29353.295139\n",
              "12            29276.725694\n",
              "13            27359.819444\n",
              "14            28171.955882"
            ]
          },
          "metadata": {
            "tags": []
          },
          "execution_count": 34
        }
      ]
    },
    {
      "cell_type": "markdown",
      "metadata": {
        "id": "pVkVcH8qbOyw"
      },
      "source": [
        "Date Aggregation: https://stackoverflow.com/questions/11391969/how-to-group-pandas-dataframe-entries-by-date-in-a-non-unique-column\n",
        "Rounding date values up for labeling: https://pandas.pydata.org/pandas-docs/stable/reference/api/pandas.Series.dt.round.html\n"
      ]
    },
    {
      "cell_type": "code",
      "metadata": {
        "id": "OW0IzaF9dwqx"
      },
      "source": [
        "df_days = df.set_index('HDR').resample(\"D\")[\"ROLLING SYSTEM DEMAND\"].mean().reset_index()\n",
        "df_days['HDR'] = df_days['HDR'].dt.round(\"H\")\n",
        "\n",
        "df_hours =  df.set_index('HDR').resample(\"H\")[\"ROLLING SYSTEM DEMAND\"].mean().reset_index()"
      ],
      "execution_count": 35,
      "outputs": []
    },
    {
      "cell_type": "code",
      "metadata": {
        "colab": {
          "base_uri": "https://localhost:8080/",
          "height": 478
        },
        "id": "55dkMk8wedTW",
        "outputId": "b21ba4f6-ca15-41a3-ccbf-7dca33eb5525"
      },
      "source": [
        "df_days"
      ],
      "execution_count": 36,
      "outputs": [
        {
          "output_type": "execute_result",
          "data": {
            "text/html": [
              "<div>\n",
              "<style scoped>\n",
              "    .dataframe tbody tr th:only-of-type {\n",
              "        vertical-align: middle;\n",
              "    }\n",
              "\n",
              "    .dataframe tbody tr th {\n",
              "        vertical-align: top;\n",
              "    }\n",
              "\n",
              "    .dataframe thead th {\n",
              "        text-align: right;\n",
              "    }\n",
              "</style>\n",
              "<table border=\"1\" class=\"dataframe\">\n",
              "  <thead>\n",
              "    <tr style=\"text-align: right;\">\n",
              "      <th></th>\n",
              "      <th>HDR</th>\n",
              "      <th>ROLLING SYSTEM DEMAND</th>\n",
              "    </tr>\n",
              "  </thead>\n",
              "  <tbody>\n",
              "    <tr>\n",
              "      <th>0</th>\n",
              "      <td>2021-03-01</td>\n",
              "      <td>33984.649306</td>\n",
              "    </tr>\n",
              "    <tr>\n",
              "      <th>1</th>\n",
              "      <td>2021-03-02</td>\n",
              "      <td>35063.420139</td>\n",
              "    </tr>\n",
              "    <tr>\n",
              "      <th>2</th>\n",
              "      <td>2021-03-03</td>\n",
              "      <td>36126.416667</td>\n",
              "    </tr>\n",
              "    <tr>\n",
              "      <th>3</th>\n",
              "      <td>2021-03-04</td>\n",
              "      <td>35634.614583</td>\n",
              "    </tr>\n",
              "    <tr>\n",
              "      <th>4</th>\n",
              "      <td>2021-03-05</td>\n",
              "      <td>35039.145833</td>\n",
              "    </tr>\n",
              "    <tr>\n",
              "      <th>5</th>\n",
              "      <td>2021-03-06</td>\n",
              "      <td>32103.458333</td>\n",
              "    </tr>\n",
              "    <tr>\n",
              "      <th>6</th>\n",
              "      <td>2021-03-07</td>\n",
              "      <td>31498.154412</td>\n",
              "    </tr>\n",
              "    <tr>\n",
              "      <th>7</th>\n",
              "      <td>2021-03-08</td>\n",
              "      <td>33933.798611</td>\n",
              "    </tr>\n",
              "    <tr>\n",
              "      <th>8</th>\n",
              "      <td>2021-03-09</td>\n",
              "      <td>31766.062500</td>\n",
              "    </tr>\n",
              "    <tr>\n",
              "      <th>9</th>\n",
              "      <td>2021-03-10</td>\n",
              "      <td>31560.076389</td>\n",
              "    </tr>\n",
              "    <tr>\n",
              "      <th>10</th>\n",
              "      <td>2021-03-11</td>\n",
              "      <td>29353.295139</td>\n",
              "    </tr>\n",
              "    <tr>\n",
              "      <th>11</th>\n",
              "      <td>2021-03-12</td>\n",
              "      <td>29276.725694</td>\n",
              "    </tr>\n",
              "    <tr>\n",
              "      <th>12</th>\n",
              "      <td>2021-03-13</td>\n",
              "      <td>27359.819444</td>\n",
              "    </tr>\n",
              "    <tr>\n",
              "      <th>13</th>\n",
              "      <td>2021-03-14</td>\n",
              "      <td>28171.955882</td>\n",
              "    </tr>\n",
              "  </tbody>\n",
              "</table>\n",
              "</div>"
            ],
            "text/plain": [
              "          HDR  ROLLING SYSTEM DEMAND\n",
              "0  2021-03-01           33984.649306\n",
              "1  2021-03-02           35063.420139\n",
              "2  2021-03-03           36126.416667\n",
              "3  2021-03-04           35634.614583\n",
              "4  2021-03-05           35039.145833\n",
              "5  2021-03-06           32103.458333\n",
              "6  2021-03-07           31498.154412\n",
              "7  2021-03-08           33933.798611\n",
              "8  2021-03-09           31766.062500\n",
              "9  2021-03-10           31560.076389\n",
              "10 2021-03-11           29353.295139\n",
              "11 2021-03-12           29276.725694\n",
              "12 2021-03-13           27359.819444\n",
              "13 2021-03-14           28171.955882"
            ]
          },
          "metadata": {
            "tags": []
          },
          "execution_count": 36
        }
      ]
    },
    {
      "cell_type": "markdown",
      "metadata": {
        "id": "-zxmI8VE75FY"
      },
      "source": [
        "#Part 2:\n",
        "Average across all hours...\n",
        "- One bar graph has 24 bars; each bar is the average across all days for that hour​   \n",
        "- one bar graph has 24*(number of days) bars. \n",
        "- Your choice of average or sum for each hour. Label the y-axis appropriately.\n",
        "- Submit the .ipynb file containing the analysis and the generated pictures.​"
      ]
    },
    {
      "cell_type": "code",
      "metadata": {
        "id": "3zArf9KNQc3L"
      },
      "source": [
        "df['Hour'] = [elem.hour for elem in df['HDR']]"
      ],
      "execution_count": 38,
      "outputs": []
    },
    {
      "cell_type": "markdown",
      "metadata": {
        "id": "Qbl8nSZvVn8l"
      },
      "source": [
        "To aggregate values easier,  I will add and return two items to the dataframe (to preserve the dataframe, I could also extract the elements into a new dataframe)"
      ]
    },
    {
      "cell_type": "code",
      "metadata": {
        "colab": {
          "base_uri": "https://localhost:8080/",
          "height": 202
        },
        "id": "cRSW1dkjSMHK",
        "outputId": "e500e332-611d-437a-ce12-24d08c6096a8"
      },
      "source": [
        "df.sample(5)"
      ],
      "execution_count": 39,
      "outputs": [
        {
          "output_type": "execute_result",
          "data": {
            "text/html": [
              "<div>\n",
              "<style scoped>\n",
              "    .dataframe tbody tr th:only-of-type {\n",
              "        vertical-align: middle;\n",
              "    }\n",
              "\n",
              "    .dataframe tbody tr th {\n",
              "        vertical-align: top;\n",
              "    }\n",
              "\n",
              "    .dataframe thead th {\n",
              "        text-align: right;\n",
              "    }\n",
              "</style>\n",
              "<table border=\"1\" class=\"dataframe\">\n",
              "  <thead>\n",
              "    <tr style=\"text-align: right;\">\n",
              "      <th></th>\n",
              "      <th>HDR</th>\n",
              "      <th>ROLLING SYSTEM DEMAND</th>\n",
              "      <th>Hour</th>\n",
              "    </tr>\n",
              "  </thead>\n",
              "  <tbody>\n",
              "    <tr>\n",
              "      <th>VD</th>\n",
              "      <td>2021-03-13 15:15:00</td>\n",
              "      <td>26747.0</td>\n",
              "      <td>15</td>\n",
              "    </tr>\n",
              "    <tr>\n",
              "      <th>VD</th>\n",
              "      <td>2021-03-05 01:50:00</td>\n",
              "      <td>28987.0</td>\n",
              "      <td>1</td>\n",
              "    </tr>\n",
              "    <tr>\n",
              "      <th>VD</th>\n",
              "      <td>2021-03-11 21:20:00</td>\n",
              "      <td>31147.0</td>\n",
              "      <td>21</td>\n",
              "    </tr>\n",
              "    <tr>\n",
              "      <th>VD</th>\n",
              "      <td>2021-03-13 23:05:00</td>\n",
              "      <td>26283.0</td>\n",
              "      <td>23</td>\n",
              "    </tr>\n",
              "    <tr>\n",
              "      <th>VD</th>\n",
              "      <td>2021-03-04 09:55:00</td>\n",
              "      <td>38871.0</td>\n",
              "      <td>9</td>\n",
              "    </tr>\n",
              "  </tbody>\n",
              "</table>\n",
              "</div>"
            ],
            "text/plain": [
              "                   HDR  ROLLING SYSTEM DEMAND  Hour\n",
              "VD 2021-03-13 15:15:00                26747.0    15\n",
              "VD 2021-03-05 01:50:00                28987.0     1\n",
              "VD 2021-03-11 21:20:00                31147.0    21\n",
              "VD 2021-03-13 23:05:00                26283.0    23\n",
              "VD 2021-03-04 09:55:00                38871.0     9"
            ]
          },
          "metadata": {
            "tags": []
          },
          "execution_count": 39
        }
      ]
    },
    {
      "cell_type": "code",
      "metadata": {
        "id": "J547uoaMSMl6"
      },
      "source": [
        "df_byhour = df.groupby(\"Hour\", as_index = False).agg(\"sum\")"
      ],
      "execution_count": 40,
      "outputs": []
    },
    {
      "cell_type": "code",
      "metadata": {
        "colab": {
          "base_uri": "https://localhost:8080/"
        },
        "id": "GyYNqwVCSSYN",
        "outputId": "30e4168e-c915-46d7-b983-d2cfbf92f663"
      },
      "source": [
        "df_byhour.columns"
      ],
      "execution_count": 41,
      "outputs": [
        {
          "output_type": "execute_result",
          "data": {
            "text/plain": [
              "Index(['Hour', 'ROLLING SYSTEM DEMAND'], dtype='object')"
            ]
          },
          "metadata": {
            "tags": []
          },
          "execution_count": 41
        }
      ]
    },
    {
      "cell_type": "code",
      "metadata": {
        "colab": {
          "base_uri": "https://localhost:8080/",
          "height": 307
        },
        "id": "1k9YPSmjSeXg",
        "outputId": "4376c708-93dd-48bd-b0ae-75e33fbfa0eb"
      },
      "source": [
        "sns.barplot(x = 'Hour',y = 'ROLLING SYSTEM DEMAND', data = df_byhour)"
      ],
      "execution_count": 42,
      "outputs": [
        {
          "output_type": "execute_result",
          "data": {
            "text/plain": [
              "<matplotlib.axes._subplots.AxesSubplot at 0x7f34128367d0>"
            ]
          },
          "metadata": {
            "tags": []
          },
          "execution_count": 42
        },
        {
          "output_type": "display_data",
          "data": {
            "image/png": "[encoded data removed]",
            "text/plain": [
              "<Figure size 432x288 with 1 Axes>"
            ]
          },
          "metadata": {
            "tags": []
          }
        }
      ]
    },
    {
      "cell_type": "markdown",
      "metadata": {
        "id": "9huLBF6q_8PF"
      },
      "source": [
        "Let's make the visualization a little more clear, and add some labels to each bar:  \n",
        "\n",
        "ref- https://wellsr.com/python/seaborn-barplot-tutorial-for-python/"
      ]
    },
    {
      "cell_type": "code",
      "metadata": {
        "colab": {
          "base_uri": "https://localhost:8080/",
          "height": 736
        },
        "id": "PURw-GxHSnhZ",
        "outputId": "d0bb2579-047b-4128-c76f-f3dd4b3a6532"
      },
      "source": [
        "#Styles\n",
        "fig, ax = plt.subplots(1, figsize = (20,12))\n",
        "sns.set_style(\"whitegrid\")\n",
        "\n",
        "#Barplot Call\n",
        "sns.barplot(x = 'Hour', \n",
        "            y=\"ROLLING SYSTEM DEMAND\",\n",
        "            data = df_byhour, \n",
        "            alpha = .9, \n",
        "            color = 'black',  \n",
        "            linewidth = 2,  \n",
        "            dodge = True)\n",
        "\n",
        "#Grid and Text Information\n",
        "ax.grid(alpha = .5, axis = 'both')\n",
        "ax.set_title(\"Aggregated Electricity Demand Per Hour (March 01, 2021- March 15, 2021)\", size = 16)\n",
        "ax.set_xlabel(\"Hour\", size = 14)\n",
        "ax.set_ylabel(\"Demand (in Megawatts)\", size = 14)\n",
        "ax.set_yscale(\"linear\")\n",
        "\n",
        "#Change the minimum, so that scales from 0\n",
        "ax.set(ylim=(0, 1e7))\n",
        "\n",
        "for index, row in df_byhour.iterrows():\n",
        "    ax.text(row.Hour,row['ROLLING SYSTEM DEMAND'], int(round(row['ROLLING SYSTEM DEMAND'],-3)), color='black', ha=\"center\", size = 9)"
      ],
      "execution_count": 132,
      "outputs": [
        {
          "output_type": "display_data",
          "data": {
            "image/png": "[encoded data removed]",
            "text/plain": [
              "<Figure size 1440x864 with 1 Axes>"
            ]
          },
          "metadata": {
            "tags": []
          }
        }
      ]
    },
    {
      "cell_type": "code",
      "metadata": {
        "colab": {
          "base_uri": "https://localhost:8080/",
          "height": 294
        },
        "id": "nMvupaeH-X8H",
        "outputId": "497208d7-1fc6-482d-8642-1881f83d664c"
      },
      "source": [
        "df_byhour.describe()"
      ],
      "execution_count": 104,
      "outputs": [
        {
          "output_type": "execute_result",
          "data": {
            "text/html": [
              "<div>\n",
              "<style scoped>\n",
              "    .dataframe tbody tr th:only-of-type {\n",
              "        vertical-align: middle;\n",
              "    }\n",
              "\n",
              "    .dataframe tbody tr th {\n",
              "        vertical-align: top;\n",
              "    }\n",
              "\n",
              "    .dataframe thead th {\n",
              "        text-align: right;\n",
              "    }\n",
              "</style>\n",
              "<table border=\"1\" class=\"dataframe\">\n",
              "  <thead>\n",
              "    <tr style=\"text-align: right;\">\n",
              "      <th></th>\n",
              "      <th>Hour</th>\n",
              "      <th>ROLLING SYSTEM DEMAND</th>\n",
              "    </tr>\n",
              "  </thead>\n",
              "  <tbody>\n",
              "    <tr>\n",
              "      <th>count</th>\n",
              "      <td>24.000000</td>\n",
              "      <td>2.400000e+01</td>\n",
              "    </tr>\n",
              "    <tr>\n",
              "      <th>mean</th>\n",
              "      <td>11.500000</td>\n",
              "      <td>5.370679e+06</td>\n",
              "    </tr>\n",
              "    <tr>\n",
              "      <th>std</th>\n",
              "      <td>7.071068</td>\n",
              "      <td>7.914301e+05</td>\n",
              "    </tr>\n",
              "    <tr>\n",
              "      <th>min</th>\n",
              "      <td>0.000000</td>\n",
              "      <td>3.973699e+06</td>\n",
              "    </tr>\n",
              "    <tr>\n",
              "      <th>25%</th>\n",
              "      <td>5.750000</td>\n",
              "      <td>4.564171e+06</td>\n",
              "    </tr>\n",
              "    <tr>\n",
              "      <th>50%</th>\n",
              "      <td>11.500000</td>\n",
              "      <td>5.653710e+06</td>\n",
              "    </tr>\n",
              "    <tr>\n",
              "      <th>75%</th>\n",
              "      <td>17.250000</td>\n",
              "      <td>5.771571e+06</td>\n",
              "    </tr>\n",
              "    <tr>\n",
              "      <th>max</th>\n",
              "      <td>23.000000</td>\n",
              "      <td>6.761490e+06</td>\n",
              "    </tr>\n",
              "  </tbody>\n",
              "</table>\n",
              "</div>"
            ],
            "text/plain": [
              "            Hour  ROLLING SYSTEM DEMAND\n",
              "count  24.000000           2.400000e+01\n",
              "mean   11.500000           5.370679e+06\n",
              "std     7.071068           7.914301e+05\n",
              "min     0.000000           3.973699e+06\n",
              "25%     5.750000           4.564171e+06\n",
              "50%    11.500000           5.653710e+06\n",
              "75%    17.250000           5.771571e+06\n",
              "max    23.000000           6.761490e+06"
            ]
          },
          "metadata": {
            "tags": []
          },
          "execution_count": 104
        }
      ]
    },
    {
      "cell_type": "markdown",
      "metadata": {
        "id": "fyrXzf1g-UVH"
      },
      "source": [
        "**Analysis:**\n",
        "Morning ahours between 23 (11:00pm) to 5 (5am) appear to have the lowest times of energy consumption, where 6-18 (6:00am to 6pm), we mostly see an increase and higher energy comsumptions, with slight droppoffs after the morning hours.  \n",
        "\n",
        "Over the two-week period sampled, the 23rd hour (11:00pm) appears to be the lowest usage of electricity, and 18th hour (6:00pm) appears to be the highest. Average usage per hour is about 5.37e6 megawatts."
      ]
    },
    {
      "cell_type": "code",
      "metadata": {
        "colab": {
          "base_uri": "https://localhost:8080/"
        },
        "id": "kenNek_0wtb9",
        "outputId": "cff5e820-e3ef-4a5d-d8c0-5e479cddb13e"
      },
      "source": [
        "#Sanity Check- How many bars?\n",
        "24*14"
      ],
      "execution_count": 61,
      "outputs": [
        {
          "output_type": "execute_result",
          "data": {
            "text/plain": [
              "336"
            ]
          },
          "metadata": {
            "tags": []
          },
          "execution_count": 61
        }
      ]
    },
    {
      "cell_type": "code",
      "metadata": {
        "colab": {
          "base_uri": "https://localhost:8080/",
          "height": 202
        },
        "id": "wwFJ5gZ15Coa",
        "outputId": "249be98b-3113-4b08-dacd-9a2847e8d329"
      },
      "source": [
        "df.head()"
      ],
      "execution_count": 63,
      "outputs": [
        {
          "output_type": "execute_result",
          "data": {
            "text/html": [
              "<div>\n",
              "<style scoped>\n",
              "    .dataframe tbody tr th:only-of-type {\n",
              "        vertical-align: middle;\n",
              "    }\n",
              "\n",
              "    .dataframe tbody tr th {\n",
              "        vertical-align: top;\n",
              "    }\n",
              "\n",
              "    .dataframe thead th {\n",
              "        text-align: right;\n",
              "    }\n",
              "</style>\n",
              "<table border=\"1\" class=\"dataframe\">\n",
              "  <thead>\n",
              "    <tr style=\"text-align: right;\">\n",
              "      <th></th>\n",
              "      <th>HDR</th>\n",
              "      <th>ROLLING SYSTEM DEMAND</th>\n",
              "      <th>Hour</th>\n",
              "    </tr>\n",
              "  </thead>\n",
              "  <tbody>\n",
              "    <tr>\n",
              "      <th>VD</th>\n",
              "      <td>2021-03-01 00:00:00</td>\n",
              "      <td>27035.0</td>\n",
              "      <td>0</td>\n",
              "    </tr>\n",
              "    <tr>\n",
              "      <th>VD</th>\n",
              "      <td>2021-03-01 00:05:00</td>\n",
              "      <td>27069.0</td>\n",
              "      <td>0</td>\n",
              "    </tr>\n",
              "    <tr>\n",
              "      <th>VD</th>\n",
              "      <td>2021-03-01 00:10:00</td>\n",
              "      <td>27109.0</td>\n",
              "      <td>0</td>\n",
              "    </tr>\n",
              "    <tr>\n",
              "      <th>VD</th>\n",
              "      <td>2021-03-01 00:15:00</td>\n",
              "      <td>27197.0</td>\n",
              "      <td>0</td>\n",
              "    </tr>\n",
              "    <tr>\n",
              "      <th>VD</th>\n",
              "      <td>2021-03-01 00:20:00</td>\n",
              "      <td>27248.0</td>\n",
              "      <td>0</td>\n",
              "    </tr>\n",
              "  </tbody>\n",
              "</table>\n",
              "</div>"
            ],
            "text/plain": [
              "                   HDR  ROLLING SYSTEM DEMAND  Hour\n",
              "VD 2021-03-01 00:00:00                27035.0     0\n",
              "VD 2021-03-01 00:05:00                27069.0     0\n",
              "VD 2021-03-01 00:10:00                27109.0     0\n",
              "VD 2021-03-01 00:15:00                27197.0     0\n",
              "VD 2021-03-01 00:20:00                27248.0     0"
            ]
          },
          "metadata": {
            "tags": []
          },
          "execution_count": 63
        }
      ]
    },
    {
      "cell_type": "markdown",
      "metadata": {
        "id": "MT9gxgJt5b1r"
      },
      "source": [
        "Using resample to aggregate hours:   \n",
        "ref: https://towardsdatascience.com/how-to-group-data-by-different-time-intervals-using-python-pandas-eb7134f9b9b0"
      ]
    },
    {
      "cell_type": "code",
      "metadata": {
        "id": "53urGOnmzLQs"
      },
      "source": [
        "df_hours_by_day = df.resample('H', on='HDR')[\"ROLLING SYSTEM DEMAND\"].agg([\"mean\", \"sum\"])"
      ],
      "execution_count": 75,
      "outputs": []
    },
    {
      "cell_type": "code",
      "metadata": {
        "id": "3Q0GuKBc4_ga"
      },
      "source": [
        "#Reset index so we can call it for graphing\n",
        "df_hours_by_day = df_hours_by_day.reset_index()"
      ],
      "execution_count": 79,
      "outputs": []
    },
    {
      "cell_type": "markdown",
      "metadata": {
        "id": "slWiiiSR9CfE"
      },
      "source": [
        "Found a very cool code snippet to display every nth label. \n",
        "Here, I'll set it to 12.   \n",
        "ref: https://stackoverflow.com/questions/20337664/cleanest-way-to-hide-every-nth-tick-label-in-matplotlib-colorbar"
      ]
    },
    {
      "cell_type": "code",
      "metadata": {
        "colab": {
          "base_uri": "https://localhost:8080/",
          "height": 892
        },
        "id": "oOPdOQTI6L1-",
        "outputId": "75ac96ec-7907-47d2-e3b7-91b59ae068a6"
      },
      "source": [
        "fig, ax = plt.subplots(1, figsize = (18,12))\n",
        "sns.set_style(\"whitegrid\")\n",
        "\n",
        "#Barplot Call\n",
        "sns.barplot(x = 'HDR', \n",
        "            y=\"mean\",\n",
        "            data = df_hours_by_day, \n",
        "            color = 'black')\n",
        "\n",
        "#Grid and Text Information\n",
        "ax.set_title(\"Hourly Average Electricity Demand Per Hour (March 01, 2021- March 15, 2021)\", size = 14)\n",
        "ax.set_xlabel(\"Hour\", size = 12)\n",
        "ax.set_ylabel(\"Demand (in Megawatts)\", size = 12)\n",
        "#ax.set_yscale(\"linear\")\n",
        "\n",
        "plt.xticks(rotation='vertical')\n",
        "\n",
        "#Code for nth labels\n",
        "temp = ax.xaxis.get_ticklabels()\n",
        "temp = list(set(temp) - set(temp[::24]))\n",
        "\n",
        "for label in temp:\n",
        "    label.set_visible(False)\n",
        "\n",
        "plt.show()"
      ],
      "execution_count": 131,
      "outputs": [
        {
          "output_type": "display_data",
          "data": {
            "image/png": "[encoded data removed]",
            "text/plain": [
              "<Figure size 1296x864 with 1 Axes>"
            ]
          },
          "metadata": {
            "tags": []
          }
        }
      ]
    }
  ]
}