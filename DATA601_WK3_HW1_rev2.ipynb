{
  "nbformat": 4,
  "nbformat_minor": 0,
  "metadata": {
    "colab": {
      "name": "DATA601_WK3_HW1.ipynb",
      "provenance": [],
      "collapsed_sections": [],
      "toc_visible": true,
      "authorship_tag": "ABX9TyO77DGs204h9FhK26ITRRHu",
      "include_colab_link": true
    },
    "kernelspec": {
      "name": "python3",
      "display_name": "Python 3"
    }
  },
  "cells": [
    {
      "cell_type": "markdown",
      "metadata": {
        "id": "view-in-github",
        "colab_type": "text"
      },
      "source": [
        "<a href=\"https://colab.research.google.com/github/Colsai/DATA-601-Wan/blob/main/DATA601_WK3_HW1_rev2.ipynb\" target=\"_parent\"><img src=\"https://colab.research.google.com/assets/colab-badge.svg\" alt=\"Open In Colab\"/></a>"
      ]
    },
    {
      "cell_type": "markdown",
      "metadata": {
        "id": "G0QLOujn7fP9"
      },
      "source": [
        "# DATA601: Homework 3\r\n",
        "- Generate 100 (n) rows of randomly-chosen people.\r\n",
        "\r\n",
        "I'm going to assume that we are looking at *only faking US citizens*.  \r\n",
        "One of the issues with other countries is that phone numbers, postal codes, popular names, etc. are all very regionally/country-dependent.   \r\n",
        "Since I am randomizing from tables, it would NOT be a good idea to broaden this scope as being representative of world citizens, which would take far more complexity."
      ]
    },
    {
      "cell_type": "code",
      "metadata": {
        "id": "Gn39rnU_50Os"
      },
      "source": [
        "#Import Python Packages\r\n",
        "import random\r\n",
        "import pandas as pd\r\n",
        "import numpy as np"
      ],
      "execution_count": 303,
      "outputs": []
    },
    {
      "cell_type": "markdown",
      "metadata": {
        "id": "OCx3-bxCHWgl"
      },
      "source": [
        "Making sure that all phone numbers will be of len 3 + 7 = 10.  \r\n",
        "https://stackoverflow.com/questions/733454/best-way-to-format-integer-as-string-with-leading-zeros"
      ]
    },
    {
      "cell_type": "markdown",
      "metadata": {
        "id": "CyvMswZpWIZO"
      },
      "source": [
        "## 1a. Categories that we will look at\r\n",
        "•Email addresses. Must have @  \r\n",
        "•Phone  numbers  \r\n",
        "•Home  Address  \r\n",
        "•Person's  name  \r\n",
        "•Year born. Use realistic values.  \r\n",
        "•Number of kids. Use realistic values.   \r\n",
        "•Categorical variable: rent or own?  \r\n",
        "•Annual income. Optional challenge:  Use a non-uniform distribution  \r\n",
        "•Number  of speeding  tickets in past year.Optional challenge:  Use a   non-uniform distribution  "
      ]
    },
    {
      "cell_type": "markdown",
      "metadata": {
        "id": "YO65uXeHI-WC"
      },
      "source": [
        "US Area Codes are between 0-200. Since we don't really know where they got their phone number, it is possible for phone number not to be near or equal to the home address\r\n",
        "\r\n",
        "- I'm not 100% sure that the Z-fill will work, but I think it should"
      ]
    },
    {
      "cell_type": "markdown",
      "metadata": {
        "id": "nClnMizpTXLc"
      },
      "source": [
        "## 2. Fake Phone Number\r\n",
        "A US Phone number should be XXXXXXXXXX or 10 digits long.  \r\n",
        "*Note: For a more-accurate phone number, it would be better to tie the \r\n",
        "area code to the fake random address, but it is difficult to overlap the area code to the actual place of residence, since the locations are also fake.*"
      ]
    },
    {
      "cell_type": "code",
      "metadata": {
        "id": "Bi_SfmOPGGm-"
      },
      "source": [
        "def gen_fake_phone():\r\n",
        "    area_code = str(random.randint(200,999))\r\n",
        "    digits = random.randint(0,9999999)\r\n",
        "\r\n",
        "#Add zeroes to random numbers that are less than 7 in length (Force length = 7)\r\n",
        "    if len(str(digits)) < 7:\r\n",
        "        extra_digits = abs(len(str(digits)) - 7)\r\n",
        "        digits = (\"0\" * extra_digits) + str(digits)\r\n",
        "\r\n",
        "    fake_phone = int(str(area_code) + str(digits))\r\n",
        "    \r\n",
        "    return fake_phone"
      ],
      "execution_count": 304,
      "outputs": []
    },
    {
      "cell_type": "markdown",
      "metadata": {
        "id": "DuBNfbDCOxoo"
      },
      "source": [
        "### 2b. Test the function\r\n",
        "Generate 5 random phone numbers"
      ]
    },
    {
      "cell_type": "code",
      "metadata": {
        "colab": {
          "base_uri": "https://localhost:8080/"
        },
        "id": "fYsGCu1wUxOL",
        "outputId": "0404a6e5-904d-4d9e-9ff4-f361e50f7d45"
      },
      "source": [
        "for i in range(0,5):\r\n",
        "    print(gen_fake_phone())"
      ],
      "execution_count": 305,
      "outputs": [
        {
          "output_type": "stream",
          "text": [
            "3055951106\n",
            "4288373420\n",
            "7903417844\n",
            "8194173560\n",
            "2770530692\n"
          ],
          "name": "stdout"
        }
      ]
    },
    {
      "cell_type": "markdown",
      "metadata": {
        "id": "9g93Iu-0YA2N"
      },
      "source": [
        "## 3a. Generate a Random Name\r\n",
        "- Randomly chooses a gender.\r\n",
        "- Attaches a random common name from one of the gender lists to the person\r\n",
        "- Adds a random pick from common Last Names  "
      ]
    },
    {
      "cell_type": "code",
      "metadata": {
        "id": "nWLgOWvQ8Sa_"
      },
      "source": [
        "#Read the HTML of the most popular first names\r\n",
        "df = pd.read_html('https://www.ksat.com/features/2020/12/31/these-were-the-50-most-popular-baby-names-in-2020/')[0]\r\n",
        "girls_fnames = df['Girls'].to_list()\r\n",
        "boys_fnames = df['Boys'].to_list()\r\n",
        "\r\n",
        "#List of Last Names\r\n",
        "df2 = pd.read_html('https://en.wikipedia.org/wiki/List_of_most_common_surnames_in_North_America')[7]\r\n",
        "flast_name_list = df2['Name'].to_list()"
      ],
      "execution_count": 306,
      "outputs": []
    },
    {
      "cell_type": "code",
      "metadata": {
        "colab": {
          "base_uri": "https://localhost:8080/"
        },
        "id": "K3PRZPE99sLx",
        "outputId": "a9438719-2ec7-41ee-cfb6-a27abb005424"
      },
      "source": [
        "#How many possible combinations of random names are there?\r\n",
        "print((len(girls_fnames) + len(boys_fnames)) * len(flast_name_list))"
      ],
      "execution_count": 307,
      "outputs": [
        {
          "output_type": "stream",
          "text": [
            "10000\n"
          ],
          "name": "stdout"
        }
      ]
    },
    {
      "cell_type": "markdown",
      "metadata": {
        "id": "vrcaQHUhP3k2"
      },
      "source": [
        "## Randomly choose a gender first, then assign a name based on random gender\r\n",
        "- (the ratio is 51f/49m)  \r\n",
        "Source: http://statisticstimes.com/demographics/country/us-sex-ratio.php#:~:text=Gender%20Ratio%20in%20the%20United%20States%20in%202020%20is%2097.948,to%2049.48%20percent%20male%20population.\r\n",
        "- Were we to make this more-realistic over an amount of a million people +, we could also add n/nonbinary (and pick an inclusive list of first names)."
      ]
    },
    {
      "cell_type": "code",
      "metadata": {
        "id": "NCd95pyXXCPv"
      },
      "source": [
        "#Let's assume that names should go with genders (gender would be defined first, prior to birth, then naming would come after)\r\n",
        "def gen_fake_full_name():\r\n",
        "    fake_gender = random.choices(('M','F'),(49,51))[0]\r\n",
        "\r\n",
        "    if fake_gender == 'M':\r\n",
        "      fname = random.choice(boys_fnames)\r\n",
        "\r\n",
        "    elif fake_gender == 'F':\r\n",
        "      fname = random.choice(girls_fnames)\r\n",
        "\r\n",
        "    else:\r\n",
        "        #add non-gendered names list here\r\n",
        "        pass\r\n",
        "\r\n",
        "    flast_name = random.choice(flast_name_list)\r\n",
        "\r\n",
        "    fake_full_name = \"\".join([fname, \" \",flast_name]) \r\n",
        "    return fake_full_name"
      ],
      "execution_count": 308,
      "outputs": []
    },
    {
      "cell_type": "markdown",
      "metadata": {
        "id": "tCMQYNGYwFHi"
      },
      "source": [
        "## 3b. Test: \r\n",
        "Test the gen_fake_full_name function"
      ]
    },
    {
      "cell_type": "code",
      "metadata": {
        "colab": {
          "base_uri": "https://localhost:8080/",
          "height": 35
        },
        "id": "HYsrrS_0YsYD",
        "outputId": "80e731b9-9f68-485d-8ff1-9f552755bdf2"
      },
      "source": [
        "gen_fake_full_name()"
      ],
      "execution_count": 309,
      "outputs": [
        {
          "output_type": "execute_result",
          "data": {
            "application/vnd.google.colaboratory.intrinsic+json": {
              "type": "string"
            },
            "text/plain": [
              "'Asher Murphy'"
            ]
          },
          "metadata": {
            "tags": []
          },
          "execution_count": 309
        }
      ]
    },
    {
      "cell_type": "markdown",
      "metadata": {
        "id": "42YTWir_TP6-"
      },
      "source": [
        "## 4a. Address (Locations)\r\n",
        "So, what are the most common places for people to live? These places should be statistically most likely for our example fake data to be from, so they could be good candidates. I'll scrape a single table from Wikipedia.\r\n",
        "\r\n",
        "(If we wanted state abbreviations, we could also add something like: https://gist.github.com/rogerallen/1583593, which is a full dictionary of state -> abbrv)"
      ]
    },
    {
      "cell_type": "code",
      "metadata": {
        "id": "FtxyaHKYbpKk",
        "colab": {
          "base_uri": "https://localhost:8080/",
          "height": 272
        },
        "outputId": "7a831311-36d6-4fb8-98b6-ee227d39f0c0"
      },
      "source": [
        "#Dataframe 'Locations' table 10 is the list for the USA\r\n",
        "df_locations = pd.read_html('https://en.wikipedia.org/wiki/List_of_United_States_cities_by_population')[10]\r\n",
        "df_locations.head()"
      ],
      "execution_count": 310,
      "outputs": [
        {
          "output_type": "execute_result",
          "data": {
            "text/html": [
              "<div>\n",
              "<style scoped>\n",
              "    .dataframe tbody tr th:only-of-type {\n",
              "        vertical-align: middle;\n",
              "    }\n",
              "\n",
              "    .dataframe tbody tr th {\n",
              "        vertical-align: top;\n",
              "    }\n",
              "\n",
              "    .dataframe thead th {\n",
              "        text-align: right;\n",
              "    }\n",
              "</style>\n",
              "<table border=\"1\" class=\"dataframe\">\n",
              "  <thead>\n",
              "    <tr style=\"text-align: right;\">\n",
              "      <th></th>\n",
              "      <th>City</th>\n",
              "      <th>State</th>\n",
              "      <th>2010 Census</th>\n",
              "      <th>2000 Census</th>\n",
              "      <th>Change</th>\n",
              "      <th>2010 land area</th>\n",
              "      <th>2010 land area.1</th>\n",
              "      <th>2010 population density</th>\n",
              "      <th>2010 population density.1</th>\n",
              "      <th>ANSI</th>\n",
              "      <th>Location</th>\n",
              "    </tr>\n",
              "  </thead>\n",
              "  <tbody>\n",
              "    <tr>\n",
              "      <th>0</th>\n",
              "      <td>Paradise</td>\n",
              "      <td>Nevada</td>\n",
              "      <td>223167</td>\n",
              "      <td>186070</td>\n",
              "      <td>+19.94%</td>\n",
              "      <td>46.717 sq mi</td>\n",
              "      <td>120.996 km2</td>\n",
              "      <td>4,777/sq mi</td>\n",
              "      <td>1,844/km2</td>\n",
              "      <td>2409023.0</td>\n",
              "      <td>36°04′51″N 115°08′12″W﻿ / ﻿36.08073°N 115.1368°W</td>\n",
              "    </tr>\n",
              "    <tr>\n",
              "      <th>1</th>\n",
              "      <td>Arlington</td>\n",
              "      <td>Virginia</td>\n",
              "      <td>207627</td>\n",
              "      <td>189453</td>\n",
              "      <td>+9.59%</td>\n",
              "      <td>25.98 sq mi</td>\n",
              "      <td>67.288 km2</td>\n",
              "      <td>7,992/sq mi</td>\n",
              "      <td>3,086/km2</td>\n",
              "      <td>NaN</td>\n",
              "      <td>38°52′48″N 77°10′59″W﻿ / ﻿38.880°N 77.183°W</td>\n",
              "    </tr>\n",
              "    <tr>\n",
              "      <th>2</th>\n",
              "      <td>Sunrise Manor</td>\n",
              "      <td>Nevada</td>\n",
              "      <td>189372</td>\n",
              "      <td>156120</td>\n",
              "      <td>+21.30%</td>\n",
              "      <td>33.352 sq mi</td>\n",
              "      <td>86.381 km2</td>\n",
              "      <td>5,678/sq mi</td>\n",
              "      <td>2,192/km2</td>\n",
              "      <td>2410035.0</td>\n",
              "      <td>36°10′43″N 115°02′56″W﻿ / ﻿36.1785°N 115.0490°W</td>\n",
              "    </tr>\n",
              "    <tr>\n",
              "      <th>3</th>\n",
              "      <td>Spring Valley</td>\n",
              "      <td>Nevada</td>\n",
              "      <td>178395</td>\n",
              "      <td>117390</td>\n",
              "      <td>+51.97%</td>\n",
              "      <td>33.226 sq mi</td>\n",
              "      <td>86.055 km2</td>\n",
              "      <td>5,369/sq mi</td>\n",
              "      <td>2,073/km2</td>\n",
              "      <td>2408797.0</td>\n",
              "      <td>36°05′55″N 115°15′43″W﻿ / ﻿36.0987°N 115.2619°W</td>\n",
              "    </tr>\n",
              "    <tr>\n",
              "      <th>4</th>\n",
              "      <td>Metairie</td>\n",
              "      <td>Louisiana</td>\n",
              "      <td>138481</td>\n",
              "      <td>146136</td>\n",
              "      <td>−5.24%</td>\n",
              "      <td>23.222 sq mi</td>\n",
              "      <td>60.145 km2</td>\n",
              "      <td>5,963/sq mi</td>\n",
              "      <td>2,302/km2</td>\n",
              "      <td>2403282.0</td>\n",
              "      <td>29°59′52″N 90°10′40″W﻿ / ﻿29.9978°N 90.1779°W</td>\n",
              "    </tr>\n",
              "  </tbody>\n",
              "</table>\n",
              "</div>"
            ],
            "text/plain": [
              "            City  ...                                          Location\n",
              "0       Paradise  ...  36°04′51″N 115°08′12″W﻿ / ﻿36.08073°N 115.1368°W\n",
              "1      Arlington  ...       38°52′48″N 77°10′59″W﻿ / ﻿38.880°N 77.183°W\n",
              "2  Sunrise Manor  ...   36°10′43″N 115°02′56″W﻿ / ﻿36.1785°N 115.0490°W\n",
              "3  Spring Valley  ...   36°05′55″N 115°15′43″W﻿ / ﻿36.0987°N 115.2619°W\n",
              "4       Metairie  ...     29°59′52″N 90°10′40″W﻿ / ﻿29.9978°N 90.1779°W\n",
              "\n",
              "[5 rows x 11 columns]"
            ]
          },
          "metadata": {
            "tags": []
          },
          "execution_count": 310
        }
      ]
    },
    {
      "cell_type": "code",
      "metadata": {
        "id": "CKDfzP2NThFh",
        "colab": {
          "base_uri": "https://localhost:8080/",
          "height": 204
        },
        "outputId": "97b4937d-762f-4662-b76c-263d2b2d771d"
      },
      "source": [
        "#Let's focus in only on locations for the city and state. The other parts aren't important\r\n",
        "df_city_state = df_locations[['City','State']]\r\n",
        "df_city_state.head()"
      ],
      "execution_count": 311,
      "outputs": [
        {
          "output_type": "execute_result",
          "data": {
            "text/html": [
              "<div>\n",
              "<style scoped>\n",
              "    .dataframe tbody tr th:only-of-type {\n",
              "        vertical-align: middle;\n",
              "    }\n",
              "\n",
              "    .dataframe tbody tr th {\n",
              "        vertical-align: top;\n",
              "    }\n",
              "\n",
              "    .dataframe thead th {\n",
              "        text-align: right;\n",
              "    }\n",
              "</style>\n",
              "<table border=\"1\" class=\"dataframe\">\n",
              "  <thead>\n",
              "    <tr style=\"text-align: right;\">\n",
              "      <th></th>\n",
              "      <th>City</th>\n",
              "      <th>State</th>\n",
              "    </tr>\n",
              "  </thead>\n",
              "  <tbody>\n",
              "    <tr>\n",
              "      <th>0</th>\n",
              "      <td>Paradise</td>\n",
              "      <td>Nevada</td>\n",
              "    </tr>\n",
              "    <tr>\n",
              "      <th>1</th>\n",
              "      <td>Arlington</td>\n",
              "      <td>Virginia</td>\n",
              "    </tr>\n",
              "    <tr>\n",
              "      <th>2</th>\n",
              "      <td>Sunrise Manor</td>\n",
              "      <td>Nevada</td>\n",
              "    </tr>\n",
              "    <tr>\n",
              "      <th>3</th>\n",
              "      <td>Spring Valley</td>\n",
              "      <td>Nevada</td>\n",
              "    </tr>\n",
              "    <tr>\n",
              "      <th>4</th>\n",
              "      <td>Metairie</td>\n",
              "      <td>Louisiana</td>\n",
              "    </tr>\n",
              "  </tbody>\n",
              "</table>\n",
              "</div>"
            ],
            "text/plain": [
              "            City      State\n",
              "0       Paradise     Nevada\n",
              "1      Arlington   Virginia\n",
              "2  Sunrise Manor     Nevada\n",
              "3  Spring Valley     Nevada\n",
              "4       Metairie  Louisiana"
            ]
          },
          "metadata": {
            "tags": []
          },
          "execution_count": 311
        }
      ]
    },
    {
      "cell_type": "markdown",
      "metadata": {
        "id": "apk_AG-QmHdb"
      },
      "source": [
        "So that it is somewhat real...\r\n",
        "\r\n",
        "What is the highest house number: https://able2know.org/topic/160467-1#:~:text=The%20highest%20house%20number%20I,108%20miles%20from%20Key%20West?\r\n",
        "\r\n",
        "(33007, which I will use within choosing house numbers as the high bound).\r\n",
        "\r\n",
        "Unlike some of the other random statements, I will use pd.sample to pull results from wikipedia's table, since city name + state are connected."
      ]
    },
    {
      "cell_type": "markdown",
      "metadata": {
        "id": "gym7o9ESY9xT"
      },
      "source": [
        "### About fake streets\r\n",
        "I was having some issues using soup to scrape the street names, so I just added them as a list. If I were to revise this, I would probably go back in and try to scrape a list of popular street names from a website.\r\n",
        "\r\n",
        "Sources:\r\n",
        "https://www.nlc.org/resource/most-common-u-s-street-names/  \r\n",
        "https://christinarebuffet.com/blog/american-street-abbreviations/\r\n"
      ]
    },
    {
      "cell_type": "code",
      "metadata": {
        "id": "eIdj4SEZlHy0"
      },
      "source": [
        "def gen_fake_address():\r\n",
        "    #Randomize what they might live in... (in case we need apartment numbers)\r\n",
        "    fake_housing_type = random.choice([\"House\",\"Apartment\"])\r\n",
        "\r\n",
        "    #Fake street number/street name/street type\r\n",
        "    fake_number = random.randint(1,33007)\r\n",
        "    fake_streetname = random.choice(['First',\r\n",
        "                                     'Second',\r\n",
        "                                     'Third',\r\n",
        "                                     'Fourth',\r\n",
        "                                     'Fifth',\r\n",
        "                                     'Sixth',\r\n",
        "                                     'Seventh',\r\n",
        "                                     'Eighth',\r\n",
        "                                     'Ninth',\r\n",
        "                                     'Tenth',\r\n",
        "                                     'Park',\r\n",
        "                                     'Oak',\r\n",
        "                                     'Cedar'])\r\n",
        "    \r\n",
        "#This is not an efficient way to do this, but it is easy to implement\r\n",
        "    fake_street_type = random.choice(['St.', \r\n",
        "                                      'Ave', \r\n",
        "                                      'Ln.', \r\n",
        "                                      'Place',\r\n",
        "                                      'Blvd.',\r\n",
        "                                      'Dr.',\r\n",
        "                                      ])\r\n",
        "\r\n",
        "    #Let's sample a city using pd.sample()\r\n",
        "    sample_city = df_city_state.sample(1)\r\n",
        "    fake_city = sample_city['City'].to_string(index = False)\r\n",
        "    fake_state = sample_city['State'].to_string(index = False)\r\n",
        "\r\n",
        "    #The corresponding zip code should probably match up, too\r\n",
        "    #fake_zip = random.randint(10000,90000)\r\n",
        "\r\n",
        "    if fake_housing_type == 'Apartment':\r\n",
        "        fake_apartment_number = random.randint(0,9999)\r\n",
        "        fake_full_address = f\"{fake_number} {fake_streetname} {fake_street_type}, Apt {fake_apartment_number},{fake_city},{fake_state}\"\r\n",
        "\r\n",
        "    else:\r\n",
        "        fake_full_address = f\"{fake_number} {fake_streetname} {fake_street_type},{fake_city},{fake_state}\"\r\n",
        "\r\n",
        "    return str(fake_full_address)"
      ],
      "execution_count": 312,
      "outputs": []
    },
    {
      "cell_type": "markdown",
      "metadata": {
        "id": "tDGkW4USQwTj"
      },
      "source": [
        "### 4b. Test Fake Address\r\n",
        "Address should be number street street type city state"
      ]
    },
    {
      "cell_type": "code",
      "metadata": {
        "id": "HuEQ9w2QjYic",
        "colab": {
          "base_uri": "https://localhost:8080/",
          "height": 35
        },
        "outputId": "289647c1-ee08-45f9-d187-48b884b12527"
      },
      "source": [
        "gen_fake_address()"
      ],
      "execution_count": 313,
      "outputs": [
        {
          "output_type": "execute_result",
          "data": {
            "application/vnd.google.colaboratory.intrinsic+json": {
              "type": "string"
            },
            "text/plain": [
              "'32416 First Place, Apt 4162, Enterprise, Nevada'"
            ]
          },
          "metadata": {
            "tags": []
          },
          "execution_count": 313
        }
      ]
    },
    {
      "cell_type": "markdown",
      "metadata": {
        "id": "mR3Fgqub_oL4"
      },
      "source": [
        "Source: https://www.geeksforgeeks.org/compute-the-weighted-average-of-a-given-numpy-array/"
      ]
    },
    {
      "cell_type": "markdown",
      "metadata": {
        "id": "OVFmyvXOZvMm"
      },
      "source": [
        "## 4. Children\r\n",
        "https://www.statista.com/statistics/718084/average-number-of-own-children-per-family/\r\n"
      ]
    },
    {
      "cell_type": "markdown",
      "metadata": {
        "id": "L4d5vKe8aRqn"
      },
      "source": [
        "Children can be seen as\r\n",
        "Is it a family household? \r\n",
        "https://www.prb.org/u-s-household-composition-shifts-as-the-population-grows-older-more-young-adults-live-with-parents/#:~:text=In%201960%2C%2085%20percent%20of,35%20percent%20during%20this%20period.\r\n",
        "(65% are)\r\n",
        "\r\n",
        "If it is a family household, do they have children?\r\n",
        "https://www.statista.com/statistics/242074/percentages-of-us-family-households-with-children-by-type/\r\n",
        "(40%)\r\n",
        "\r\n",
        "What number of children do families typically have?\r\n",
        "https://www.pewresearch.org/fact-tank/2018/08/09/middle-children-have-become-rarer-but-a-growing-share-of-americans-now-say-three-or-more-kids-are-ideal/"
      ]
    },
    {
      "cell_type": "code",
      "metadata": {
        "id": "gXVuoXYh56tc"
      },
      "source": [
        "def gen_fake_children():\r\n",
        "    #Chance of children in a family = if family household AND if family household has children\r\n",
        "    family_household_chance = .65\r\n",
        "    children_chance = .4\r\n",
        "\r\n",
        "    #Chance of children\r\n",
        "    chance_of_children = family_household_chance * children_chance\r\n",
        "\r\n",
        "    #Checks possibility of children\r\n",
        "    children_exist = random.choices(['Yes','No'],[chance_of_children,1-chance_of_children])[0]\r\n",
        "\r\n",
        "    if children_exist == 'Yes':\r\n",
        "        num_kids = random.choices([1,2,3,4],[21,41,23,15])[0]\r\n",
        "\r\n",
        "    elif children_exist == 'No':\r\n",
        "        num_kids = 0\r\n",
        "\r\n",
        "    else:\r\n",
        "        num_kids = 0\r\n",
        "\r\n",
        "    return num_kids"
      ],
      "execution_count": 314,
      "outputs": []
    },
    {
      "cell_type": "code",
      "metadata": {
        "id": "_Sdrlp7dbYWq",
        "colab": {
          "base_uri": "https://localhost:8080/"
        },
        "outputId": "3dfb1d6c-2409-4431-9c8d-0a01ef46b4b6"
      },
      "source": [
        "gen_fake_children()"
      ],
      "execution_count": 315,
      "outputs": [
        {
          "output_type": "execute_result",
          "data": {
            "text/plain": [
              "1"
            ]
          },
          "metadata": {
            "tags": []
          },
          "execution_count": 315
        }
      ]
    },
    {
      "cell_type": "markdown",
      "metadata": {
        "id": "gLiBgpbLlsVz"
      },
      "source": [
        "## 5. Age (Years born in)"
      ]
    },
    {
      "cell_type": "code",
      "metadata": {
        "id": "URn_TRrdl_KV"
      },
      "source": [
        "def gen_year_born():\r\n",
        "    current_year = 2021\r\n",
        "    age = random.randint(0,100)\r\n",
        "    birth_year = current_year - age \r\n",
        "    \r\n",
        "    return birth_year"
      ],
      "execution_count": 316,
      "outputs": []
    },
    {
      "cell_type": "markdown",
      "metadata": {
        "id": "VXRuI-wqdVNT"
      },
      "source": [
        "## 6. Speeding Tickets\r\n",
        "Background Information:\r\n",
        "What is the average number of speeding tickets? \r\n",
        "- First, the average number of speeding tickets per year is about ~17% (1/6)\r\n",
        "Source: https://modernattorney.com/blog/facts-statistics-about-speeding-tickets\r\n",
        "\r\n",
        "- Second, if you get more than 4 speeding convictions in 3 years, you have your license revoked. So, people cannot have more than 4/3 = 1.3 * years driving in tickets (that would be the max).\r\n",
        "\r\n",
        "- This function randomizes a theoretical age between 18-90 for the fake person, then randomizes and counts whether or not a ticket in each year driving, then compares it to the maximum number of tickets possible. \r\n",
        "\r\n",
        "If it is higher than the maximum, it is becomes the maximum, since you cannot drive if you have more than X number of tickets."
      ]
    },
    {
      "cell_type": "code",
      "metadata": {
        "id": "-G4Z8SjGfhMc"
      },
      "source": [
        "def gen_fake_tickets():\r\n",
        "    #This won't be used in the data, but will let us set a maximum number of lifetime speeding tickets.\r\n",
        "    fake_driving_years = random.randint(18,90) - 18\r\n",
        "\r\n",
        "    #Chance of a ticket\r\n",
        "    ticket_chance = .16\r\n",
        "    ticket_years = []\r\n",
        "\r\n",
        "    for year in range(0,fake_driving_years):\r\n",
        "        ticket_year = random.choices((0,1),(1-ticket_chance, ticket_chance))[0]\r\n",
        "        ticket_years.append(ticket_year)\r\n",
        "\r\n",
        "    tickets_full_count = sum(ticket_years)\r\n",
        "\r\n",
        "    if tickets_full_count >= (fake_driving_years * 1.3):\r\n",
        "        tickets_full_count = (fake_driving_years * 1.3)\r\n",
        "\r\n",
        "    return tickets_full_count"
      ],
      "execution_count": 317,
      "outputs": []
    },
    {
      "cell_type": "markdown",
      "metadata": {
        "id": "0AiP0Qu04rgp"
      },
      "source": [
        "Generate Fake Tickets"
      ]
    },
    {
      "cell_type": "code",
      "metadata": {
        "id": "FWIo9XNYhyo1",
        "colab": {
          "base_uri": "https://localhost:8080/"
        },
        "outputId": "ac48b9e8-5e40-423b-d352-466de57b4c37"
      },
      "source": [
        "gen_fake_tickets()"
      ],
      "execution_count": 318,
      "outputs": [
        {
          "output_type": "execute_result",
          "data": {
            "text/plain": [
              "0"
            ]
          },
          "metadata": {
            "tags": []
          },
          "execution_count": 318
        }
      ]
    },
    {
      "cell_type": "markdown",
      "metadata": {
        "id": "9MFof3uLBRCs"
      },
      "source": [
        "#\r\n",
        "https://www.census.gov/housing/hvs/files/currenthvspress.pdf"
      ]
    },
    {
      "cell_type": "markdown",
      "metadata": {
        "id": "cjD-Y4MWzGsv"
      },
      "source": [
        "## Rent or Own a Home\r\n",
        "This looks at the chance of whether or not someone can own a home. The ratio is about 59-30 https://www.census.gov/housing/hvs/files/currenthvspress.pdf .\r\n",
        "\r\n",
        "If current age is less than 18, the person should not be able to buy or own a home (since they would have to enter into a legal agreement generally requiring age of majority).\r\n",
        "\r\n",
        "https://www.thebalance.com/when-is-the-best-age-to-buy-a-home-4163871#:~:text=At%20What%20Age%20Can%20You,legal%20age%20signs%20the%20contracts."
      ]
    },
    {
      "cell_type": "code",
      "metadata": {
        "id": "3OpotW9a6WCv"
      },
      "source": [
        "def gen_home_status(age):\r\n",
        "    #Categorical Variable (Rent or Own)\r\n",
        "    housing_status = random.choices(['Rent','Own'],[58.6,30.4])\r\n",
        "    \r\n",
        "    return housing_status[0]"
      ],
      "execution_count": 319,
      "outputs": []
    },
    {
      "cell_type": "markdown",
      "metadata": {
        "id": "B2MG79vhz_XQ"
      },
      "source": [
        "## Annual Income"
      ]
    },
    {
      "cell_type": "code",
      "metadata": {
        "id": "_JuvBSRwL_Tm"
      },
      "source": [
        "def gen_fake_annual_income():\r\n",
        "    #Annual Income\r\n",
        "    fake_income = random.randint(15000,250000)\r\n",
        "    fake_income = str(f\"${fake_income}\")\r\n",
        "    return fake_income"
      ],
      "execution_count": 320,
      "outputs": []
    },
    {
      "cell_type": "markdown",
      "metadata": {
        "id": "DlcA6LpyLSYp"
      },
      "source": [
        "## Email Addresses\r\n",
        "There are a lot of ways we could do email addresses: as random combinations of characters, of words, etc. I'll just go with some "
      ]
    },
    {
      "cell_type": "code",
      "metadata": {
        "id": "ffV0K_vJ5V8q"
      },
      "source": [
        "def gen_fake_email(fake_name):\r\n",
        "    domain = random.choice([\"gmail.com\",\r\n",
        "                            \"yahoo.com\",\r\n",
        "                            \"protonmail.com\"])\r\n",
        "\r\n",
        "    num_suffix = random.randint(0,999)\r\n",
        "    email_address = fake_name.replace(\" \", \"\") + str(num_suffix) + \"@\" + domain  \r\n",
        "\r\n",
        "    return email_address"
      ],
      "execution_count": 321,
      "outputs": []
    },
    {
      "cell_type": "markdown",
      "metadata": {
        "id": "NrtQGHETipgr"
      },
      "source": [
        "## 9 Recreate as a .CSV\r\n",
        "Each Row Will Include all of the data"
      ]
    },
    {
      "cell_type": "code",
      "metadata": {
        "id": "QVhqlIuuSa-d"
      },
      "source": [
        "#Allows the user to chose how many people\r\n",
        "number_people = 100\r\n",
        "people_list = []\r\n",
        "\r\n",
        "for person in range(0,number_people):\r\n",
        "    fake_full_name = gen_fake_full_name()\r\n",
        "    people_list.append([fake_full_name,\r\n",
        "                        gen_fake_address(),\r\n",
        "                        gen_fake_phone(),\r\n",
        "                        gen_year_born(),\r\n",
        "                        gen_home_status(12),\r\n",
        "                        gen_fake_tickets(), \r\n",
        "                        gen_fake_children(),\r\n",
        "                        gen_fake_annual_income(),\r\n",
        "                        gen_fake_email(fake_full_name),\r\n",
        "                        ])"
      ],
      "execution_count": 322,
      "outputs": []
    },
    {
      "cell_type": "code",
      "metadata": {
        "colab": {
          "base_uri": "https://localhost:8080/"
        },
        "id": "lZTeuyQN-Dqs",
        "outputId": "a199e3b5-1a4e-471b-86d0-319ccecbf3ae"
      },
      "source": [
        "#Test the list output\r\n",
        "for person in people_list[0:5]:\r\n",
        "    print(person)"
      ],
      "execution_count": 323,
      "outputs": [
        {
          "output_type": "stream",
          "text": [
            "['Aaliyah White', '22440 Third Ave, Metairie, Louisiana', 4042890374, 1927, 'Rent', 3, 0, '$101561', 'AaliyahWhite265@protonmail.com']\n",
            "['Luca White', '9792 Fifth Ave, Brandon, Florida', 4429807118, 1937, 'Rent', 5, 0, '$68455', 'LucaWhite302@gmail.com']\n",
            "['Peyton Robinson', '30890 Park Ln., Spring Valley, Nevada', 7332806058, 2003, 'Rent', 0, 0, '$34810', 'PeytonRobinson746@yahoo.com']\n",
            "['Leah Ramirez', '12683 Sixth Ln., Apt 5585, Brandon, Florida', 7719292185, 2010, 'Rent', 2, 0, '$193701', 'LeahRamirez975@gmail.com']\n",
            "['Michael Martin', '31177 Fourth St., Spring Valley, Nevada', 2871678844, 1943, 'Own', 9, 0, '$127384', 'MichaelMartin623@yahoo.com']\n"
          ],
          "name": "stdout"
        }
      ]
    },
    {
      "cell_type": "code",
      "metadata": {
        "colab": {
          "base_uri": "https://localhost:8080/",
          "height": 514
        },
        "id": "c2_zkw4kxh6A",
        "outputId": "3213d6d6-f901-4046-9dd4-a8da3e29a33e"
      },
      "source": [
        "#Columns and create dataframe\r\n",
        "name_columns = [\"Name\", \r\n",
        "                \"Address\", \r\n",
        "                \"Phone Numbers\",\r\n",
        "                \"Year Born\", \r\n",
        "                \"Home Status\",\r\n",
        "                \"Tickets\", \r\n",
        "                \"Children\",\r\n",
        "                \"Annual Income\",\r\n",
        "                \"Email\"]\r\n",
        "\r\n",
        "df_full = pd.DataFrame(people_list, columns = name_columns)\r\n",
        "df_full.head(15)"
      ],
      "execution_count": 324,
      "outputs": [
        {
          "output_type": "execute_result",
          "data": {
            "text/html": [
              "<div>\n",
              "<style scoped>\n",
              "    .dataframe tbody tr th:only-of-type {\n",
              "        vertical-align: middle;\n",
              "    }\n",
              "\n",
              "    .dataframe tbody tr th {\n",
              "        vertical-align: top;\n",
              "    }\n",
              "\n",
              "    .dataframe thead th {\n",
              "        text-align: right;\n",
              "    }\n",
              "</style>\n",
              "<table border=\"1\" class=\"dataframe\">\n",
              "  <thead>\n",
              "    <tr style=\"text-align: right;\">\n",
              "      <th></th>\n",
              "      <th>Name</th>\n",
              "      <th>Address</th>\n",
              "      <th>Phone Numbers</th>\n",
              "      <th>Year Born</th>\n",
              "      <th>Home Status</th>\n",
              "      <th>Tickets</th>\n",
              "      <th>Children</th>\n",
              "      <th>Annual Income</th>\n",
              "      <th>Email</th>\n",
              "    </tr>\n",
              "  </thead>\n",
              "  <tbody>\n",
              "    <tr>\n",
              "      <th>0</th>\n",
              "      <td>Aaliyah White</td>\n",
              "      <td>22440 Third Ave, Metairie, Louisiana</td>\n",
              "      <td>4042890374</td>\n",
              "      <td>1927</td>\n",
              "      <td>Rent</td>\n",
              "      <td>3.0</td>\n",
              "      <td>0</td>\n",
              "      <td>$101561</td>\n",
              "      <td>AaliyahWhite265@protonmail.com</td>\n",
              "    </tr>\n",
              "    <tr>\n",
              "      <th>1</th>\n",
              "      <td>Luca White</td>\n",
              "      <td>9792 Fifth Ave, Brandon, Florida</td>\n",
              "      <td>4429807118</td>\n",
              "      <td>1937</td>\n",
              "      <td>Rent</td>\n",
              "      <td>5.0</td>\n",
              "      <td>0</td>\n",
              "      <td>$68455</td>\n",
              "      <td>LucaWhite302@gmail.com</td>\n",
              "    </tr>\n",
              "    <tr>\n",
              "      <th>2</th>\n",
              "      <td>Peyton Robinson</td>\n",
              "      <td>30890 Park Ln., Spring Valley, Nevada</td>\n",
              "      <td>7332806058</td>\n",
              "      <td>2003</td>\n",
              "      <td>Rent</td>\n",
              "      <td>0.0</td>\n",
              "      <td>0</td>\n",
              "      <td>$34810</td>\n",
              "      <td>PeytonRobinson746@yahoo.com</td>\n",
              "    </tr>\n",
              "    <tr>\n",
              "      <th>3</th>\n",
              "      <td>Leah Ramirez</td>\n",
              "      <td>12683 Sixth Ln., Apt 5585, Brandon, Florida</td>\n",
              "      <td>7719292185</td>\n",
              "      <td>2010</td>\n",
              "      <td>Rent</td>\n",
              "      <td>2.0</td>\n",
              "      <td>0</td>\n",
              "      <td>$193701</td>\n",
              "      <td>LeahRamirez975@gmail.com</td>\n",
              "    </tr>\n",
              "    <tr>\n",
              "      <th>4</th>\n",
              "      <td>Michael Martin</td>\n",
              "      <td>31177 Fourth St., Spring Valley, Nevada</td>\n",
              "      <td>2871678844</td>\n",
              "      <td>1943</td>\n",
              "      <td>Own</td>\n",
              "      <td>9.0</td>\n",
              "      <td>0</td>\n",
              "      <td>$127384</td>\n",
              "      <td>MichaelMartin623@yahoo.com</td>\n",
              "    </tr>\n",
              "    <tr>\n",
              "      <th>5</th>\n",
              "      <td>Daniel Rogers</td>\n",
              "      <td>24416 Tenth Ln., Brandon, Florida</td>\n",
              "      <td>7089875275</td>\n",
              "      <td>1938</td>\n",
              "      <td>Rent</td>\n",
              "      <td>1.0</td>\n",
              "      <td>0</td>\n",
              "      <td>$176091</td>\n",
              "      <td>DanielRogers307@protonmail.com</td>\n",
              "    </tr>\n",
              "    <tr>\n",
              "      <th>6</th>\n",
              "      <td>Asher Reyes</td>\n",
              "      <td>5743 Eighth Dr., Enterprise, Nevada</td>\n",
              "      <td>8244659854</td>\n",
              "      <td>2015</td>\n",
              "      <td>Own</td>\n",
              "      <td>13.0</td>\n",
              "      <td>0</td>\n",
              "      <td>$144308</td>\n",
              "      <td>AsherReyes982@gmail.com</td>\n",
              "    </tr>\n",
              "    <tr>\n",
              "      <th>7</th>\n",
              "      <td>Paisley Hill</td>\n",
              "      <td>23255 Seventh Blvd., Brandon, Florida</td>\n",
              "      <td>6665726281</td>\n",
              "      <td>2021</td>\n",
              "      <td>Own</td>\n",
              "      <td>7.0</td>\n",
              "      <td>0</td>\n",
              "      <td>$74932</td>\n",
              "      <td>PaisleyHill281@protonmail.com</td>\n",
              "    </tr>\n",
              "    <tr>\n",
              "      <th>8</th>\n",
              "      <td>Charlotte King</td>\n",
              "      <td>11798 Cedar Ln., Apt 9908, Arlington, Virginia</td>\n",
              "      <td>9321487469</td>\n",
              "      <td>1985</td>\n",
              "      <td>Own</td>\n",
              "      <td>6.0</td>\n",
              "      <td>0</td>\n",
              "      <td>$41137</td>\n",
              "      <td>CharlotteKing5@protonmail.com</td>\n",
              "    </tr>\n",
              "    <tr>\n",
              "      <th>9</th>\n",
              "      <td>Charlotte Moore</td>\n",
              "      <td>32498 Sixth Blvd., Sunrise Manor, Nevada</td>\n",
              "      <td>3543930567</td>\n",
              "      <td>1948</td>\n",
              "      <td>Rent</td>\n",
              "      <td>1.0</td>\n",
              "      <td>0</td>\n",
              "      <td>$95958</td>\n",
              "      <td>CharlotteMoore587@gmail.com</td>\n",
              "    </tr>\n",
              "    <tr>\n",
              "      <th>10</th>\n",
              "      <td>Aria Phillips</td>\n",
              "      <td>15099 Park Ave, Apt 8370, Arlington, Virginia</td>\n",
              "      <td>2883404216</td>\n",
              "      <td>1960</td>\n",
              "      <td>Own</td>\n",
              "      <td>0.0</td>\n",
              "      <td>0</td>\n",
              "      <td>$85778</td>\n",
              "      <td>AriaPhillips919@yahoo.com</td>\n",
              "    </tr>\n",
              "    <tr>\n",
              "      <th>11</th>\n",
              "      <td>Luke Butler</td>\n",
              "      <td>23242 Fourth Place, East Los Angeles, California</td>\n",
              "      <td>5381449520</td>\n",
              "      <td>1922</td>\n",
              "      <td>Rent</td>\n",
              "      <td>5.0</td>\n",
              "      <td>0</td>\n",
              "      <td>$119437</td>\n",
              "      <td>LukeButler410@gmail.com</td>\n",
              "    </tr>\n",
              "    <tr>\n",
              "      <th>12</th>\n",
              "      <td>Lincoln Reed</td>\n",
              "      <td>8029 Ninth Blvd., Spring Valley, Nevada</td>\n",
              "      <td>6572474316</td>\n",
              "      <td>1956</td>\n",
              "      <td>Rent</td>\n",
              "      <td>4.0</td>\n",
              "      <td>0</td>\n",
              "      <td>$202437</td>\n",
              "      <td>LincolnReed950@protonmail.com</td>\n",
              "    </tr>\n",
              "    <tr>\n",
              "      <th>13</th>\n",
              "      <td>Layla Flores</td>\n",
              "      <td>8203 Seventh Place, Brandon, Florida</td>\n",
              "      <td>9898295117</td>\n",
              "      <td>1999</td>\n",
              "      <td>Rent</td>\n",
              "      <td>3.0</td>\n",
              "      <td>0</td>\n",
              "      <td>$140957</td>\n",
              "      <td>LaylaFlores176@gmail.com</td>\n",
              "    </tr>\n",
              "    <tr>\n",
              "      <th>14</th>\n",
              "      <td>Maya Clark</td>\n",
              "      <td>698 Cedar Dr., Apt 762, Arlington, Virginia</td>\n",
              "      <td>5555785319</td>\n",
              "      <td>1931</td>\n",
              "      <td>Own</td>\n",
              "      <td>3.0</td>\n",
              "      <td>2</td>\n",
              "      <td>$98580</td>\n",
              "      <td>MayaClark14@protonmail.com</td>\n",
              "    </tr>\n",
              "  </tbody>\n",
              "</table>\n",
              "</div>"
            ],
            "text/plain": [
              "               Name  ...                           Email\n",
              "0     Aaliyah White  ...  AaliyahWhite265@protonmail.com\n",
              "1        Luca White  ...          LucaWhite302@gmail.com\n",
              "2   Peyton Robinson  ...     PeytonRobinson746@yahoo.com\n",
              "3      Leah Ramirez  ...        LeahRamirez975@gmail.com\n",
              "4    Michael Martin  ...      MichaelMartin623@yahoo.com\n",
              "5     Daniel Rogers  ...  DanielRogers307@protonmail.com\n",
              "6       Asher Reyes  ...         AsherReyes982@gmail.com\n",
              "7      Paisley Hill  ...   PaisleyHill281@protonmail.com\n",
              "8    Charlotte King  ...   CharlotteKing5@protonmail.com\n",
              "9   Charlotte Moore  ...     CharlotteMoore587@gmail.com\n",
              "10    Aria Phillips  ...       AriaPhillips919@yahoo.com\n",
              "11      Luke Butler  ...         LukeButler410@gmail.com\n",
              "12     Lincoln Reed  ...   LincolnReed950@protonmail.com\n",
              "13     Layla Flores  ...        LaylaFlores176@gmail.com\n",
              "14       Maya Clark  ...      MayaClark14@protonmail.com\n",
              "\n",
              "[15 rows x 9 columns]"
            ]
          },
          "metadata": {
            "tags": []
          },
          "execution_count": 324
        }
      ]
    },
    {
      "cell_type": "code",
      "metadata": {
        "id": "kVEKCgTab9tY"
      },
      "source": [
        "#Export as csv\r\n",
        "#https://pandas.pydata.org/pandas-docs/stable/reference/api/pandas.DataFrame.to_csv.html\r\n",
        "\r\n",
        "df_full.to_csv(\"fake_people_data.csv\")"
      ],
      "execution_count": 325,
      "outputs": []
    },
    {
      "cell_type": "code",
      "metadata": {
        "id": "XZesW34scR-P"
      },
      "source": [
        ""
      ],
      "execution_count": 325,
      "outputs": []
    }
  ]
}