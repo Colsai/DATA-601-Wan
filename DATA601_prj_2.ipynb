{
  "nbformat": 4,
  "nbformat_minor": 0,
  "metadata": {
    "colab": {
      "name": "DATA601_PRJ_2",
      "provenance": [],
      "collapsed_sections": [],
      "toc_visible": true,
      "authorship_tag": "ABX9TyPN+RCOi9CtfTLHWoJcBWfn",
      "include_colab_link": true
    },
    "kernelspec": {
      "name": "python3",
      "display_name": "Python 3"
    },
    "language_info": {
      "name": "python"
    }
  },
  "cells": [
    {
      "cell_type": "markdown",
      "metadata": {
        "id": "view-in-github",
        "colab_type": "text"
      },
      "source": [
        "<a href=\"https://colab.research.google.com/github/Colsai/DATA-601-Wan/blob/main/DATA601_prj_2.ipynb\" target=\"_parent\"><img src=\"https://colab.research.google.com/assets/colab-badge.svg\" alt=\"Open In Colab\"/></a>"
      ]
    },
    {
      "cell_type": "markdown",
      "metadata": {
        "id": "R3tgMiRVh6fk"
      },
      "source": [
        "# DATA601 WAN\n",
        "# Chicago Public Schools\n",
        "### Project 2: Answer a question"
      ]
    },
    {
      "cell_type": "markdown",
      "metadata": {
        "id": "_ZpK7W1n1rTZ"
      },
      "source": [
        "### Description:\n",
        "* In Project 1, I looked through the datasets of different Chicago Public Schools to see how schools were performing.   \n",
        "* In Project 2, I would like to explore the trends and compare neighborhood and charter schools over the last 4 years.\n",
        "\n",
        "\n",
        "#### Background:\n",
        "One of the pressing questions in education is whether are not Charter schools perform better than other school types in terms of delivering a better education for students.  \n",
        "\n",
        "For this project, I want to look through the last four years of data and see what conclusions can be made about college preparedness by school types (are charter schools really better than neighborhood school equivalents?)\n",
        "\n",
        "There are several resources on differences between charter schools and neighborhood/public schools...\n",
        "\n",
        "*See:*\n",
        "- https://www.greatschools.org/gk/articles/public-private-charter-schools/\n",
        "- https://rhodesschool.org/differences-between-charter-and-public-schools/\n"
      ]
    },
    {
      "cell_type": "markdown",
      "metadata": {
        "id": "vwOshidL9MFm"
      },
      "source": [
        "---\n",
        "### Hypothesis 1:  \n",
        "* On Performance Metrics, Over the last 4 years, charter schools have a statistically significant difference in College attendance rates over Neighborhood schools.\n",
        "* Null Hypothesis: There is a statistical significance between Charter Schools and Neighborhood Schools in College Readiness.\n",
        "\n",
        "\n",
        "### Hypothesis 2: \n",
        "* Charter Schools have a statistically-significant higher graduation rate than neighborhood schools.  \n",
        "See: https://www.publicschoolreview.com/blog/charter-schools-produce-more-graduates-than-public-schools#:~:text=Study%3A%20Charter%20High%20Schools%20Have,Than%20Their%20Public%20School%20Peers.\n",
        "\n",
        "### Steps:\n",
        "1. Merge Data from the datasets, clean it up a bit, and check for nulls\n",
        "2. Choose data from the dataframes\n",
        "3. Select by school type\n",
        "4. Compare mean/median\n",
        "5. Answer the question- is there a significant difference between two sets of data?"
      ]
    },
    {
      "cell_type": "markdown",
      "metadata": {
        "id": "1jjIx5W1pfyp"
      },
      "source": [
        "### Dataset Sources:   \n",
        "https://data.cityofchicago.org/\n",
        "- cps_1516_df: Chicago Public Schools Report Card 2015-2016\n",
        "- cps_1617_df: Chicago Public Schools Report Card 2016-2017\n",
        "- cps_1718_df: Chicago Public Schools Report Card 2017-2018\n",
        "- cps_1819_df: Chicago Public Schools Report Card 2018-2019"
      ]
    },
    {
      "cell_type": "code",
      "metadata": {
        "id": "8goK-a5Fh4fb"
      },
      "source": [
        "#Import Packages\n",
        "import pandas as pd\n",
        "import numpy as np\n",
        "import matplotlib.pyplot as plt\n",
        "import seaborn as sns\n",
        "import time"
      ],
      "execution_count": null,
      "outputs": []
    },
    {
      "cell_type": "code",
      "metadata": {
        "id": "Tbuv-lmhiFvx",
        "colab": {
          "base_uri": "https://localhost:8080/"
        },
        "outputId": "59e33280-0efc-4a94-90a6-e97b3b7772a3"
      },
      "source": [
        "#Import each dataset (Chicago Public Schools)\n",
        "start_time = time.time()\n",
        "\n",
        "cps_1516_df = pd.read_csv(\"https://data.cityofchicago.org/api/views/fvrx-esxp/rows.csv?accessType=DOWNLOAD&bom=true&format=true\")\n",
        "cps_1617_df = pd.read_csv(\"https://data.cityofchicago.org/api/views/cp7s-7gxg/rows.csv?accessType=DOWNLOAD&bom=true&format=true\")\n",
        "cps_1718_df = pd.read_csv(\"https://data.cityofchicago.org/api/views/wkiz-8iya/rows.csv?accessType=DOWNLOAD&bom=true&format=true\")\n",
        "cps_1819_df = pd.read_csv(\"https://data.cityofchicago.org/api/views/dw27-rash/rows.csv?accessType=DOWNLOAD&bom=true&format=true\")\n",
        "\n",
        "dur = time.time()- start_time\n",
        "print(f\"{round(dur,3)}s\")"
      ],
      "execution_count": null,
      "outputs": [
        {
          "output_type": "stream",
          "text": [
            "6.224s\n"
          ],
          "name": "stdout"
        }
      ]
    },
    {
      "cell_type": "code",
      "metadata": {
        "id": "SPkXDmPgHmVe"
      },
      "source": [
        "#In-line display the elements\n",
        "def show_all(input_list, line_len = 3):\n",
        "    num_in_line = 0\n",
        "\n",
        "    for elem in input_list:\n",
        "        if num_in_line > line_len - 1:\n",
        "            print(f\"\")\n",
        "            print(elem, end = ', ')\n",
        "            num_in_line = 0\n",
        "        \n",
        "        else:\n",
        "            print(elem, end = ', ')\n",
        "        \n",
        "        num_in_line += 1"
      ],
      "execution_count": 78,
      "outputs": []
    },
    {
      "cell_type": "markdown",
      "metadata": {
        "id": "Dev-aWtGZvE9"
      },
      "source": [
        "## 1. Data Preparation (Merging the dataset and checking for nulls)"
      ]
    },
    {
      "cell_type": "markdown",
      "metadata": {
        "id": "VeKqP1Ee7npP"
      },
      "source": [
        "## 1b. Are the columns of yearly progress report the same?\n",
        "- check by comparing the sizes of each"
      ]
    },
    {
      "cell_type": "markdown",
      "metadata": {
        "id": "Jxtfa2opk1gf"
      },
      "source": [
        "REF: https://pandas.pydata.org/docs/user_guide/merging.html"
      ]
    },
    {
      "cell_type": "code",
      "metadata": {
        "colab": {
          "base_uri": "https://localhost:8080/"
        },
        "id": "Ri09c9QK8Szk",
        "outputId": "06c8d025-f386-419e-e7dc-277dd8f2127a"
      },
      "source": [
        "#Introduce the four years' datasets\n",
        "all_dfs = [cps_1516_df,\n",
        "           cps_1617_df,\n",
        "           cps_1718_df,\n",
        "           cps_1819_df]\n",
        "\n",
        "for dataframe in all_dfs:\n",
        "    print(f\"elem:{dataframe.size} | cols:{(dataframe.shape)}\")"
      ],
      "execution_count": null,
      "outputs": [
        {
          "output_type": "stream",
          "text": [
            "elem:102510 | cols:(670, 153)\n",
            "elem:106421 | cols:(661, 161)\n",
            "elem:107743 | cols:(661, 163)\n",
            "elem:119028 | cols:(654, 182)\n"
          ],
          "name": "stdout"
        }
      ]
    },
    {
      "cell_type": "markdown",
      "metadata": {
        "id": "jmbsDxfWu8Vs"
      },
      "source": [
        "*Note:* Most of the dataframes are pretty similar. There are a few differences in school count between the first dataframe and the others, and the number of columns increases per year, but they are not tremendously different here. \n",
        "\n",
        "We should not have any problems combining the data."
      ]
    },
    {
      "cell_type": "code",
      "metadata": {
        "id": "oHLw1NyD7y6j"
      },
      "source": [
        "#Checks the columns and appends to list all values that are not in one.\n",
        "def compare_cols(df1, df2):\n",
        "    not_in = []\n",
        "\n",
        "    for elem in df1.columns:\n",
        "        if elem not in df2.columns:\n",
        "            not_in.append(elem)        \n",
        "\n",
        "    return not_in"
      ],
      "execution_count": null,
      "outputs": []
    },
    {
      "cell_type": "markdown",
      "metadata": {
        "id": "LtnAZc0_vYJE"
      },
      "source": [
        "Let's compare the dataframes to see if any of the columns are different with each one.  \n",
        "*This check only goes one way (it checks what something lacks, but not what it might have that the other dataframe does not).* "
      ]
    },
    {
      "cell_type": "code",
      "metadata": {
        "colab": {
          "base_uri": "https://localhost:8080/"
        },
        "id": "h9p0kkVl7CW3",
        "outputId": "2dc7bafe-eb20-4d95-f40c-8af07d6d2e8e"
      },
      "source": [
        "#Compare elements between columns\n",
        "compare_cols(cps_1516_df,cps_1617_df)"
      ],
      "execution_count": null,
      "outputs": [
        {
          "output_type": "execute_result",
          "data": {
            "text/plain": [
              "[]"
            ]
          },
          "metadata": {
            "tags": []
          },
          "execution_count": 5
        }
      ]
    },
    {
      "cell_type": "code",
      "metadata": {
        "colab": {
          "base_uri": "https://localhost:8080/"
        },
        "id": "czGCQUGtvQDF",
        "outputId": "e4e12c04-5308-49bc-9e6b-f05250ce17e7"
      },
      "source": [
        "compare_cols(cps_1617_df,cps_1718_df)"
      ],
      "execution_count": null,
      "outputs": [
        {
          "output_type": "execute_result",
          "data": {
            "text/plain": [
              "['Address',\n",
              " 'City',\n",
              " 'State',\n",
              " 'Zip',\n",
              " 'Growth_ACT_Grade_11_Pct',\n",
              " 'Growth_ACT_Grade_11_Lbl',\n",
              " 'Attainment_ACT_Grade_11_Pct',\n",
              " 'Attainment_ACT_Grade_11_Lbl',\n",
              " 'School_Latitude',\n",
              " 'School_Longitude']"
            ]
          },
          "metadata": {
            "tags": []
          },
          "execution_count": 6
        }
      ]
    },
    {
      "cell_type": "code",
      "metadata": {
        "colab": {
          "base_uri": "https://localhost:8080/"
        },
        "id": "SBFFFRqdvUYe",
        "outputId": "a7aa374d-96d9-45ae-ad46-cb95f0d6df0e"
      },
      "source": [
        "compare_cols(cps_1718_df,cps_1819_df)"
      ],
      "execution_count": null,
      "outputs": [
        {
          "output_type": "execute_result",
          "data": {
            "text/plain": [
              "['PSAT_9_Average',\n",
              " 'PSAT_10_Average',\n",
              " 'SAT_School_Average',\n",
              " 'SAT_District_Average',\n",
              " 'PSAT_9_Growth_Pct',\n",
              " 'PSAT_10_Growth_Pct',\n",
              " 'SAT_Growth_Pct',\n",
              " 'PSAT_9_Attainment_Pct',\n",
              " 'PSAT_10_Attainment_Pct',\n",
              " 'SAT_Attainment_Pct',\n",
              " 'Location']"
            ]
          },
          "metadata": {
            "tags": []
          },
          "execution_count": 7
        }
      ]
    },
    {
      "cell_type": "markdown",
      "metadata": {
        "id": "gDHQRx8pIkik"
      },
      "source": [
        "So, there are a few different variables, but overall the data is mostly the same."
      ]
    },
    {
      "cell_type": "markdown",
      "metadata": {
        "id": "JH2iPkgVnrp0"
      },
      "source": [
        "## 1c. Merge the datasets\n",
        "- Merge them on School_ID\n",
        "Recast all School_ID as INT so that we can merge them\n",
        "Note: One issue is that the 1718 and 1819 datasets have school_id as a string (with an included comma), wheras the 1516 and 1617 have them as an int.  \n",
        "\n",
        "We have to remove the comma and recast them as ints so that they can be merged. \n",
        "- drop commas (\"000,000\" -> 000000)\n",
        "- recast as INT"
      ]
    },
    {
      "cell_type": "code",
      "metadata": {
        "id": "t2T7eWruy-gA"
      },
      "source": [
        "#Drop \",\" and replace Columns as 'int' for cps_1718 and cps_1819\n",
        "cps_1718_df['School_ID'] = cps_1718_df['School_ID'].apply(lambda x:int(x.replace(\",\",\"\")))\n",
        "cps_1819_df['School_ID'] = cps_1819_df['School_ID'].apply(lambda x:int(x.replace(\",\",\"\")))"
      ],
      "execution_count": null,
      "outputs": []
    },
    {
      "cell_type": "code",
      "metadata": {
        "id": "7P4aqQqKr2_u"
      },
      "source": [
        "#Merge the datasets together. (Outer join to keep all data)\n",
        "df_1517 = cps_1516_df.merge(cps_1617_df, how = \"outer\", on=\"School_ID\", suffixes=('_1516','_1617'))\n",
        "df_1719 = cps_1718_df.merge(cps_1819_df, how = \"outer\",  on = \"School_ID\",suffixes = ('_1718','_1819'))\n",
        "\n",
        "#Join the data again\n",
        "full_df = df_1517.merge(df_1719, how = \"outer\", on=\"School_ID\")"
      ],
      "execution_count": null,
      "outputs": []
    },
    {
      "cell_type": "markdown",
      "metadata": {
        "id": "iBk5EKsH3yuQ"
      },
      "source": [
        "### Check the merged dataset to make sure it worked"
      ]
    },
    {
      "cell_type": "code",
      "metadata": {
        "colab": {
          "base_uri": "https://localhost:8080/",
          "height": 229
        },
        "id": "sDRLpW5jIKxc",
        "outputId": "17420531-0f7c-4527-d2de-4d0902da4674"
      },
      "source": [
        "full_df.head(2)"
      ],
      "execution_count": 83,
      "outputs": [
        {
          "output_type": "execute_result",
          "data": {
            "text/html": [
              "<div>\n",
              "<style scoped>\n",
              "    .dataframe tbody tr th:only-of-type {\n",
              "        vertical-align: middle;\n",
              "    }\n",
              "\n",
              "    .dataframe tbody tr th {\n",
              "        vertical-align: top;\n",
              "    }\n",
              "\n",
              "    .dataframe thead th {\n",
              "        text-align: right;\n",
              "    }\n",
              "</style>\n",
              "<table border=\"1\" class=\"dataframe\">\n",
              "  <thead>\n",
              "    <tr style=\"text-align: right;\">\n",
              "      <th></th>\n",
              "      <th>School_ID</th>\n",
              "      <th>Short_Name_1516</th>\n",
              "      <th>Long_Name_1516</th>\n",
              "      <th>School_Type_1516</th>\n",
              "      <th>Primary_Category_1516</th>\n",
              "      <th>Address_1516</th>\n",
              "      <th>City_1516</th>\n",
              "      <th>State_1516</th>\n",
              "      <th>Zip_1516</th>\n",
              "      <th>Phone_1516</th>\n",
              "      <th>Fax_1516</th>\n",
              "      <th>CPS_School_Profile_1516</th>\n",
              "      <th>Website_1516</th>\n",
              "      <th>Progress_Report_Year_1516</th>\n",
              "      <th>Blue_Ribbon_Award_Year_1516</th>\n",
              "      <th>Excelerate_Award_Gold_Year_1516</th>\n",
              "      <th>Spot_Light_Award_Year_1516</th>\n",
              "      <th>Improvement_Award_Year_1516</th>\n",
              "      <th>Excellence_Award_Year_1516</th>\n",
              "      <th>Student_Growth_Rating_1516</th>\n",
              "      <th>Student_Growth_Description_1516</th>\n",
              "      <th>Growth_Reading_Grades_Tested_Pct_ES_1516</th>\n",
              "      <th>Growth_Reading_Grades_Tested_Label_ES_1516</th>\n",
              "      <th>Growth_Math_Grades_Tested_Pct_ES_1516</th>\n",
              "      <th>Growth_Math_Grades_Tested_Label_ES_1516</th>\n",
              "      <th>Student_Attainment_Rating_1516</th>\n",
              "      <th>Student_Attainment_Description_1516</th>\n",
              "      <th>Attainment_Reading_Pct_ES_1516</th>\n",
              "      <th>Attainment_Reading_Lbl_ES_1516</th>\n",
              "      <th>Attainment_Math_Pct_ES_1516</th>\n",
              "      <th>Attainment_Math_Lbl_ES_1516</th>\n",
              "      <th>Culture_Climate_Rating_1516</th>\n",
              "      <th>Culture_Climate_Description_1516</th>\n",
              "      <th>School_Survey_Student_Response_Rate_Pct_1516</th>\n",
              "      <th>School_Survey_Student_Response_Rate_Avg_Pct_1516</th>\n",
              "      <th>School_Survey_Teacher_Response_Rate_Pct_1516</th>\n",
              "      <th>School_Survey_Teacher_Response_Rate_Avg_Pct_1516</th>\n",
              "      <th>Healthy_School_Certification_1516</th>\n",
              "      <th>Healthy_School_Certification_Description_1516</th>\n",
              "      <th>Creative_School_Certification_1516</th>\n",
              "      <th>...</th>\n",
              "      <th>College_Persistence_School_Pct_Year_2_1819</th>\n",
              "      <th>College_Persistence_CPS_Pct_Year_2_1819</th>\n",
              "      <th>College_Persistence_School_Pct_Year_1_1819</th>\n",
              "      <th>College_Persistence_CPS_Pct_Year_1_1819</th>\n",
              "      <th>Progress_Toward_Graduation_Year_1_1819</th>\n",
              "      <th>Progress_Toward_Graduation_Year_2_1819</th>\n",
              "      <th>State_School_Report_Card_URL_1819</th>\n",
              "      <th>Mobility_Rate_Pct_1819</th>\n",
              "      <th>Chronic_Truancy_Pct_1819</th>\n",
              "      <th>Empty_Progress_Report_Message_1819</th>\n",
              "      <th>School_Survey_Rating_Description_1819</th>\n",
              "      <th>Supportive_School_Award_1819</th>\n",
              "      <th>Supportive_School_Award_Desc_1819</th>\n",
              "      <th>Parent_Survey_Results_Year_1819</th>\n",
              "      <th>School_Latitude</th>\n",
              "      <th>School_Longitude</th>\n",
              "      <th>PSAT_Grade_9_Score_School_Avg</th>\n",
              "      <th>PSAT_Grade_10_Score_School_Avg</th>\n",
              "      <th>SAT_Grade_11_Score_School_Avg</th>\n",
              "      <th>SAT_Grade_11_Score_CPS_Avg</th>\n",
              "      <th>Growth_PSAT_Grade_9_School_Pct</th>\n",
              "      <th>Growth_PSAT_Grade_9_School_Lbl</th>\n",
              "      <th>Growth_PSAT_Reading_Grade_10_School_Pct</th>\n",
              "      <th>Growth_PSAT_Reading_Grade_10_School_Lbl</th>\n",
              "      <th>Growth_SAT_Grade_11_School_Pct</th>\n",
              "      <th>Growth_SAT_Grade_11_School_Lbl</th>\n",
              "      <th>Attainment_PSAT_Grade_9_School_Pct</th>\n",
              "      <th>Attainment_PSAT_Grade_9_School_Lbl</th>\n",
              "      <th>Attainment_PSAT_Grade_10_School_Pct</th>\n",
              "      <th>Attainment_PSAT_Grade_10_School_Lbl</th>\n",
              "      <th>Attainment_SAT_Grade_11_School_Pct</th>\n",
              "      <th>Attainment_SAT_Grade_11_School_Lbl</th>\n",
              "      <th>Attainment_All_Grades_School_Pct</th>\n",
              "      <th>Attainment_All_Grades_School_Lbl</th>\n",
              "      <th>Growth_PSAT_Math_Grade_10_School_Pct</th>\n",
              "      <th>Growth_PSAT_Math_Grade_10_School_Lbl</th>\n",
              "      <th>Growth_SAT_Reading_Grade_11_School_Pct</th>\n",
              "      <th>Growth_SAT_Reading_Grade_11_School_Lbl</th>\n",
              "      <th>Growth_SAT_Math_Grade_11_School_Pct</th>\n",
              "      <th>Growth_SAT_Math_Grade_11_School_Lbl</th>\n",
              "    </tr>\n",
              "  </thead>\n",
              "  <tbody>\n",
              "    <tr>\n",
              "      <th>0</th>\n",
              "      <td>610547</td>\n",
              "      <td>SOUTH SHORE INTL HS</td>\n",
              "      <td>South Shore Intl College Prep High School</td>\n",
              "      <td>Selective enrollment</td>\n",
              "      <td>HS</td>\n",
              "      <td>1955 E 75TH ST</td>\n",
              "      <td>Chicago</td>\n",
              "      <td>Illinois</td>\n",
              "      <td>60649.0</td>\n",
              "      <td>7.735358e+09</td>\n",
              "      <td>NaN</td>\n",
              "      <td>http://cps.edu/Schools/Pages/school.aspx?Schoo...</td>\n",
              "      <td>http://www.southshoreinternational.org</td>\n",
              "      <td>2015.0</td>\n",
              "      <td>NaN</td>\n",
              "      <td>NaN</td>\n",
              "      <td>NaN</td>\n",
              "      <td>2012.0</td>\n",
              "      <td>NaN</td>\n",
              "      <td>BELOW AVERAGE</td>\n",
              "      <td>Student Growth measures the change in standard...</td>\n",
              "      <td>NaN</td>\n",
              "      <td>NaN</td>\n",
              "      <td>NaN</td>\n",
              "      <td>NaN</td>\n",
              "      <td>BELOW AVERAGE</td>\n",
              "      <td>Student Attainment measures how well the schoo...</td>\n",
              "      <td>NaN</td>\n",
              "      <td>NaN</td>\n",
              "      <td>NaN</td>\n",
              "      <td>NaN</td>\n",
              "      <td>ORGANIZED</td>\n",
              "      <td>Results are based on student and teacher respo...</td>\n",
              "      <td>81.1</td>\n",
              "      <td>81.2</td>\n",
              "      <td>90.5</td>\n",
              "      <td>80.7</td>\n",
              "      <td>NOT CERTIFIED</td>\n",
              "      <td>This school has not achieved Healthy School Ce...</td>\n",
              "      <td>INCOMPLETE DATA</td>\n",
              "      <td>...</td>\n",
              "      <td>68.1</td>\n",
              "      <td>72.3</td>\n",
              "      <td>63.0</td>\n",
              "      <td>71.9</td>\n",
              "      <td>2,017</td>\n",
              "      <td>2,018</td>\n",
              "      <td>http://iirc.niu.edu/School.aspx?schoolid=15016...</td>\n",
              "      <td>2.9</td>\n",
              "      <td>45.4</td>\n",
              "      <td>NaN</td>\n",
              "      <td>This school does not have enough data for a re...</td>\n",
              "      <td>NOT RATED</td>\n",
              "      <td>This school has not submitted an action plan t...</td>\n",
              "      <td>2,018</td>\n",
              "      <td>41.758792</td>\n",
              "      <td>-87.576353</td>\n",
              "      <td>818</td>\n",
              "      <td>891</td>\n",
              "      <td>929</td>\n",
              "      <td>969.0</td>\n",
              "      <td>9.0</td>\n",
              "      <td>9th</td>\n",
              "      <td>92.0</td>\n",
              "      <td>92nd</td>\n",
              "      <td>5.0</td>\n",
              "      <td>5th</td>\n",
              "      <td>35.7</td>\n",
              "      <td>35.7</td>\n",
              "      <td>45.9</td>\n",
              "      <td>45.9</td>\n",
              "      <td>18.5</td>\n",
              "      <td>18.5</td>\n",
              "      <td>34.1</td>\n",
              "      <td>34.1</td>\n",
              "      <td>29.0</td>\n",
              "      <td>29th</td>\n",
              "      <td>33.0</td>\n",
              "      <td>33rd</td>\n",
              "      <td>37.0</td>\n",
              "      <td>37th</td>\n",
              "    </tr>\n",
              "    <tr>\n",
              "      <th>1</th>\n",
              "      <td>400097</td>\n",
              "      <td>NOBLE - BULLS HS</td>\n",
              "      <td>Noble - Chicago Bulls College Prep</td>\n",
              "      <td>Charter</td>\n",
              "      <td>HS</td>\n",
              "      <td>2040 W ADAMS ST</td>\n",
              "      <td>Chicago</td>\n",
              "      <td>Illinois</td>\n",
              "      <td>60612.0</td>\n",
              "      <td>7.735348e+09</td>\n",
              "      <td>3.128500e+09</td>\n",
              "      <td>http://cps.edu/Schools/Pages/school.aspx?Schoo...</td>\n",
              "      <td>http://www.chicagobullscollegeprep.org</td>\n",
              "      <td>2015.0</td>\n",
              "      <td>NaN</td>\n",
              "      <td>NaN</td>\n",
              "      <td>NaN</td>\n",
              "      <td>NaN</td>\n",
              "      <td>NaN</td>\n",
              "      <td>AVERAGE</td>\n",
              "      <td>Student Growth measures the change in standard...</td>\n",
              "      <td>NaN</td>\n",
              "      <td>NaN</td>\n",
              "      <td>NaN</td>\n",
              "      <td>NaN</td>\n",
              "      <td>ABOVE AVERAGE</td>\n",
              "      <td>Student Attainment measures how well the schoo...</td>\n",
              "      <td>NaN</td>\n",
              "      <td>NaN</td>\n",
              "      <td>NaN</td>\n",
              "      <td>NaN</td>\n",
              "      <td>WELL ORGANIZED</td>\n",
              "      <td>Results are based on student and teacher respo...</td>\n",
              "      <td>59.3</td>\n",
              "      <td>81.2</td>\n",
              "      <td>72.4</td>\n",
              "      <td>80.7</td>\n",
              "      <td>NOT CERTIFIED</td>\n",
              "      <td>This school has not achieved Healthy School Ce...</td>\n",
              "      <td>INCOMPLETE DATA</td>\n",
              "      <td>...</td>\n",
              "      <td>80.0</td>\n",
              "      <td>72.3</td>\n",
              "      <td>74.0</td>\n",
              "      <td>71.9</td>\n",
              "      <td>2,017</td>\n",
              "      <td>2,018</td>\n",
              "      <td>http://iirc.niu.edu/School.aspx?schoolid=15016...</td>\n",
              "      <td>3.4</td>\n",
              "      <td>46.5</td>\n",
              "      <td>NaN</td>\n",
              "      <td>This school is “Well-Organized for Improvement...</td>\n",
              "      <td>NOT RATED</td>\n",
              "      <td>This school has not submitted an action plan t...</td>\n",
              "      <td>2,018</td>\n",
              "      <td>41.878809</td>\n",
              "      <td>-87.678195</td>\n",
              "      <td>868</td>\n",
              "      <td>958</td>\n",
              "      <td>1,033</td>\n",
              "      <td>969.0</td>\n",
              "      <td>99.0</td>\n",
              "      <td>99th</td>\n",
              "      <td>96.0</td>\n",
              "      <td>96th</td>\n",
              "      <td>99.0</td>\n",
              "      <td>99th</td>\n",
              "      <td>50.2</td>\n",
              "      <td>50.2</td>\n",
              "      <td>65.9</td>\n",
              "      <td>65.9</td>\n",
              "      <td>54.5</td>\n",
              "      <td>54.5</td>\n",
              "      <td>56.5</td>\n",
              "      <td>56.5</td>\n",
              "      <td>72.0</td>\n",
              "      <td>72nd</td>\n",
              "      <td>68.0</td>\n",
              "      <td>68th</td>\n",
              "      <td>90.0</td>\n",
              "      <td>90th</td>\n",
              "    </tr>\n",
              "  </tbody>\n",
              "</table>\n",
              "<p>2 rows × 656 columns</p>\n",
              "</div>"
            ],
            "text/plain": [
              "   School_ID  ... Growth_SAT_Math_Grade_11_School_Lbl\n",
              "0     610547  ...                                37th\n",
              "1     400097  ...                                90th\n",
              "\n",
              "[2 rows x 656 columns]"
            ]
          },
          "metadata": {
            "tags": []
          },
          "execution_count": 83
        }
      ]
    },
    {
      "cell_type": "code",
      "metadata": {
        "colab": {
          "base_uri": "https://localhost:8080/"
        },
        "id": "x9g-p6FVn6VQ",
        "outputId": "f159735f-e627-4908-b57c-41d3777ca44b"
      },
      "source": [
        "full_df.info()"
      ],
      "execution_count": 89,
      "outputs": [
        {
          "output_type": "stream",
          "text": [
            "<class 'pandas.core.frame.DataFrame'>\n",
            "Int64Index: 678 entries, 0 to 677\n",
            "Columns: 656 entries, School_ID to Growth_SAT_Math_Grade_11_School_Lbl\n",
            "dtypes: float64(345), int64(1), object(310)\n",
            "memory usage: 3.4+ MB\n"
          ],
          "name": "stdout"
        }
      ]
    },
    {
      "cell_type": "code",
      "metadata": {
        "colab": {
          "base_uri": "https://localhost:8080/"
        },
        "id": "cz0gKGwaIPeg",
        "outputId": "24fe8501-c25f-4983-b429-e008cbb803a8"
      },
      "source": [
        "#What kinds of data are in the new dataframe?\n",
        "full_df.dtypes.value_counts()"
      ],
      "execution_count": 88,
      "outputs": [
        {
          "output_type": "execute_result",
          "data": {
            "text/plain": [
              "float64    345\n",
              "object     310\n",
              "int64        1\n",
              "dtype: int64"
            ]
          },
          "metadata": {
            "tags": []
          },
          "execution_count": 88
        }
      ]
    },
    {
      "cell_type": "code",
      "metadata": {
        "colab": {
          "base_uri": "https://localhost:8080/"
        },
        "id": "TAU9-NH22Awt",
        "outputId": "4bef88dc-5349-4e43-e7f5-8e3aa4f1df5a"
      },
      "source": [
        "#What percent of the data is null?\n",
        "(full_df.isna().sum().sum()) / (full_df.size)"
      ],
      "execution_count": null,
      "outputs": [
        {
          "output_type": "execute_result",
          "data": {
            "text/plain": [
              "0.29766754802503775"
            ]
          },
          "metadata": {
            "tags": []
          },
          "execution_count": 56
        }
      ]
    },
    {
      "cell_type": "markdown",
      "metadata": {
        "id": "hgHAF4PKaZwh"
      },
      "source": [
        "##2. Comparing College Entrance Rates, Charter High Schools vs. Neighborhood High Schools\n",
        "One of the major indicators of how successful schools are at delivering education is looking at College Entrance enrollment rates. In this section, we will look at...\n",
        "- How successful are Charter Schools vs. Neighborhood Schools at getting students into College? \n",
        "- Is it significant?"
      ]
    },
    {
      "cell_type": "code",
      "metadata": {
        "colab": {
          "base_uri": "https://localhost:8080/",
          "height": 294
        },
        "id": "0f_Fn7yD6RLG",
        "outputId": "ecb55146-d622-4e5f-9b8f-02afb7b88fed"
      },
      "source": [
        "#Head of the new dataframe\n",
        "full_df.head(3)"
      ],
      "execution_count": 91,
      "outputs": [
        {
          "output_type": "execute_result",
          "data": {
            "text/html": [
              "<div>\n",
              "<style scoped>\n",
              "    .dataframe tbody tr th:only-of-type {\n",
              "        vertical-align: middle;\n",
              "    }\n",
              "\n",
              "    .dataframe tbody tr th {\n",
              "        vertical-align: top;\n",
              "    }\n",
              "\n",
              "    .dataframe thead th {\n",
              "        text-align: right;\n",
              "    }\n",
              "</style>\n",
              "<table border=\"1\" class=\"dataframe\">\n",
              "  <thead>\n",
              "    <tr style=\"text-align: right;\">\n",
              "      <th></th>\n",
              "      <th>School_ID</th>\n",
              "      <th>Short_Name_1516</th>\n",
              "      <th>Long_Name_1516</th>\n",
              "      <th>School_Type_1516</th>\n",
              "      <th>Primary_Category_1516</th>\n",
              "      <th>Address_1516</th>\n",
              "      <th>City_1516</th>\n",
              "      <th>State_1516</th>\n",
              "      <th>Zip_1516</th>\n",
              "      <th>Phone_1516</th>\n",
              "      <th>Fax_1516</th>\n",
              "      <th>CPS_School_Profile_1516</th>\n",
              "      <th>Website_1516</th>\n",
              "      <th>Progress_Report_Year_1516</th>\n",
              "      <th>Blue_Ribbon_Award_Year_1516</th>\n",
              "      <th>Excelerate_Award_Gold_Year_1516</th>\n",
              "      <th>Spot_Light_Award_Year_1516</th>\n",
              "      <th>Improvement_Award_Year_1516</th>\n",
              "      <th>Excellence_Award_Year_1516</th>\n",
              "      <th>Student_Growth_Rating_1516</th>\n",
              "      <th>Student_Growth_Description_1516</th>\n",
              "      <th>Growth_Reading_Grades_Tested_Pct_ES_1516</th>\n",
              "      <th>Growth_Reading_Grades_Tested_Label_ES_1516</th>\n",
              "      <th>Growth_Math_Grades_Tested_Pct_ES_1516</th>\n",
              "      <th>Growth_Math_Grades_Tested_Label_ES_1516</th>\n",
              "      <th>Student_Attainment_Rating_1516</th>\n",
              "      <th>Student_Attainment_Description_1516</th>\n",
              "      <th>Attainment_Reading_Pct_ES_1516</th>\n",
              "      <th>Attainment_Reading_Lbl_ES_1516</th>\n",
              "      <th>Attainment_Math_Pct_ES_1516</th>\n",
              "      <th>Attainment_Math_Lbl_ES_1516</th>\n",
              "      <th>Culture_Climate_Rating_1516</th>\n",
              "      <th>Culture_Climate_Description_1516</th>\n",
              "      <th>School_Survey_Student_Response_Rate_Pct_1516</th>\n",
              "      <th>School_Survey_Student_Response_Rate_Avg_Pct_1516</th>\n",
              "      <th>School_Survey_Teacher_Response_Rate_Pct_1516</th>\n",
              "      <th>School_Survey_Teacher_Response_Rate_Avg_Pct_1516</th>\n",
              "      <th>Healthy_School_Certification_1516</th>\n",
              "      <th>Healthy_School_Certification_Description_1516</th>\n",
              "      <th>Creative_School_Certification_1516</th>\n",
              "      <th>...</th>\n",
              "      <th>College_Persistence_School_Pct_Year_2_1819</th>\n",
              "      <th>College_Persistence_CPS_Pct_Year_2_1819</th>\n",
              "      <th>College_Persistence_School_Pct_Year_1_1819</th>\n",
              "      <th>College_Persistence_CPS_Pct_Year_1_1819</th>\n",
              "      <th>Progress_Toward_Graduation_Year_1_1819</th>\n",
              "      <th>Progress_Toward_Graduation_Year_2_1819</th>\n",
              "      <th>State_School_Report_Card_URL_1819</th>\n",
              "      <th>Mobility_Rate_Pct_1819</th>\n",
              "      <th>Chronic_Truancy_Pct_1819</th>\n",
              "      <th>Empty_Progress_Report_Message_1819</th>\n",
              "      <th>School_Survey_Rating_Description_1819</th>\n",
              "      <th>Supportive_School_Award_1819</th>\n",
              "      <th>Supportive_School_Award_Desc_1819</th>\n",
              "      <th>Parent_Survey_Results_Year_1819</th>\n",
              "      <th>School_Latitude</th>\n",
              "      <th>School_Longitude</th>\n",
              "      <th>PSAT_Grade_9_Score_School_Avg</th>\n",
              "      <th>PSAT_Grade_10_Score_School_Avg</th>\n",
              "      <th>SAT_Grade_11_Score_School_Avg</th>\n",
              "      <th>SAT_Grade_11_Score_CPS_Avg</th>\n",
              "      <th>Growth_PSAT_Grade_9_School_Pct</th>\n",
              "      <th>Growth_PSAT_Grade_9_School_Lbl</th>\n",
              "      <th>Growth_PSAT_Reading_Grade_10_School_Pct</th>\n",
              "      <th>Growth_PSAT_Reading_Grade_10_School_Lbl</th>\n",
              "      <th>Growth_SAT_Grade_11_School_Pct</th>\n",
              "      <th>Growth_SAT_Grade_11_School_Lbl</th>\n",
              "      <th>Attainment_PSAT_Grade_9_School_Pct</th>\n",
              "      <th>Attainment_PSAT_Grade_9_School_Lbl</th>\n",
              "      <th>Attainment_PSAT_Grade_10_School_Pct</th>\n",
              "      <th>Attainment_PSAT_Grade_10_School_Lbl</th>\n",
              "      <th>Attainment_SAT_Grade_11_School_Pct</th>\n",
              "      <th>Attainment_SAT_Grade_11_School_Lbl</th>\n",
              "      <th>Attainment_All_Grades_School_Pct</th>\n",
              "      <th>Attainment_All_Grades_School_Lbl</th>\n",
              "      <th>Growth_PSAT_Math_Grade_10_School_Pct</th>\n",
              "      <th>Growth_PSAT_Math_Grade_10_School_Lbl</th>\n",
              "      <th>Growth_SAT_Reading_Grade_11_School_Pct</th>\n",
              "      <th>Growth_SAT_Reading_Grade_11_School_Lbl</th>\n",
              "      <th>Growth_SAT_Math_Grade_11_School_Pct</th>\n",
              "      <th>Growth_SAT_Math_Grade_11_School_Lbl</th>\n",
              "    </tr>\n",
              "  </thead>\n",
              "  <tbody>\n",
              "    <tr>\n",
              "      <th>0</th>\n",
              "      <td>610547</td>\n",
              "      <td>SOUTH SHORE INTL HS</td>\n",
              "      <td>South Shore Intl College Prep High School</td>\n",
              "      <td>Selective enrollment</td>\n",
              "      <td>HS</td>\n",
              "      <td>1955 E 75TH ST</td>\n",
              "      <td>Chicago</td>\n",
              "      <td>Illinois</td>\n",
              "      <td>60649.0</td>\n",
              "      <td>7.735358e+09</td>\n",
              "      <td>NaN</td>\n",
              "      <td>http://cps.edu/Schools/Pages/school.aspx?Schoo...</td>\n",
              "      <td>http://www.southshoreinternational.org</td>\n",
              "      <td>2015.0</td>\n",
              "      <td>NaN</td>\n",
              "      <td>NaN</td>\n",
              "      <td>NaN</td>\n",
              "      <td>2012.0</td>\n",
              "      <td>NaN</td>\n",
              "      <td>BELOW AVERAGE</td>\n",
              "      <td>Student Growth measures the change in standard...</td>\n",
              "      <td>NaN</td>\n",
              "      <td>NaN</td>\n",
              "      <td>NaN</td>\n",
              "      <td>NaN</td>\n",
              "      <td>BELOW AVERAGE</td>\n",
              "      <td>Student Attainment measures how well the schoo...</td>\n",
              "      <td>NaN</td>\n",
              "      <td>NaN</td>\n",
              "      <td>NaN</td>\n",
              "      <td>NaN</td>\n",
              "      <td>ORGANIZED</td>\n",
              "      <td>Results are based on student and teacher respo...</td>\n",
              "      <td>81.1</td>\n",
              "      <td>81.2</td>\n",
              "      <td>90.5</td>\n",
              "      <td>80.7</td>\n",
              "      <td>NOT CERTIFIED</td>\n",
              "      <td>This school has not achieved Healthy School Ce...</td>\n",
              "      <td>INCOMPLETE DATA</td>\n",
              "      <td>...</td>\n",
              "      <td>68.1</td>\n",
              "      <td>72.3</td>\n",
              "      <td>63.0</td>\n",
              "      <td>71.9</td>\n",
              "      <td>2,017</td>\n",
              "      <td>2,018</td>\n",
              "      <td>http://iirc.niu.edu/School.aspx?schoolid=15016...</td>\n",
              "      <td>2.9</td>\n",
              "      <td>45.4</td>\n",
              "      <td>NaN</td>\n",
              "      <td>This school does not have enough data for a re...</td>\n",
              "      <td>NOT RATED</td>\n",
              "      <td>This school has not submitted an action plan t...</td>\n",
              "      <td>2,018</td>\n",
              "      <td>41.758792</td>\n",
              "      <td>-87.576353</td>\n",
              "      <td>818</td>\n",
              "      <td>891</td>\n",
              "      <td>929</td>\n",
              "      <td>969.0</td>\n",
              "      <td>9.0</td>\n",
              "      <td>9th</td>\n",
              "      <td>92.0</td>\n",
              "      <td>92nd</td>\n",
              "      <td>5.0</td>\n",
              "      <td>5th</td>\n",
              "      <td>35.7</td>\n",
              "      <td>35.7</td>\n",
              "      <td>45.9</td>\n",
              "      <td>45.9</td>\n",
              "      <td>18.5</td>\n",
              "      <td>18.5</td>\n",
              "      <td>34.1</td>\n",
              "      <td>34.1</td>\n",
              "      <td>29.0</td>\n",
              "      <td>29th</td>\n",
              "      <td>33.0</td>\n",
              "      <td>33rd</td>\n",
              "      <td>37.0</td>\n",
              "      <td>37th</td>\n",
              "    </tr>\n",
              "    <tr>\n",
              "      <th>1</th>\n",
              "      <td>400097</td>\n",
              "      <td>NOBLE - BULLS HS</td>\n",
              "      <td>Noble - Chicago Bulls College Prep</td>\n",
              "      <td>Charter</td>\n",
              "      <td>HS</td>\n",
              "      <td>2040 W ADAMS ST</td>\n",
              "      <td>Chicago</td>\n",
              "      <td>Illinois</td>\n",
              "      <td>60612.0</td>\n",
              "      <td>7.735348e+09</td>\n",
              "      <td>3.128500e+09</td>\n",
              "      <td>http://cps.edu/Schools/Pages/school.aspx?Schoo...</td>\n",
              "      <td>http://www.chicagobullscollegeprep.org</td>\n",
              "      <td>2015.0</td>\n",
              "      <td>NaN</td>\n",
              "      <td>NaN</td>\n",
              "      <td>NaN</td>\n",
              "      <td>NaN</td>\n",
              "      <td>NaN</td>\n",
              "      <td>AVERAGE</td>\n",
              "      <td>Student Growth measures the change in standard...</td>\n",
              "      <td>NaN</td>\n",
              "      <td>NaN</td>\n",
              "      <td>NaN</td>\n",
              "      <td>NaN</td>\n",
              "      <td>ABOVE AVERAGE</td>\n",
              "      <td>Student Attainment measures how well the schoo...</td>\n",
              "      <td>NaN</td>\n",
              "      <td>NaN</td>\n",
              "      <td>NaN</td>\n",
              "      <td>NaN</td>\n",
              "      <td>WELL ORGANIZED</td>\n",
              "      <td>Results are based on student and teacher respo...</td>\n",
              "      <td>59.3</td>\n",
              "      <td>81.2</td>\n",
              "      <td>72.4</td>\n",
              "      <td>80.7</td>\n",
              "      <td>NOT CERTIFIED</td>\n",
              "      <td>This school has not achieved Healthy School Ce...</td>\n",
              "      <td>INCOMPLETE DATA</td>\n",
              "      <td>...</td>\n",
              "      <td>80.0</td>\n",
              "      <td>72.3</td>\n",
              "      <td>74.0</td>\n",
              "      <td>71.9</td>\n",
              "      <td>2,017</td>\n",
              "      <td>2,018</td>\n",
              "      <td>http://iirc.niu.edu/School.aspx?schoolid=15016...</td>\n",
              "      <td>3.4</td>\n",
              "      <td>46.5</td>\n",
              "      <td>NaN</td>\n",
              "      <td>This school is “Well-Organized for Improvement...</td>\n",
              "      <td>NOT RATED</td>\n",
              "      <td>This school has not submitted an action plan t...</td>\n",
              "      <td>2,018</td>\n",
              "      <td>41.878809</td>\n",
              "      <td>-87.678195</td>\n",
              "      <td>868</td>\n",
              "      <td>958</td>\n",
              "      <td>1,033</td>\n",
              "      <td>969.0</td>\n",
              "      <td>99.0</td>\n",
              "      <td>99th</td>\n",
              "      <td>96.0</td>\n",
              "      <td>96th</td>\n",
              "      <td>99.0</td>\n",
              "      <td>99th</td>\n",
              "      <td>50.2</td>\n",
              "      <td>50.2</td>\n",
              "      <td>65.9</td>\n",
              "      <td>65.9</td>\n",
              "      <td>54.5</td>\n",
              "      <td>54.5</td>\n",
              "      <td>56.5</td>\n",
              "      <td>56.5</td>\n",
              "      <td>72.0</td>\n",
              "      <td>72nd</td>\n",
              "      <td>68.0</td>\n",
              "      <td>68th</td>\n",
              "      <td>90.0</td>\n",
              "      <td>90th</td>\n",
              "    </tr>\n",
              "    <tr>\n",
              "      <th>2</th>\n",
              "      <td>610515</td>\n",
              "      <td>DISNEY II ES</td>\n",
              "      <td>Disney II Magnet School</td>\n",
              "      <td>Magnet</td>\n",
              "      <td>ES</td>\n",
              "      <td>3815 N KEDVALE AVE</td>\n",
              "      <td>Chicago</td>\n",
              "      <td>Illinois</td>\n",
              "      <td>60641.0</td>\n",
              "      <td>7.735344e+09</td>\n",
              "      <td>7.735344e+09</td>\n",
              "      <td>http://cps.edu/Schools/Pages/school.aspx?Schoo...</td>\n",
              "      <td>http://www.disneyiimagnet.org</td>\n",
              "      <td>2015.0</td>\n",
              "      <td>NaN</td>\n",
              "      <td>NaN</td>\n",
              "      <td>NaN</td>\n",
              "      <td>NaN</td>\n",
              "      <td>2012.0</td>\n",
              "      <td>ABOVE AVERAGE</td>\n",
              "      <td>Student Growth measures the change in standard...</td>\n",
              "      <td>78.0</td>\n",
              "      <td>78th</td>\n",
              "      <td>53.0</td>\n",
              "      <td>53rd</td>\n",
              "      <td>FAR ABOVE AVERAGE</td>\n",
              "      <td>Student Attainment measures how well the schoo...</td>\n",
              "      <td>97.0</td>\n",
              "      <td>97th</td>\n",
              "      <td>96.0</td>\n",
              "      <td>96th</td>\n",
              "      <td>WELL ORGANIZED</td>\n",
              "      <td>Results are based on student and teacher respo...</td>\n",
              "      <td>99.9</td>\n",
              "      <td>81.2</td>\n",
              "      <td>89.3</td>\n",
              "      <td>80.7</td>\n",
              "      <td>HEALTHY SCHOOLS CERTIFIED</td>\n",
              "      <td>This school has achieved Healthy School Certif...</td>\n",
              "      <td>EXCELLING</td>\n",
              "      <td>...</td>\n",
              "      <td>NaN</td>\n",
              "      <td>72.3</td>\n",
              "      <td>NaN</td>\n",
              "      <td>71.9</td>\n",
              "      <td>2,017</td>\n",
              "      <td>2,018</td>\n",
              "      <td>http://iirc.niu.edu/School.aspx?schoolid=15016...</td>\n",
              "      <td>1.1</td>\n",
              "      <td>9.2</td>\n",
              "      <td>NaN</td>\n",
              "      <td>This school is “Well-Organized for Improvement...</td>\n",
              "      <td>EMERGING</td>\n",
              "      <td>This school has developed an action plan to su...</td>\n",
              "      <td>2,018</td>\n",
              "      <td>41.950461</td>\n",
              "      <td>-87.730678</td>\n",
              "      <td>NaN</td>\n",
              "      <td>NaN</td>\n",
              "      <td>NaN</td>\n",
              "      <td>969.0</td>\n",
              "      <td>NaN</td>\n",
              "      <td>NaN</td>\n",
              "      <td>NaN</td>\n",
              "      <td>NaN</td>\n",
              "      <td>NaN</td>\n",
              "      <td>NaN</td>\n",
              "      <td>NaN</td>\n",
              "      <td>NaN</td>\n",
              "      <td>NaN</td>\n",
              "      <td>NaN</td>\n",
              "      <td>NaN</td>\n",
              "      <td>NaN</td>\n",
              "      <td>NaN</td>\n",
              "      <td>NaN</td>\n",
              "      <td>NaN</td>\n",
              "      <td>NaN</td>\n",
              "      <td>NaN</td>\n",
              "      <td>NaN</td>\n",
              "      <td>NaN</td>\n",
              "      <td>NaN</td>\n",
              "    </tr>\n",
              "  </tbody>\n",
              "</table>\n",
              "<p>3 rows × 656 columns</p>\n",
              "</div>"
            ],
            "text/plain": [
              "   School_ID  ... Growth_SAT_Math_Grade_11_School_Lbl\n",
              "0     610547  ...                                37th\n",
              "1     400097  ...                                90th\n",
              "2     610515  ...                                 NaN\n",
              "\n",
              "[3 rows x 656 columns]"
            ]
          },
          "metadata": {
            "tags": []
          },
          "execution_count": 91
        }
      ]
    },
    {
      "cell_type": "code",
      "metadata": {
        "id": "xYIB_RzY51Dy"
      },
      "source": [
        "#Add elements to list\n",
        "base_list = [\"School_ID\", \n",
        "             \"Long_Name_1516\",\n",
        "             \"School_Type_1516\",\n",
        "             'Primary_Category_1516']\n",
        "\n",
        "clg_prep_list =[elem for elem in full_df if \"college\" in elem.lower()]\n",
        "college_list = base_list + clg_prep_list\n",
        "\n",
        "#Create dataframe college_df\n",
        "college_df = full_df[college_list]"
      ],
      "execution_count": 90,
      "outputs": []
    },
    {
      "cell_type": "code",
      "metadata": {
        "colab": {
          "base_uri": "https://localhost:8080/"
        },
        "id": "24JP5SThDtlw",
        "outputId": "ec0a1122-db0a-4a06-e7ef-01b6b0ef6a69"
      },
      "source": [
        "#Nulls from the College DF\n",
        "college_df.isna().sum()"
      ],
      "execution_count": null,
      "outputs": [
        {
          "output_type": "execute_result",
          "data": {
            "text/plain": [
              "School_ID                                       0\n",
              "Long_Name_1516                                  8\n",
              "School_Type_1516                                8\n",
              "Primary_Category_1516                           8\n",
              "College_Enrollment_School_Pct_Year_2_1516     524\n",
              "College_Enrollment_CPS_Pct_Year_2_1516         12\n",
              "College_Enrollment_School_Pct_Year_1_1516     532\n",
              "College_Enrollment_CPS_Pct_Year_1_1516         12\n",
              "College_Persistence_School_Pct_Year_2_1516    548\n",
              "College_Persistence_CPS_Pct_Year_2_1516        12\n",
              "College_Persistence_School_Pct_Year_1_1516    573\n",
              "College_Persistence_CPS_Pct_Year_1_1516        12\n",
              "College_Enrollment_School_Pct_Year_2_1617     519\n",
              "College_Enrollment_CPS_Pct_Year_2_1617         18\n",
              "College_Enrollment_School_Pct_Year_1_1617     528\n",
              "College_Enrollment_CPS_Pct_Year_1_1617         18\n",
              "College_Persistence_School_Pct_Year_2_1617    547\n",
              "College_Persistence_CPS_Pct_Year_2_1617        18\n",
              "College_Persistence_School_Pct_Year_1_1617    550\n",
              "College_Persistence_CPS_Pct_Year_1_1617        18\n",
              "College_Enrollment_School_Pct_Year_2_1718     516\n",
              "College_Enrollment_CPS_Pct_Year_2_1718        516\n",
              "College_Enrollment_School_Pct_Year_1_1718     521\n",
              "College_Enrollment_CPS_Pct_Year_1_1718        521\n",
              "College_Persistence_School_Pct_Year_2_1718    550\n",
              "College_Persistence_CPS_Pct_Year_2_1718       550\n",
              "College_Persistence_School_Pct_Year_1_1718    549\n",
              "College_Persistence_CPS_Pct_Year_1_1718       549\n",
              "College_Enrollment_School_Pct_Year_2_1819     513\n",
              "College_Enrollment_CPS_Pct_Year_2_1819         28\n",
              "College_Enrollment_School_Pct_Year_1_1819     523\n",
              "College_Enrollment_CPS_Pct_Year_1_1819         28\n",
              "College_Persistence_School_Pct_Year_2_1819    546\n",
              "College_Persistence_CPS_Pct_Year_2_1819        28\n",
              "College_Persistence_School_Pct_Year_1_1819    553\n",
              "College_Persistence_CPS_Pct_Year_1_1819        28\n",
              "dtype: int64"
            ]
          },
          "metadata": {
            "tags": []
          },
          "execution_count": 16
        }
      ]
    },
    {
      "cell_type": "markdown",
      "metadata": {
        "id": "9GrB7aQQ-wZT"
      },
      "source": [
        "We see a lot of nulls, but most of these make sense. Any of the College Enrollment numbers are mostly only applicable to the high schools, so a majority of values will not be in the dataset."
      ]
    },
    {
      "cell_type": "markdown",
      "metadata": {
        "id": "nKv4KqEq-36r"
      },
      "source": [
        "## Focus on High Schools for Graduation Rate\n",
        "Now, let's take a look at the graduation rates only for high schools, so that we can narrow our focus to Charters vs. Neighborhood"
      ]
    },
    {
      "cell_type": "markdown",
      "metadata": {
        "id": "MpOboH5mbSAN"
      },
      "source": [
        "This function selects different elements that fulfill certain conditions. \n",
        "- Returns columns of elements where there is a string match (helpful for selecting 'HS'/'ES', etc.)\n",
        "- null is set to false, so it will ignore nulls. "
      ]
    },
    {
      "cell_type": "code",
      "metadata": {
        "id": "olZH2SCdDP_O"
      },
      "source": [
        "#String matches what you are looking for\n",
        "def category_find(dataframe, column, name, exact=True):\n",
        "    if exact == True:\n",
        "        find_it = dataframe[dataframe[column].str.match(name, case=False,na=False)] \n",
        "\n",
        "    else:\n",
        "        find_it = dataframe[dataframe[column].str.contains(name, case=False,na=False)] \n",
        "    return find_it"
      ],
      "execution_count": null,
      "outputs": []
    },
    {
      "cell_type": "code",
      "metadata": {
        "id": "K7Km4eYcDgys"
      },
      "source": [
        "#create a new dataframe called 'hs_df' for schools classified as 'hs' (high school).\n",
        "hs_df = category_find(college_df, 'Primary_Category_1516', 'HS')"
      ],
      "execution_count": null,
      "outputs": []
    },
    {
      "cell_type": "code",
      "metadata": {
        "colab": {
          "base_uri": "https://localhost:8080/"
        },
        "id": "p9gUYTPxE3A2",
        "outputId": "6937cb81-ca43-4fee-c615-361ee0f626b0"
      },
      "source": [
        "#How many nulls does this new dataframe have?\n",
        "hs_df.isna().sum().sum()"
      ],
      "execution_count": null,
      "outputs": [
        {
          "output_type": "execute_result",
          "data": {
            "text/plain": [
              "1045"
            ]
          },
          "metadata": {
            "tags": []
          },
          "execution_count": 19
        }
      ]
    },
    {
      "cell_type": "markdown",
      "metadata": {
        "id": "5-EzUEV8E7Pe"
      },
      "source": [
        "Unfortunately, there are some null values. Let's see what we get from a few years of looking at this."
      ]
    },
    {
      "cell_type": "markdown",
      "metadata": {
        "id": "yG9NqSQ4JCYn"
      },
      "source": [
        "Quick look at the first year of data (2015-2016 from 2 years back)."
      ]
    },
    {
      "cell_type": "code",
      "metadata": {
        "colab": {
          "base_uri": "https://localhost:8080/",
          "height": 734
        },
        "id": "vD_JgrZnFDmu",
        "outputId": "c35fecce-40f3-45b1-e3f7-6b0b151ba3a8"
      },
      "source": [
        "# Let's swarmplot and boxplot to see how well teacher attendance is, per High School\n",
        "fig, ax = plt.subplots(2, figsize = (16,12), sharex = True, sharey = True)\n",
        "\n",
        "sns.swarmplot(x = hs_df.School_Type_1516, y = hs_df.College_Enrollment_School_Pct_Year_1_1516, color = 'black', ax = ax[0])\n",
        "sns.boxplot(x = hs_df.School_Type_1516, y = hs_df.College_Enrollment_School_Pct_Year_1_1516, palette= \"Reds_r\", ax = ax[0])\n",
        "sns.despine()\n",
        "\n",
        "plt.title(\"College Enrollment % (Year 1), CPS 2018-2019\")\n",
        "\n",
        "#Labeling Graph\n",
        "sns.barplot(data=hs_df, x='School_Type_1516', y = 'College_Enrollment_School_Pct_Year_1_1516',  palette=\"Reds_r\")\n",
        "\n",
        "plotnames = ['Box/swarm','Bar']\n",
        "\n",
        "for i in range(0,2):\n",
        "    ax[i].set_title(f\"{plotnames[i]} Plot: College Enrollment %, Chicago Public High Schools (2015-2016)\", size = 14 )\n",
        "    ax[i].set_xlabel(\"High School Types\", size = 12)\n",
        "    ax[i].set_ylabel(\"College Enrollment %, Year 1\", size = 12)\n",
        "    ax[i].grid(color='gray', alpha = .5, linestyle='-', linewidth=.5)\n",
        "\n",
        "sns.despine()\n",
        "sns.set_style('ticks')\n",
        "plt.show()"
      ],
      "execution_count": null,
      "outputs": [
        {
          "output_type": "display_data",
          "data": {
            "image/png": "[encoded data removed]",
            "text/plain": [
              "<Figure size 1152x864 with 2 Axes>"
            ]
          },
          "metadata": {
            "tags": [],
            "needs_background": "light"
          }
        }
      ]
    },
    {
      "cell_type": "markdown",
      "metadata": {
        "id": "GaSsZeiwJKlS"
      },
      "source": [
        "Just comparing the neighborhood and charter schools here, it does not appear that in their first year there was a significant difference in students who decided to enroll in College upon graduation. "
      ]
    },
    {
      "cell_type": "markdown",
      "metadata": {
        "id": "wOK_cAMCa3TU"
      },
      "source": [
        "What are the different columns of data that show the College Entrance rates of students?"
      ]
    },
    {
      "cell_type": "code",
      "metadata": {
        "colab": {
          "base_uri": "https://localhost:8080/"
        },
        "id": "b4U4LNqd8BHQ",
        "outputId": "fe40549b-f134-48e5-a059-15d5ee61ecf0"
      },
      "source": [
        "#How many nulls in the data are there?\n",
        "college_df.isna().sum()"
      ],
      "execution_count": null,
      "outputs": [
        {
          "output_type": "execute_result",
          "data": {
            "text/plain": [
              "School_ID                                       0\n",
              "Long_Name_1516                                  8\n",
              "School_Type_1516                                8\n",
              "Primary_Category_1516                           8\n",
              "College_Enrollment_School_Pct_Year_2_1516     524\n",
              "College_Enrollment_CPS_Pct_Year_2_1516         12\n",
              "College_Enrollment_School_Pct_Year_1_1516     532\n",
              "College_Enrollment_CPS_Pct_Year_1_1516         12\n",
              "College_Persistence_School_Pct_Year_2_1516    548\n",
              "College_Persistence_CPS_Pct_Year_2_1516        12\n",
              "College_Persistence_School_Pct_Year_1_1516    573\n",
              "College_Persistence_CPS_Pct_Year_1_1516        12\n",
              "College_Enrollment_School_Pct_Year_2_1617     519\n",
              "College_Enrollment_CPS_Pct_Year_2_1617         18\n",
              "College_Enrollment_School_Pct_Year_1_1617     528\n",
              "College_Enrollment_CPS_Pct_Year_1_1617         18\n",
              "College_Persistence_School_Pct_Year_2_1617    547\n",
              "College_Persistence_CPS_Pct_Year_2_1617        18\n",
              "College_Persistence_School_Pct_Year_1_1617    550\n",
              "College_Persistence_CPS_Pct_Year_1_1617        18\n",
              "College_Enrollment_School_Pct_Year_2_1718     516\n",
              "College_Enrollment_CPS_Pct_Year_2_1718        516\n",
              "College_Enrollment_School_Pct_Year_1_1718     521\n",
              "College_Enrollment_CPS_Pct_Year_1_1718        521\n",
              "College_Persistence_School_Pct_Year_2_1718    550\n",
              "College_Persistence_CPS_Pct_Year_2_1718       550\n",
              "College_Persistence_School_Pct_Year_1_1718    549\n",
              "College_Persistence_CPS_Pct_Year_1_1718       549\n",
              "College_Enrollment_School_Pct_Year_2_1819     513\n",
              "College_Enrollment_CPS_Pct_Year_2_1819         28\n",
              "College_Enrollment_School_Pct_Year_1_1819     523\n",
              "College_Enrollment_CPS_Pct_Year_1_1819         28\n",
              "College_Persistence_School_Pct_Year_2_1819    546\n",
              "College_Persistence_CPS_Pct_Year_2_1819        28\n",
              "College_Persistence_School_Pct_Year_1_1819    553\n",
              "College_Persistence_CPS_Pct_Year_1_1819        28\n",
              "dtype: int64"
            ]
          },
          "metadata": {
            "tags": []
          },
          "execution_count": 21
        }
      ]
    },
    {
      "cell_type": "code",
      "metadata": {
        "colab": {
          "base_uri": "https://localhost:8080/"
        },
        "id": "7CYZuLG1G8Ri",
        "outputId": "d1c71e6a-a746-44c0-e04f-1fe8307f8477"
      },
      "source": [
        "for elem in college_df.columns:\n",
        "    if \"college_enrollment_school\" in elem.lower():\n",
        "        print(elem)"
      ],
      "execution_count": null,
      "outputs": [
        {
          "output_type": "stream",
          "text": [
            "College_Enrollment_School_Pct_Year_2_1516\n",
            "College_Enrollment_School_Pct_Year_1_1516\n",
            "College_Enrollment_School_Pct_Year_2_1617\n",
            "College_Enrollment_School_Pct_Year_1_1617\n",
            "College_Enrollment_School_Pct_Year_2_1718\n",
            "College_Enrollment_School_Pct_Year_1_1718\n",
            "College_Enrollment_School_Pct_Year_2_1819\n",
            "College_Enrollment_School_Pct_Year_1_1819\n"
          ],
          "name": "stdout"
        }
      ]
    },
    {
      "cell_type": "code",
      "metadata": {
        "colab": {
          "base_uri": "https://localhost:8080/",
          "height": 708
        },
        "id": "jLMB1r-j4hwh",
        "outputId": "a2307647-ba55-4fb3-b9ac-af83402e1f60"
      },
      "source": [
        "# Generally, do year 1 and year 2 school attendances look similar, per school type?\n",
        "sns.set_style('darkgrid')\n",
        "sns.despine()\n",
        "\n",
        "fig, ax = plt.subplots(figsize = (16,8), sharex=True, sharey = True)\n",
        "\n",
        "sns.stripplot(data = hs_df, x = 'School_Type_1516', y = 'College_Enrollment_School_Pct_Year_1_1516', color = 'black', label = \"2015-2016\")\n",
        "sns.stripplot(data = hs_df, x = 'School_Type_1516', y = 'College_Enrollment_School_Pct_Year_1_1617', color = 'red', label = \"2016-2017\")\n",
        "sns.stripplot(data = hs_df, x = 'School_Type_1516', y = 'College_Enrollment_School_Pct_Year_1_1718', color = 'orange', label = \"2017-2018\")\n",
        "sns.stripplot(data = hs_df, x = 'School_Type_1516', y = 'College_Enrollment_School_Pct_Year_1_1819', color = 'blue', label = \"2018-2019\")\n",
        "\n",
        "#sns.violinplot(data = df, x = 'School_Type', y = 'Student_Attendance_Year_1_Pct', palette = 'muted')\n",
        "ax.set_title(\"College Enrollment Percentages by Different School types, CPS 2018-2019\", size = 14)\n",
        "ax.set_xlabel(\"School Type\", size = 12)\n",
        "ax.set_ylabel(\"Student Attendance Pct\", size = 12)\n",
        "ax.grid(axis = 'both')\n",
        "ax.legend(['2015-2016: Black','2016-2017: Red', '2017-2018: Orange', '2018-2019: Blue'])\n",
        "ax.set_xticklabels(ax.get_xticklabels(),rotation=0)"
      ],
      "execution_count": null,
      "outputs": [
        {
          "output_type": "execute_result",
          "data": {
            "text/plain": [
              "[Text(0, 0, 'Selective enrollment'),\n",
              " Text(0, 0, 'Charter'),\n",
              " Text(0, 0, 'Military academy'),\n",
              " Text(0, 0, 'Neighborhood'),\n",
              " Text(0, 0, 'Citywide-Option'),\n",
              " Text(0, 0, 'Small'),\n",
              " Text(0, 0, 'Magnet'),\n",
              " Text(0, 0, 'Special Education'),\n",
              " Text(0, 0, 'Contract'),\n",
              " Text(0, 0, 'Career academy')]"
            ]
          },
          "metadata": {
            "tags": []
          },
          "execution_count": 47
        },
        {
          "output_type": "display_data",
          "data": {
            "text/plain": [
              "<Figure size 432x288 with 0 Axes>"
            ]
          },
          "metadata": {
            "tags": []
          }
        },
        {
          "output_type": "display_data",
          "data": {
            "image/png": "[encoded data removed]",
            "text/plain": [
              "<Figure size 1152x576 with 1 Axes>"
            ]
          },
          "metadata": {
            "tags": []
          }
        }
      ]
    },
    {
      "cell_type": "markdown",
      "metadata": {
        "id": "KSjVWsuPMt8s"
      },
      "source": [
        "Roughly, what kind of distribution are College Enrollment Rates?"
      ]
    },
    {
      "cell_type": "code",
      "metadata": {
        "colab": {
          "base_uri": "https://localhost:8080/",
          "height": 335
        },
        "id": "1XrW2G7zPaRe",
        "outputId": "25618202-ab09-46a7-bbf0-2e5092ebd17f"
      },
      "source": [
        "#What does the distribution look like?\n",
        "plt.hist(hs_df.College_Enrollment_School_Pct_Year_1_1516)"
      ],
      "execution_count": null,
      "outputs": [
        {
          "output_type": "execute_result",
          "data": {
            "text/plain": [
              "(array([ 3., 10., 15., 12., 15., 21., 19., 20., 17., 14.]),\n",
              " array([ 0.  ,  8.99, 17.98, 26.97, 35.96, 44.95, 53.94, 62.93, 71.92,\n",
              "        80.91, 89.9 ]),\n",
              " <a list of 10 Patch objects>)"
            ]
          },
          "metadata": {
            "tags": []
          },
          "execution_count": 24
        },
        {
          "output_type": "display_data",
          "data": {
            "image/png": "[encoded data removed]",
            "text/plain": [
              "<Figure size 432x288 with 1 Axes>"
            ]
          },
          "metadata": {
            "tags": []
          }
        }
      ]
    },
    {
      "cell_type": "code",
      "metadata": {
        "id": "x1v8E7JxIaxf"
      },
      "source": [
        "college_prep_df = hs_df[['School_Type_1516', \n",
        "                                'College_Enrollment_School_Pct_Year_1_1516', \n",
        "                                'College_Enrollment_School_Pct_Year_1_1617',\n",
        "                                'College_Enrollment_School_Pct_Year_1_1718',\n",
        "                                'College_Enrollment_School_Pct_Year_1_1819']]"
      ],
      "execution_count": null,
      "outputs": []
    },
    {
      "cell_type": "code",
      "metadata": {
        "colab": {
          "base_uri": "https://localhost:8080/",
          "height": 202
        },
        "id": "J6saB4k5O9GY",
        "outputId": "38029d41-f0d8-42c7-ba4d-4463cb0118ee"
      },
      "source": [
        "college_prep_df.head()"
      ],
      "execution_count": null,
      "outputs": [
        {
          "output_type": "execute_result",
          "data": {
            "text/html": [
              "<div>\n",
              "<style scoped>\n",
              "    .dataframe tbody tr th:only-of-type {\n",
              "        vertical-align: middle;\n",
              "    }\n",
              "\n",
              "    .dataframe tbody tr th {\n",
              "        vertical-align: top;\n",
              "    }\n",
              "\n",
              "    .dataframe thead th {\n",
              "        text-align: right;\n",
              "    }\n",
              "</style>\n",
              "<table border=\"1\" class=\"dataframe\">\n",
              "  <thead>\n",
              "    <tr style=\"text-align: right;\">\n",
              "      <th></th>\n",
              "      <th>School_Type_1516</th>\n",
              "      <th>College_Enrollment_School_Pct_Year_1_1516</th>\n",
              "      <th>College_Enrollment_School_Pct_Year_1_1617</th>\n",
              "      <th>College_Enrollment_School_Pct_Year_1_1718</th>\n",
              "      <th>College_Enrollment_School_Pct_Year_1_1819</th>\n",
              "    </tr>\n",
              "  </thead>\n",
              "  <tbody>\n",
              "    <tr>\n",
              "      <th>0</th>\n",
              "      <td>Selective enrollment</td>\n",
              "      <td>NaN</td>\n",
              "      <td>NaN</td>\n",
              "      <td>64.2</td>\n",
              "      <td>78.4</td>\n",
              "    </tr>\n",
              "    <tr>\n",
              "      <th>1</th>\n",
              "      <td>Charter</td>\n",
              "      <td>83.6</td>\n",
              "      <td>83.2</td>\n",
              "      <td>84.4</td>\n",
              "      <td>86.3</td>\n",
              "    </tr>\n",
              "    <tr>\n",
              "      <th>4</th>\n",
              "      <td>Selective enrollment</td>\n",
              "      <td>88.5</td>\n",
              "      <td>87.6</td>\n",
              "      <td>87.3</td>\n",
              "      <td>85.1</td>\n",
              "    </tr>\n",
              "    <tr>\n",
              "      <th>5</th>\n",
              "      <td>Charter</td>\n",
              "      <td>43.5</td>\n",
              "      <td>53.1</td>\n",
              "      <td>39.3</td>\n",
              "      <td>30.0</td>\n",
              "    </tr>\n",
              "    <tr>\n",
              "      <th>9</th>\n",
              "      <td>Military academy</td>\n",
              "      <td>56.6</td>\n",
              "      <td>51.4</td>\n",
              "      <td>61.5</td>\n",
              "      <td>52.9</td>\n",
              "    </tr>\n",
              "  </tbody>\n",
              "</table>\n",
              "</div>"
            ],
            "text/plain": [
              "       School_Type_1516  ...  College_Enrollment_School_Pct_Year_1_1819\n",
              "0  Selective enrollment  ...                                       78.4\n",
              "1               Charter  ...                                       86.3\n",
              "4  Selective enrollment  ...                                       85.1\n",
              "5               Charter  ...                                       30.0\n",
              "9      Military academy  ...                                       52.9\n",
              "\n",
              "[5 rows x 5 columns]"
            ]
          },
          "metadata": {
            "tags": []
          },
          "execution_count": 26
        }
      ]
    },
    {
      "cell_type": "markdown",
      "metadata": {
        "id": "CIVcnbHGXgnC"
      },
      "source": [
        "Let's melt the dataframe so that we can look at it and extract values"
      ]
    },
    {
      "cell_type": "code",
      "metadata": {
        "colab": {
          "base_uri": "https://localhost:8080/",
          "height": 415
        },
        "id": "q9MKYVbpSNtd",
        "outputId": "0b32e4b1-7e3f-4c10-c92c-a5ff42706f11"
      },
      "source": [
        "#Melt dataframe for all years\n",
        "college_prep_all_df = pd.melt(college_prep_df, id_vars=['School_Type_1516'], \n",
        "                              var_name='Year', \n",
        "                              value_name='Percent')\n",
        "\n",
        "college_prep_all_df"
      ],
      "execution_count": null,
      "outputs": [
        {
          "output_type": "execute_result",
          "data": {
            "text/html": [
              "<div>\n",
              "<style scoped>\n",
              "    .dataframe tbody tr th:only-of-type {\n",
              "        vertical-align: middle;\n",
              "    }\n",
              "\n",
              "    .dataframe tbody tr th {\n",
              "        vertical-align: top;\n",
              "    }\n",
              "\n",
              "    .dataframe thead th {\n",
              "        text-align: right;\n",
              "    }\n",
              "</style>\n",
              "<table border=\"1\" class=\"dataframe\">\n",
              "  <thead>\n",
              "    <tr style=\"text-align: right;\">\n",
              "      <th></th>\n",
              "      <th>School_Type_1516</th>\n",
              "      <th>Year</th>\n",
              "      <th>Percent</th>\n",
              "    </tr>\n",
              "  </thead>\n",
              "  <tbody>\n",
              "    <tr>\n",
              "      <th>0</th>\n",
              "      <td>Selective enrollment</td>\n",
              "      <td>College_Enrollment_School_Pct_Year_1_1516</td>\n",
              "      <td>NaN</td>\n",
              "    </tr>\n",
              "    <tr>\n",
              "      <th>1</th>\n",
              "      <td>Charter</td>\n",
              "      <td>College_Enrollment_School_Pct_Year_1_1516</td>\n",
              "      <td>83.6</td>\n",
              "    </tr>\n",
              "    <tr>\n",
              "      <th>2</th>\n",
              "      <td>Selective enrollment</td>\n",
              "      <td>College_Enrollment_School_Pct_Year_1_1516</td>\n",
              "      <td>88.5</td>\n",
              "    </tr>\n",
              "    <tr>\n",
              "      <th>3</th>\n",
              "      <td>Charter</td>\n",
              "      <td>College_Enrollment_School_Pct_Year_1_1516</td>\n",
              "      <td>43.5</td>\n",
              "    </tr>\n",
              "    <tr>\n",
              "      <th>4</th>\n",
              "      <td>Military academy</td>\n",
              "      <td>College_Enrollment_School_Pct_Year_1_1516</td>\n",
              "      <td>56.6</td>\n",
              "    </tr>\n",
              "    <tr>\n",
              "      <th>...</th>\n",
              "      <td>...</td>\n",
              "      <td>...</td>\n",
              "      <td>...</td>\n",
              "    </tr>\n",
              "    <tr>\n",
              "      <th>747</th>\n",
              "      <td>Charter</td>\n",
              "      <td>College_Enrollment_School_Pct_Year_1_1819</td>\n",
              "      <td>6.1</td>\n",
              "    </tr>\n",
              "    <tr>\n",
              "      <th>748</th>\n",
              "      <td>Charter</td>\n",
              "      <td>College_Enrollment_School_Pct_Year_1_1819</td>\n",
              "      <td>NaN</td>\n",
              "    </tr>\n",
              "    <tr>\n",
              "      <th>749</th>\n",
              "      <td>Charter</td>\n",
              "      <td>College_Enrollment_School_Pct_Year_1_1819</td>\n",
              "      <td>9.1</td>\n",
              "    </tr>\n",
              "    <tr>\n",
              "      <th>750</th>\n",
              "      <td>Citywide-Option</td>\n",
              "      <td>College_Enrollment_School_Pct_Year_1_1819</td>\n",
              "      <td>23.6</td>\n",
              "    </tr>\n",
              "    <tr>\n",
              "      <th>751</th>\n",
              "      <td>Charter</td>\n",
              "      <td>College_Enrollment_School_Pct_Year_1_1819</td>\n",
              "      <td>14.3</td>\n",
              "    </tr>\n",
              "  </tbody>\n",
              "</table>\n",
              "<p>752 rows × 3 columns</p>\n",
              "</div>"
            ],
            "text/plain": [
              "         School_Type_1516                                       Year  Percent\n",
              "0    Selective enrollment  College_Enrollment_School_Pct_Year_1_1516      NaN\n",
              "1                 Charter  College_Enrollment_School_Pct_Year_1_1516     83.6\n",
              "2    Selective enrollment  College_Enrollment_School_Pct_Year_1_1516     88.5\n",
              "3                 Charter  College_Enrollment_School_Pct_Year_1_1516     43.5\n",
              "4        Military academy  College_Enrollment_School_Pct_Year_1_1516     56.6\n",
              "..                    ...                                        ...      ...\n",
              "747               Charter  College_Enrollment_School_Pct_Year_1_1819      6.1\n",
              "748               Charter  College_Enrollment_School_Pct_Year_1_1819      NaN\n",
              "749               Charter  College_Enrollment_School_Pct_Year_1_1819      9.1\n",
              "750       Citywide-Option  College_Enrollment_School_Pct_Year_1_1819     23.6\n",
              "751               Charter  College_Enrollment_School_Pct_Year_1_1819     14.3\n",
              "\n",
              "[752 rows x 3 columns]"
            ]
          },
          "metadata": {
            "tags": []
          },
          "execution_count": 27
        }
      ]
    },
    {
      "cell_type": "code",
      "metadata": {
        "id": "Ym649aTQXAJt"
      },
      "source": [
        "charter_college_df = category_find(college_prep_all_df, 'School_Type_1516', 'Charter', exact = False)\n",
        "neighborhood_college_df = category_find(college_prep_all_df, 'School_Type_1516', 'Neighborhood', exact = False)\n",
        "magnet_college_df = category_find(college_prep_all_df, 'School_Type_1516', 'Magnet', exact = False)"
      ],
      "execution_count": null,
      "outputs": []
    },
    {
      "cell_type": "code",
      "metadata": {
        "colab": {
          "base_uri": "https://localhost:8080/",
          "height": 417
        },
        "id": "xJm4pAyaO-_Z",
        "outputId": "ea805436-40a0-47c1-9719-6669dfb766b1"
      },
      "source": [
        "college_prep_all_df.groupby('School_Type_1516').describe()"
      ],
      "execution_count": null,
      "outputs": [
        {
          "output_type": "execute_result",
          "data": {
            "text/html": [
              "<div>\n",
              "<style scoped>\n",
              "    .dataframe tbody tr th:only-of-type {\n",
              "        vertical-align: middle;\n",
              "    }\n",
              "\n",
              "    .dataframe tbody tr th {\n",
              "        vertical-align: top;\n",
              "    }\n",
              "\n",
              "    .dataframe thead tr th {\n",
              "        text-align: left;\n",
              "    }\n",
              "\n",
              "    .dataframe thead tr:last-of-type th {\n",
              "        text-align: right;\n",
              "    }\n",
              "</style>\n",
              "<table border=\"1\" class=\"dataframe\">\n",
              "  <thead>\n",
              "    <tr>\n",
              "      <th></th>\n",
              "      <th colspan=\"8\" halign=\"left\">Percent</th>\n",
              "    </tr>\n",
              "    <tr>\n",
              "      <th></th>\n",
              "      <th>count</th>\n",
              "      <th>mean</th>\n",
              "      <th>std</th>\n",
              "      <th>min</th>\n",
              "      <th>25%</th>\n",
              "      <th>50%</th>\n",
              "      <th>75%</th>\n",
              "      <th>max</th>\n",
              "    </tr>\n",
              "    <tr>\n",
              "      <th>School_Type_1516</th>\n",
              "      <th></th>\n",
              "      <th></th>\n",
              "      <th></th>\n",
              "      <th></th>\n",
              "      <th></th>\n",
              "      <th></th>\n",
              "      <th></th>\n",
              "      <th></th>\n",
              "    </tr>\n",
              "  </thead>\n",
              "  <tbody>\n",
              "    <tr>\n",
              "      <th>Career academy</th>\n",
              "      <td>16.0</td>\n",
              "      <td>55.593750</td>\n",
              "      <td>11.486309</td>\n",
              "      <td>34.4</td>\n",
              "      <td>47.100</td>\n",
              "      <td>59.55</td>\n",
              "      <td>64.825</td>\n",
              "      <td>71.0</td>\n",
              "    </tr>\n",
              "    <tr>\n",
              "      <th>Charter</th>\n",
              "      <td>209.0</td>\n",
              "      <td>50.262679</td>\n",
              "      <td>28.445823</td>\n",
              "      <td>0.0</td>\n",
              "      <td>20.800</td>\n",
              "      <td>58.30</td>\n",
              "      <td>75.900</td>\n",
              "      <td>92.2</td>\n",
              "    </tr>\n",
              "    <tr>\n",
              "      <th>Citywide-Option</th>\n",
              "      <td>43.0</td>\n",
              "      <td>19.848837</td>\n",
              "      <td>12.791578</td>\n",
              "      <td>5.1</td>\n",
              "      <td>12.500</td>\n",
              "      <td>17.20</td>\n",
              "      <td>23.350</td>\n",
              "      <td>66.7</td>\n",
              "    </tr>\n",
              "    <tr>\n",
              "      <th>Contract</th>\n",
              "      <td>9.0</td>\n",
              "      <td>62.922222</td>\n",
              "      <td>18.476321</td>\n",
              "      <td>25.9</td>\n",
              "      <td>54.500</td>\n",
              "      <td>63.40</td>\n",
              "      <td>79.600</td>\n",
              "      <td>83.1</td>\n",
              "    </tr>\n",
              "    <tr>\n",
              "      <th>Magnet</th>\n",
              "      <td>20.0</td>\n",
              "      <td>71.735000</td>\n",
              "      <td>10.375187</td>\n",
              "      <td>54.1</td>\n",
              "      <td>63.675</td>\n",
              "      <td>75.05</td>\n",
              "      <td>79.500</td>\n",
              "      <td>90.3</td>\n",
              "    </tr>\n",
              "    <tr>\n",
              "      <th>Military academy</th>\n",
              "      <td>22.0</td>\n",
              "      <td>55.500000</td>\n",
              "      <td>8.081608</td>\n",
              "      <td>43.8</td>\n",
              "      <td>48.450</td>\n",
              "      <td>54.80</td>\n",
              "      <td>63.125</td>\n",
              "      <td>67.9</td>\n",
              "    </tr>\n",
              "    <tr>\n",
              "      <th>Neighborhood</th>\n",
              "      <td>177.0</td>\n",
              "      <td>49.641243</td>\n",
              "      <td>12.820095</td>\n",
              "      <td>20.7</td>\n",
              "      <td>41.900</td>\n",
              "      <td>48.40</td>\n",
              "      <td>57.800</td>\n",
              "      <td>80.0</td>\n",
              "    </tr>\n",
              "    <tr>\n",
              "      <th>Selective enrollment</th>\n",
              "      <td>38.0</td>\n",
              "      <td>84.573684</td>\n",
              "      <td>5.064006</td>\n",
              "      <td>64.2</td>\n",
              "      <td>82.575</td>\n",
              "      <td>85.15</td>\n",
              "      <td>87.675</td>\n",
              "      <td>93.4</td>\n",
              "    </tr>\n",
              "    <tr>\n",
              "      <th>Small</th>\n",
              "      <td>55.0</td>\n",
              "      <td>57.045455</td>\n",
              "      <td>12.339695</td>\n",
              "      <td>36.9</td>\n",
              "      <td>48.150</td>\n",
              "      <td>57.50</td>\n",
              "      <td>65.450</td>\n",
              "      <td>83.1</td>\n",
              "    </tr>\n",
              "    <tr>\n",
              "      <th>Special Education</th>\n",
              "      <td>16.0</td>\n",
              "      <td>3.681250</td>\n",
              "      <td>4.712992</td>\n",
              "      <td>0.0</td>\n",
              "      <td>0.000</td>\n",
              "      <td>1.05</td>\n",
              "      <td>8.050</td>\n",
              "      <td>12.9</td>\n",
              "    </tr>\n",
              "  </tbody>\n",
              "</table>\n",
              "</div>"
            ],
            "text/plain": [
              "                     Percent                        ...                     \n",
              "                       count       mean        std  ...    50%     75%   max\n",
              "School_Type_1516                                    ...                     \n",
              "Career academy          16.0  55.593750  11.486309  ...  59.55  64.825  71.0\n",
              "Charter                209.0  50.262679  28.445823  ...  58.30  75.900  92.2\n",
              "Citywide-Option         43.0  19.848837  12.791578  ...  17.20  23.350  66.7\n",
              "Contract                 9.0  62.922222  18.476321  ...  63.40  79.600  83.1\n",
              "Magnet                  20.0  71.735000  10.375187  ...  75.05  79.500  90.3\n",
              "Military academy        22.0  55.500000   8.081608  ...  54.80  63.125  67.9\n",
              "Neighborhood           177.0  49.641243  12.820095  ...  48.40  57.800  80.0\n",
              "Selective enrollment    38.0  84.573684   5.064006  ...  85.15  87.675  93.4\n",
              "Small                   55.0  57.045455  12.339695  ...  57.50  65.450  83.1\n",
              "Special Education       16.0   3.681250   4.712992  ...   1.05   8.050  12.9\n",
              "\n",
              "[10 rows x 8 columns]"
            ]
          },
          "metadata": {
            "tags": []
          },
          "execution_count": 29
        }
      ]
    },
    {
      "cell_type": "markdown",
      "metadata": {
        "id": "HD2QYO1JZfMS"
      },
      "source": [
        "Thoughts: From a cursory look at the data, there does not appear to be a significant difference between the performance of \n",
        "- Charter Schools (n=209 / μ = 50.26) and \n",
        "- Neighborhood Schools (n=177/ μ = 49.64)  \n",
        "in their mean college entrance rates.\n",
        "\n",
        "However, let's check that hypothesis with a T-Test.\n"
      ]
    },
    {
      "cell_type": "markdown",
      "metadata": {
        "id": "PVuCO69uPjNz"
      },
      "source": [
        "### Welch T-Test to Check Significance\n",
        "So, our data is\n",
        "- unpaired, since schools are different\n",
        "- appears to be normal in distribution (parametric)\n",
        "\n",
        "So, let's use a Welch T-Test\n",
        "https://towardsdatascience.com/the-statistical-analysis-t-test-explained-for-beginners-and-experts-fd0e358bbb62\n",
        "\n",
        "\n",
        "Welch T-Test\n",
        "(Ref: https://www.statology.org/welch-t-test-python/)\n"
      ]
    },
    {
      "cell_type": "code",
      "metadata": {
        "colab": {
          "base_uri": "https://localhost:8080/"
        },
        "id": "It05aJSDA8x9",
        "outputId": "2cf5b9a0-e304-4a78-b0c4-c488e6252f63"
      },
      "source": [
        "#Are the variances equal?\n",
        "np.nanvar(charter_college_df.Percent) == np.nanvar(neighborhood_college_df.Percent)"
      ],
      "execution_count": null,
      "outputs": [
        {
          "output_type": "execute_result",
          "data": {
            "text/plain": [
              "False"
            ]
          },
          "metadata": {
            "tags": []
          },
          "execution_count": 57
        }
      ]
    },
    {
      "cell_type": "code",
      "metadata": {
        "colab": {
          "base_uri": "https://localhost:8080/"
        },
        "id": "B8TPtj8cSGXM",
        "outputId": "48ee16a6-3f84-4d3a-8442-d76673699c90"
      },
      "source": [
        "#Import Scipy and Omit NaNs.\n",
        "from scipy import stats\n",
        "\n",
        "stats.ttest_ind(charter_college_df.Percent, \n",
        "                neighborhood_college_df.Percent,\n",
        "                equal_var = False, \n",
        "                nan_policy = 'omit')"
      ],
      "execution_count": null,
      "outputs": [
        {
          "output_type": "execute_result",
          "data": {
            "text/plain": [
              "Ttest_indResult(statistic=0.28364091061519503, pvalue=0.7768816293914667)"
            ]
          },
          "metadata": {
            "tags": []
          },
          "execution_count": 30
        }
      ]
    },
    {
      "cell_type": "markdown",
      "metadata": {
        "id": "clh8AA8VZJFH"
      },
      "source": [
        "In this case, we have to reject the null hypothesis.   \n",
        "There may be a difference between the two types of schools, but it isn't significant, with a P-value > .05."
      ]
    },
    {
      "cell_type": "markdown",
      "metadata": {
        "id": "CtCG2uS0m6kb"
      },
      "source": [
        "# Graduation Rates\n",
        "Next, we can take a look at the graduation rates of students in high school, another strong indicator of delivering successful instruction. Higher graduation rates should naturally suggest that the overall education being delivered is at a higher quality- more students are on-board, etc.\n",
        "\n",
        "\n",
        "Data Definitions: https://www.splitgraph.com/cityofchicago/chicago-public-schools-school-progress-reports-cp7s-7gxg\n",
        "\n",
        "*Note: \"Year_1\" is 2 years ago, \"Year_2\" is last year's graduation data.*"
      ]
    },
    {
      "cell_type": "code",
      "metadata": {
        "colab": {
          "base_uri": "https://localhost:8080/"
        },
        "id": "9evC6gy1lo8u",
        "outputId": "932e5b83-aa09-472f-ba6b-375b5c846f75"
      },
      "source": [
        "for elem in full_df.columns:\n",
        "    if \"graduation\" in elem.lower():\n",
        "        print(elem)"
      ],
      "execution_count": null,
      "outputs": [
        {
          "output_type": "stream",
          "text": [
            "Progress_Toward_Graduation_Year_1_1516\n",
            "Progress_Toward_Graduation_Year_2_1516\n",
            "Graduation_4_Year_School_Pct_Year_2\n",
            "Graduation_4_Year_CPS_Pct_Year_2\n",
            "Graduation_4_Year_School_Pct_Year_1\n",
            "Graduation_4_Year_CPS_Pct_Year_1\n",
            "Graduation_5_Year_School_Pct_Year_2\n",
            "Graduation_5_Year_CPS_Pct_Year_2\n",
            "Graduation_5_Year_School_Pct_Year_1\n",
            "Graduation_5_Year_CPS_Pct_Year_1\n",
            "Progress_Toward_Graduation_Year_1_1617\n",
            "Progress_Toward_Graduation_Year_2_1617\n",
            "Graduation_4_Year_School_Pct_Year_2_1718\n",
            "Graduation_4_Year_CPS_Pct_Year_2_1718\n",
            "Graduation_4_Year_School_Pct_Year_1_1718\n",
            "Graduation_4_Year_CPS_Pct_Year_1_1718\n",
            "Graduation_5_Year_School_Pct_Year_2_1718\n",
            "Graduation_5_Year_CPS_Pct_Year_2_1718\n",
            "Graduation_5_Year_School_Pct_Year_1_1718\n",
            "Graduation_5_Year_CPS_Pct_Year_1_1718\n",
            "Progress_Toward_Graduation_Year_1_1718\n",
            "Progress_Toward_Graduation_Year_2_1718\n",
            "Graduation_4_Year_School_Pct_Year_2_1819\n",
            "Graduation_4_Year_CPS_Pct_Year_2_1819\n",
            "Graduation_4_Year_School_Pct_Year_1_1819\n",
            "Graduation_4_Year_CPS_Pct_Year_1_1819\n",
            "Graduation_5_Year_School_Pct_Year_2_1819\n",
            "Graduation_5_Year_CPS_Pct_Year_2_1819\n",
            "Graduation_5_Year_School_Pct_Year_1_1819\n",
            "Graduation_5_Year_CPS_Pct_Year_1_1819\n",
            "Progress_Toward_Graduation_Year_1_1819\n",
            "Progress_Toward_Graduation_Year_2_1819\n"
          ],
          "name": "stdout"
        }
      ]
    },
    {
      "cell_type": "code",
      "metadata": {
        "id": "fGEkNYjrnW0f"
      },
      "source": [
        "#Create the dataframe by selecting elements relating to graduation\n",
        "base_list = [\"School_ID\", \"Long_Name_1516\",\"School_Type_1516\",'Primary_Category_1516']\n",
        "clg_prep_list =[elem for elem in full_df if (\"graduation_4_year_school_pct_year_2\" in elem.lower()) or (elem.lower() == \"graduation_4_year_school_pct_year_1\")]\n",
        "gradrate_list = base_list + clg_prep_list"
      ],
      "execution_count": 63,
      "outputs": []
    },
    {
      "cell_type": "markdown",
      "metadata": {
        "id": "A4JttzXdoH9r"
      },
      "source": [
        "*Note:* Unfortunately, for graduation rates, we only have data from 1617/1718/1819.  \n",
        "However, we have two years of data for each year. Year 2 is the last year, and Year 1 is the year before, so we actually have all four years here."
      ]
    },
    {
      "cell_type": "code",
      "metadata": {
        "id": "6i0m_Z8rok-p"
      },
      "source": [
        "#Let's create the more-focused dataframe for these items\n",
        "gradrate_df = full_df[gradrate_list]\n",
        "\n",
        "#'Year 1' Denotes 2 years ago; year_1 == year 2 1516\n",
        "gradrate_df = gradrate_df.rename(columns={\"Graduation_4_Year_School_Pct_Year_2\": \"Graduation_4_Year_School_Pct_Year_2_1617\",\n",
        "                                          \"Graduation_4_Year_School_Pct_Year_1\": \"Graduation_4_Year_School_Pct_Year_2_1516\"})\n",
        "\n",
        "#Create focused dataframe (only HS)\n",
        "gradrate_hs_df = category_find(gradrate_df, 'Primary_Category_1516', 'HS')"
      ],
      "execution_count": null,
      "outputs": []
    },
    {
      "cell_type": "code",
      "metadata": {
        "colab": {
          "base_uri": "https://localhost:8080/",
          "height": 202
        },
        "id": "yag74-xmpYWG",
        "outputId": "328ac8b7-3816-44a2-abc4-b63511436958"
      },
      "source": [
        "#Check the data before proceeding\n",
        "gradrate_hs_df.head()"
      ],
      "execution_count": null,
      "outputs": [
        {
          "output_type": "execute_result",
          "data": {
            "text/html": [
              "<div>\n",
              "<style scoped>\n",
              "    .dataframe tbody tr th:only-of-type {\n",
              "        vertical-align: middle;\n",
              "    }\n",
              "\n",
              "    .dataframe tbody tr th {\n",
              "        vertical-align: top;\n",
              "    }\n",
              "\n",
              "    .dataframe thead th {\n",
              "        text-align: right;\n",
              "    }\n",
              "</style>\n",
              "<table border=\"1\" class=\"dataframe\">\n",
              "  <thead>\n",
              "    <tr style=\"text-align: right;\">\n",
              "      <th></th>\n",
              "      <th>School_ID</th>\n",
              "      <th>Long_Name_1516</th>\n",
              "      <th>School_Type_1516</th>\n",
              "      <th>Primary_Category_1516</th>\n",
              "      <th>Graduation_4_Year_School_Pct_Year_2_1617</th>\n",
              "      <th>Graduation_4_Year_School_Pct_Year_2_1516</th>\n",
              "      <th>Graduation_4_Year_School_Pct_Year_2_1718</th>\n",
              "      <th>Graduation_4_Year_School_Pct_Year_2_1819</th>\n",
              "    </tr>\n",
              "  </thead>\n",
              "  <tbody>\n",
              "    <tr>\n",
              "      <th>0</th>\n",
              "      <td>610547</td>\n",
              "      <td>South Shore Intl College Prep High School</td>\n",
              "      <td>Selective enrollment</td>\n",
              "      <td>HS</td>\n",
              "      <td>85.8</td>\n",
              "      <td>69.6</td>\n",
              "      <td>86.9</td>\n",
              "      <td>94.5</td>\n",
              "    </tr>\n",
              "    <tr>\n",
              "      <th>1</th>\n",
              "      <td>400097</td>\n",
              "      <td>Noble - Chicago Bulls College Prep</td>\n",
              "      <td>Charter</td>\n",
              "      <td>HS</td>\n",
              "      <td>77.8</td>\n",
              "      <td>62.6</td>\n",
              "      <td>84.9</td>\n",
              "      <td>82.4</td>\n",
              "    </tr>\n",
              "    <tr>\n",
              "      <th>4</th>\n",
              "      <td>609678</td>\n",
              "      <td>William Jones College Preparatory High School</td>\n",
              "      <td>Selective enrollment</td>\n",
              "      <td>HS</td>\n",
              "      <td>97.6</td>\n",
              "      <td>90.4</td>\n",
              "      <td>93.3</td>\n",
              "      <td>95.2</td>\n",
              "    </tr>\n",
              "    <tr>\n",
              "      <th>5</th>\n",
              "      <td>400136</td>\n",
              "      <td>YCCS-Olive Harvey Middle College HS</td>\n",
              "      <td>Charter</td>\n",
              "      <td>HS</td>\n",
              "      <td>NaN</td>\n",
              "      <td>NaN</td>\n",
              "      <td>NaN</td>\n",
              "      <td>NaN</td>\n",
              "    </tr>\n",
              "    <tr>\n",
              "      <th>9</th>\n",
              "      <td>610513</td>\n",
              "      <td>Air Force Academy High School</td>\n",
              "      <td>Military academy</td>\n",
              "      <td>HS</td>\n",
              "      <td>75.7</td>\n",
              "      <td>80.2</td>\n",
              "      <td>78.9</td>\n",
              "      <td>75.5</td>\n",
              "    </tr>\n",
              "  </tbody>\n",
              "</table>\n",
              "</div>"
            ],
            "text/plain": [
              "   School_ID  ... Graduation_4_Year_School_Pct_Year_2_1819\n",
              "0     610547  ...                                     94.5\n",
              "1     400097  ...                                     82.4\n",
              "4     609678  ...                                     95.2\n",
              "5     400136  ...                                      NaN\n",
              "9     610513  ...                                     75.5\n",
              "\n",
              "[5 rows x 8 columns]"
            ]
          },
          "metadata": {
            "tags": []
          },
          "execution_count": 34
        }
      ]
    },
    {
      "cell_type": "markdown",
      "metadata": {
        "id": "Qvno62surIgr"
      },
      "source": [
        "Looks OK. Now we have data from the years that we need, and graduation rates over the last four years. Since we are looking at how all of the schools are doing, let's take a similar process to the last step. \n",
        "\n"
      ]
    },
    {
      "cell_type": "code",
      "metadata": {
        "colab": {
          "base_uri": "https://localhost:8080/"
        },
        "id": "hBTG7TkOEWv5",
        "outputId": "65fd2fcc-2c96-434c-9f02-23307d1d22d0"
      },
      "source": [
        "#Looking at the shape of the data...\n",
        "gradrate_hs_df.shape"
      ],
      "execution_count": 70,
      "outputs": [
        {
          "output_type": "execute_result",
          "data": {
            "text/plain": [
              "(188, 8)"
            ]
          },
          "metadata": {
            "tags": []
          },
          "execution_count": 70
        }
      ]
    },
    {
      "cell_type": "code",
      "metadata": {
        "colab": {
          "base_uri": "https://localhost:8080/"
        },
        "id": "GtHC2hT7ENiC",
        "outputId": "a8f913b0-0a0a-42ee-f94d-e1f39f2ef453"
      },
      "source": [
        "#What missing values are there?\n",
        "gradrate_hs_df.isna().sum()"
      ],
      "execution_count": 69,
      "outputs": [
        {
          "output_type": "execute_result",
          "data": {
            "text/plain": [
              "School_ID                                    0\n",
              "Long_Name_1516                               0\n",
              "School_Type_1516                             0\n",
              "Primary_Category_1516                        0\n",
              "Graduation_4_Year_School_Pct_Year_2_1617    59\n",
              "Graduation_4_Year_School_Pct_Year_2_1516    71\n",
              "Graduation_4_Year_School_Pct_Year_2_1718    49\n",
              "Graduation_4_Year_School_Pct_Year_2_1819    48\n",
              "dtype: int64"
            ]
          },
          "metadata": {
            "tags": []
          },
          "execution_count": 69
        }
      ]
    },
    {
      "cell_type": "markdown",
      "metadata": {
        "id": "N-yLlFFCEh7r"
      },
      "source": [
        "## Melt data into single column so that we can graph it..."
      ]
    },
    {
      "cell_type": "code",
      "metadata": {
        "colab": {
          "base_uri": "https://localhost:8080/",
          "height": 415
        },
        "id": "yHcQONGLtWio",
        "outputId": "c49e0b59-8fc4-4249-c51c-9fffab3a1ada"
      },
      "source": [
        "#Melt dataframe for all years\n",
        "gradrate_mlt_df = gradrate_hs_df[['School_Type_1516',\n",
        "                                 'Graduation_4_Year_School_Pct_Year_2_1516',\n",
        "                                 'Graduation_4_Year_School_Pct_Year_2_1617',\n",
        "                                 'Graduation_4_Year_School_Pct_Year_2_1718',\n",
        "                                 'Graduation_4_Year_School_Pct_Year_2_1819',\n",
        "                                 ]]\n",
        "\n",
        "gradrate_mlt_df = pd.melt(gradrate_mlt_df, id_vars=['School_Type_1516'], \n",
        "                              var_name='Year', \n",
        "                              value_name='Percent')\n",
        "\n",
        "gradrate_mlt_df\n",
        "#gradrate_mlt_df.isna().sum()"
      ],
      "execution_count": null,
      "outputs": [
        {
          "output_type": "execute_result",
          "data": {
            "text/html": [
              "<div>\n",
              "<style scoped>\n",
              "    .dataframe tbody tr th:only-of-type {\n",
              "        vertical-align: middle;\n",
              "    }\n",
              "\n",
              "    .dataframe tbody tr th {\n",
              "        vertical-align: top;\n",
              "    }\n",
              "\n",
              "    .dataframe thead th {\n",
              "        text-align: right;\n",
              "    }\n",
              "</style>\n",
              "<table border=\"1\" class=\"dataframe\">\n",
              "  <thead>\n",
              "    <tr style=\"text-align: right;\">\n",
              "      <th></th>\n",
              "      <th>School_Type_1516</th>\n",
              "      <th>Year</th>\n",
              "      <th>Percent</th>\n",
              "    </tr>\n",
              "  </thead>\n",
              "  <tbody>\n",
              "    <tr>\n",
              "      <th>0</th>\n",
              "      <td>Selective enrollment</td>\n",
              "      <td>Graduation_4_Year_School_Pct_Year_2_1516</td>\n",
              "      <td>69.6</td>\n",
              "    </tr>\n",
              "    <tr>\n",
              "      <th>1</th>\n",
              "      <td>Charter</td>\n",
              "      <td>Graduation_4_Year_School_Pct_Year_2_1516</td>\n",
              "      <td>62.6</td>\n",
              "    </tr>\n",
              "    <tr>\n",
              "      <th>2</th>\n",
              "      <td>Selective enrollment</td>\n",
              "      <td>Graduation_4_Year_School_Pct_Year_2_1516</td>\n",
              "      <td>90.4</td>\n",
              "    </tr>\n",
              "    <tr>\n",
              "      <th>3</th>\n",
              "      <td>Charter</td>\n",
              "      <td>Graduation_4_Year_School_Pct_Year_2_1516</td>\n",
              "      <td>NaN</td>\n",
              "    </tr>\n",
              "    <tr>\n",
              "      <th>4</th>\n",
              "      <td>Military academy</td>\n",
              "      <td>Graduation_4_Year_School_Pct_Year_2_1516</td>\n",
              "      <td>80.2</td>\n",
              "    </tr>\n",
              "    <tr>\n",
              "      <th>...</th>\n",
              "      <td>...</td>\n",
              "      <td>...</td>\n",
              "      <td>...</td>\n",
              "    </tr>\n",
              "    <tr>\n",
              "      <th>747</th>\n",
              "      <td>Charter</td>\n",
              "      <td>Graduation_4_Year_School_Pct_Year_2_1819</td>\n",
              "      <td>NaN</td>\n",
              "    </tr>\n",
              "    <tr>\n",
              "      <th>748</th>\n",
              "      <td>Charter</td>\n",
              "      <td>Graduation_4_Year_School_Pct_Year_2_1819</td>\n",
              "      <td>NaN</td>\n",
              "    </tr>\n",
              "    <tr>\n",
              "      <th>749</th>\n",
              "      <td>Charter</td>\n",
              "      <td>Graduation_4_Year_School_Pct_Year_2_1819</td>\n",
              "      <td>NaN</td>\n",
              "    </tr>\n",
              "    <tr>\n",
              "      <th>750</th>\n",
              "      <td>Citywide-Option</td>\n",
              "      <td>Graduation_4_Year_School_Pct_Year_2_1819</td>\n",
              "      <td>3.3</td>\n",
              "    </tr>\n",
              "    <tr>\n",
              "      <th>751</th>\n",
              "      <td>Charter</td>\n",
              "      <td>Graduation_4_Year_School_Pct_Year_2_1819</td>\n",
              "      <td>NaN</td>\n",
              "    </tr>\n",
              "  </tbody>\n",
              "</table>\n",
              "<p>752 rows × 3 columns</p>\n",
              "</div>"
            ],
            "text/plain": [
              "         School_Type_1516                                      Year  Percent\n",
              "0    Selective enrollment  Graduation_4_Year_School_Pct_Year_2_1516     69.6\n",
              "1                 Charter  Graduation_4_Year_School_Pct_Year_2_1516     62.6\n",
              "2    Selective enrollment  Graduation_4_Year_School_Pct_Year_2_1516     90.4\n",
              "3                 Charter  Graduation_4_Year_School_Pct_Year_2_1516      NaN\n",
              "4        Military academy  Graduation_4_Year_School_Pct_Year_2_1516     80.2\n",
              "..                    ...                                       ...      ...\n",
              "747               Charter  Graduation_4_Year_School_Pct_Year_2_1819      NaN\n",
              "748               Charter  Graduation_4_Year_School_Pct_Year_2_1819      NaN\n",
              "749               Charter  Graduation_4_Year_School_Pct_Year_2_1819      NaN\n",
              "750       Citywide-Option  Graduation_4_Year_School_Pct_Year_2_1819      3.3\n",
              "751               Charter  Graduation_4_Year_School_Pct_Year_2_1819      NaN\n",
              "\n",
              "[752 rows x 3 columns]"
            ]
          },
          "metadata": {
            "tags": []
          },
          "execution_count": 35
        }
      ]
    },
    {
      "cell_type": "code",
      "metadata": {
        "id": "oFY8TXCzvSFs"
      },
      "source": [
        "#And create two smaller dataframes so that we can compare them in a T-Test\n",
        "charter_grad_srs = category_find(gradrate_mlt_df, 'School_Type_1516', 'Charter', exact = False)\n",
        "nbd_grad_srs = category_find(gradrate_mlt_df, 'School_Type_1516', 'Neighborhood', exact = False)"
      ],
      "execution_count": null,
      "outputs": []
    },
    {
      "cell_type": "code",
      "metadata": {
        "colab": {
          "base_uri": "https://localhost:8080/",
          "height": 141
        },
        "id": "YWn5oYvsC1p5",
        "outputId": "e58473be-8b89-4314-e8ea-e70c07a007ce"
      },
      "source": [
        "#Let's look at the charter data\n",
        "charter_grad_srs.head(3)"
      ],
      "execution_count": 71,
      "outputs": [
        {
          "output_type": "execute_result",
          "data": {
            "text/html": [
              "<div>\n",
              "<style scoped>\n",
              "    .dataframe tbody tr th:only-of-type {\n",
              "        vertical-align: middle;\n",
              "    }\n",
              "\n",
              "    .dataframe tbody tr th {\n",
              "        vertical-align: top;\n",
              "    }\n",
              "\n",
              "    .dataframe thead th {\n",
              "        text-align: right;\n",
              "    }\n",
              "</style>\n",
              "<table border=\"1\" class=\"dataframe\">\n",
              "  <thead>\n",
              "    <tr style=\"text-align: right;\">\n",
              "      <th></th>\n",
              "      <th>School_Type_1516</th>\n",
              "      <th>Year</th>\n",
              "      <th>Percent</th>\n",
              "    </tr>\n",
              "  </thead>\n",
              "  <tbody>\n",
              "    <tr>\n",
              "      <th>1</th>\n",
              "      <td>Charter</td>\n",
              "      <td>Graduation_4_Year_School_Pct_Year_2_1516</td>\n",
              "      <td>62.6</td>\n",
              "    </tr>\n",
              "    <tr>\n",
              "      <th>3</th>\n",
              "      <td>Charter</td>\n",
              "      <td>Graduation_4_Year_School_Pct_Year_2_1516</td>\n",
              "      <td>NaN</td>\n",
              "    </tr>\n",
              "    <tr>\n",
              "      <th>6</th>\n",
              "      <td>Charter</td>\n",
              "      <td>Graduation_4_Year_School_Pct_Year_2_1516</td>\n",
              "      <td>NaN</td>\n",
              "    </tr>\n",
              "  </tbody>\n",
              "</table>\n",
              "</div>"
            ],
            "text/plain": [
              "  School_Type_1516                                      Year  Percent\n",
              "1          Charter  Graduation_4_Year_School_Pct_Year_2_1516     62.6\n",
              "3          Charter  Graduation_4_Year_School_Pct_Year_2_1516      NaN\n",
              "6          Charter  Graduation_4_Year_School_Pct_Year_2_1516      NaN"
            ]
          },
          "metadata": {
            "tags": []
          },
          "execution_count": 71
        }
      ]
    },
    {
      "cell_type": "code",
      "metadata": {
        "colab": {
          "base_uri": "https://localhost:8080/"
        },
        "id": "T3Dnbec2v8R1",
        "outputId": "9d821578-9995-4ef9-c867-ee5c52934a14"
      },
      "source": [
        "#What nulls do we have?\n",
        "charter_grad_srs.isna().sum()"
      ],
      "execution_count": null,
      "outputs": [
        {
          "output_type": "execute_result",
          "data": {
            "text/plain": [
              "School_Type_1516      0\n",
              "Year                  0\n",
              "Percent             134\n",
              "dtype: int64"
            ]
          },
          "metadata": {
            "tags": []
          },
          "execution_count": 39
        }
      ]
    },
    {
      "cell_type": "code",
      "metadata": {
        "colab": {
          "base_uri": "https://localhost:8080/"
        },
        "id": "0wVNPk5WFBDe",
        "outputId": "878d8475-f768-4ab4-ebab-9526e135211f"
      },
      "source": [
        "#What neighborhood nulls do we have?\n",
        "nbd_grad_srs.isna().sum()"
      ],
      "execution_count": 74,
      "outputs": [
        {
          "output_type": "execute_result",
          "data": {
            "text/plain": [
              "School_Type_1516    0\n",
              "Year                0\n",
              "Percent             8\n",
              "dtype: int64"
            ]
          },
          "metadata": {
            "tags": []
          },
          "execution_count": 74
        }
      ]
    },
    {
      "cell_type": "code",
      "metadata": {
        "colab": {
          "base_uri": "https://localhost:8080/",
          "height": 335
        },
        "id": "4PlzsLvoysxT",
        "outputId": "c8e21da1-4320-40fb-f285-8c874cf71ca4"
      },
      "source": [
        "#What does the distribution look like?\n",
        "plt.hist(gradrate_mlt_df.Percent)"
      ],
      "execution_count": 62,
      "outputs": [
        {
          "output_type": "execute_result",
          "data": {
            "text/plain": [
              "(array([ 29.,   5.,   4.,   8.,  18.,  54.,  91., 118., 140.,  58.]),\n",
              " array([ 0.  ,  9.88, 19.76, 29.64, 39.52, 49.4 , 59.28, 69.16, 79.04,\n",
              "        88.92, 98.8 ]),\n",
              " <a list of 10 Patch objects>)"
            ]
          },
          "metadata": {
            "tags": []
          },
          "execution_count": 62
        },
        {
          "output_type": "display_data",
          "data": {
            "image/png": "[encoded data removed]",
            "text/plain": [
              "<Figure size 432x288 with 1 Axes>"
            ]
          },
          "metadata": {
            "tags": []
          }
        }
      ]
    },
    {
      "cell_type": "code",
      "metadata": {
        "colab": {
          "base_uri": "https://localhost:8080/"
        },
        "id": "9sSSotjh9i0t",
        "outputId": "6be415b2-a68c-4640-fef4-b5ba50d75689"
      },
      "source": [
        "#Are the variances equal?\n",
        "np.nanvar(charter_grad_srs.Percent) == np.nanvar(nbd_grad_srs.Percent)"
      ],
      "execution_count": null,
      "outputs": [
        {
          "output_type": "execute_result",
          "data": {
            "text/plain": [
              "False"
            ]
          },
          "metadata": {
            "tags": []
          },
          "execution_count": 54
        }
      ]
    },
    {
      "cell_type": "code",
      "metadata": {
        "colab": {
          "base_uri": "https://localhost:8080/"
        },
        "id": "T4P5_O-S9Uyw",
        "outputId": "2324458a-a2fb-4a2f-e473-dc6004b7487b"
      },
      "source": [
        "#Comparing Means\n",
        "print(f\"Charter Schools mean: {np.nanmean(charter_grad_srs.Percent)}\")\n",
        "print(f\"Charter Schools median: {np.nanmedian(charter_grad_srs.Percent)}\")\n",
        "\n",
        "print(f\"Neighborhood Schools mean: {np.nanmean(nbd_grad_srs.Percent)}\")\n",
        "print(f\"Neighborhood Schools median: {np.nanmedian(nbd_grad_srs.Percent)}\")"
      ],
      "execution_count": 75,
      "outputs": [
        {
          "output_type": "stream",
          "text": [
            "Charter Schools mean: 72.40821917808218\n",
            "Charter Schools median: 75.9\n",
            "Neighborhood Schools mean: 66.56722222222223\n",
            "Neighborhood Schools median: 67.25\n"
          ],
          "name": "stdout"
        }
      ]
    },
    {
      "cell_type": "markdown",
      "metadata": {
        "id": "VTOtARdC-DPG"
      },
      "source": [
        "There appears to be a large difference between Charter Schools Graduation rates (in mean and median), and Neighborhood schools. However, let's check to see if the difference between charter schools and neighborhood schools is significant. "
      ]
    },
    {
      "cell_type": "code",
      "metadata": {
        "colab": {
          "base_uri": "https://localhost:8080/"
        },
        "id": "Fs8egmKHvaGN",
        "outputId": "736e60b1-401f-4ee8-f965-ad7b7ffee6ac"
      },
      "source": [
        "#Import Scipy and Omit NaNs.\n",
        "from scipy import stats\n",
        "\n",
        "stats.ttest_ind(charter_grad_srs.Percent, \n",
        "                nbd_grad_srs.Percent,\n",
        "                equal_var = False, \n",
        "                nan_policy = 'omit')"
      ],
      "execution_count": null,
      "outputs": [
        {
          "output_type": "execute_result",
          "data": {
            "text/plain": [
              "Ttest_indResult(statistic=3.513728534801276, pvalue=0.000510959862511829)"
            ]
          },
          "metadata": {
            "tags": []
          },
          "execution_count": 42
        }
      ]
    },
    {
      "cell_type": "markdown",
      "metadata": {
        "id": "KRIYPNqevoi_"
      },
      "source": [
        "So, with a pvalue at .0005, the difference is definitely significant between the two.  \n",
        "Charter Schools graduate students at a higher rate than neighborhood schools.\n",
        "\n",
        "*However*, one of the issues with the data is the frequency of reporting.     Looking at the number of nulls as a percent of the data... "
      ]
    },
    {
      "cell_type": "code",
      "metadata": {
        "colab": {
          "base_uri": "https://localhost:8080/"
        },
        "id": "q2LSakyFwJA2",
        "outputId": "52da46b5-f70f-4426-ea34-749b356cc38c"
      },
      "source": [
        "print(f\"Charter Nulls: {charter_grad_srs['Percent'].isna().sum() / charter_grad_srs.shape[0]}\")\n",
        "print(f\"Nbd Nulls: {nbd_grad_srs['Percent'].isna().sum() / nbd_grad_srs.shape[0]}\")"
      ],
      "execution_count": null,
      "outputs": [
        {
          "output_type": "stream",
          "text": [
            "Charter Nulls: 0.4785714285714286\n",
            "Nbd Nulls: 0.0425531914893617\n"
          ],
          "name": "stdout"
        }
      ]
    },
    {
      "cell_type": "markdown",
      "metadata": {
        "id": "h5G3llCpxMFB"
      },
      "source": [
        "*Note:* 47% of the graduation data from the charter schools is missing, compared to only 4% for neighborhood schools! If the school is reporting, it probably does better than a neighborhood school equivalent, but the issue is that schools which perform lower may not be reporting their graduation data. Additionally, new schools"
      ]
    },
    {
      "cell_type": "markdown",
      "metadata": {
        "id": "GXZZnHKjcJER"
      },
      "source": [
        "- The focus of this project was to merge datasets, look through historical records of the schools in terms of performance data, and compare. From this data, \n",
        "\n",
        "# Conclusions\n",
        "* Charter Schools appear to perform better for students in terms of graduation rates, although many fewer schools did not report data. \n",
        "* Charter Schools do not appear to do any better on College Entrance rates, however, with only a statistically-insignificant difference. \n",
        "\n",
        "# Things I learned\n",
        "- Merging and Joining Data (and types of joins)\n",
        "- Using T-Tests to check for significance\n",
        "- Whether or not there was a significant difference between two sets of data.\n"
      ]
    },
    {
      "cell_type": "code",
      "metadata": {
        "id": "Pe0_eW7nGFJo"
      },
      "source": [
        ""
      ],
      "execution_count": null,
      "outputs": []
    }
  ]
}