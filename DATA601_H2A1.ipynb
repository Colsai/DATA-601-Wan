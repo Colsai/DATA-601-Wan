{
  "nbformat": 4,
  "nbformat_minor": 0,
  "metadata": {
    "colab": {
      "name": "DATA601_H2A1.ipynb",
      "provenance": [],
      "collapsed_sections": [],
      "authorship_tag": "ABX9TyMeryQ0934LJH/qmTJp8MRE",
      "include_colab_link": true
    },
    "kernelspec": {
      "name": "python3",
      "display_name": "Python 3"
    }
  },
  "cells": [
    {
      "cell_type": "markdown",
      "metadata": {
        "id": "view-in-github",
        "colab_type": "text"
      },
      "source": [
        "<a href=\"https://colab.research.google.com/github/Colsai/DATA_601_Wan/blob/main/DATA601_H2A1.ipynb\" target=\"_parent\"><img src=\"https://colab.research.google.com/assets/colab-badge.svg\" alt=\"Open In Colab\"/></a>"
      ]
    },
    {
      "cell_type": "markdown",
      "metadata": {
        "id": "1KYEOj_-ylHJ"
      },
      "source": [
        "# Homework 2: Assignment 1\r\n",
        "## Data 601 (WAN)"
      ]
    },
    {
      "cell_type": "markdown",
      "metadata": {
        "id": "MnwPE2h00UIe"
      },
      "source": [
        "### Step 1: Create the function\r\n",
        "Create a function that checks the length of a string and the number of words"
      ]
    },
    {
      "cell_type": "code",
      "metadata": {
        "id": "ZLtKudZhxy3q"
      },
      "source": [
        "#A string is provided as a function\r\n",
        "def string_check(str):\r\n",
        "    letters = len(str)\r\n",
        "    words = len(str.split(\" \"))\r\n",
        "    return [letters,words]"
      ],
      "execution_count": null,
      "outputs": []
    },
    {
      "cell_type": "markdown",
      "metadata": {
        "id": "0CC2owuY0c8B"
      },
      "source": [
        "### Step 2: Try the function out\r\n",
        "Let's check the function"
      ]
    },
    {
      "cell_type": "code",
      "metadata": {
        "colab": {
          "base_uri": "https://localhost:8080/"
        },
        "id": "5FWapbL-yAJ7",
        "outputId": "4063b071-ffed-454b-9816-d49908d84e32"
      },
      "source": [
        "#Test the function with a string\r\n",
        "example = \"This is a very good day\"\r\n",
        "string_check(example)"
      ],
      "execution_count": null,
      "outputs": [
        {
          "output_type": "execute_result",
          "data": {
            "text/plain": [
              "[23, 6]"
            ]
          },
          "metadata": {
            "tags": []
          },
          "execution_count": 9
        }
      ]
    },
    {
      "cell_type": "code",
      "metadata": {
        "id": "lH5V92DL0xKa"
      },
      "source": [
        "#A string is provided as a function\r\n",
        "def string_check_adv(str):\r\n",
        "    try:\r\n",
        "        letters = len(str)\r\n",
        "        words = len(str.split(\" \"))\r\n",
        "        return [letters,words]\r\n",
        "\r\n",
        "#Add an except in case the value is not a string\r\n",
        "    except:\r\n",
        "        print(\"Please enter a valid String value\")"
      ],
      "execution_count": null,
      "outputs": []
    },
    {
      "cell_type": "code",
      "metadata": {
        "colab": {
          "base_uri": "https://localhost:8080/"
        },
        "id": "ZJj7KxMd051r",
        "outputId": "a2ee7b21-fb5c-490d-a606-3568fe7600f4"
      },
      "source": [
        "#Test an unworking example\r\n",
        "example = 5252525212214214214\r\n",
        "string_check_adv(\"Hey this is me\")"
      ],
      "execution_count": null,
      "outputs": [
        {
          "output_type": "execute_result",
          "data": {
            "text/plain": [
              "[14, 4]"
            ]
          },
          "metadata": {
            "tags": []
          },
          "execution_count": 19
        }
      ]
    }
  ]
}