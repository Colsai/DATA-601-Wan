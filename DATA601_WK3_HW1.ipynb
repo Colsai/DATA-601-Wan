{
  "nbformat": 4,
  "nbformat_minor": 0,
  "metadata": {
    "colab": {
      "name": "DATA601_WK3_HW1.ipynb",
      "provenance": [],
      "collapsed_sections": [],
      "authorship_tag": "ABX9TyO4kyw6Kpxv96ORMpp4msEz",
      "include_colab_link": true
    },
    "kernelspec": {
      "name": "python3",
      "display_name": "Python 3"
    }
  },
  "cells": [
    {
      "cell_type": "markdown",
      "metadata": {
        "id": "view-in-github",
        "colab_type": "text"
      },
      "source": [
        "<a href=\"https://colab.research.google.com/github/Colsai/DATA-601-Wan/blob/main/DATA601_WK3_HW1.ipynb\" target=\"_parent\"><img src=\"https://colab.research.google.com/assets/colab-badge.svg\" alt=\"Open In Colab\"/></a>"
      ]
    },
    {
      "cell_type": "markdown",
      "metadata": {
        "id": "G0QLOujn7fP9"
      },
      "source": [
        "# DATA601: Homework 3\r\n",
        "- Generate 100 (n) rows of randomly-chosen people.\r\n",
        "\r\n",
        "I'm going to assume that we are looking at *only faking US citizens*.  \r\n",
        "One of the issues with other countries is that phone numbers, postal codes, popular names, etc. are all very regionally/country-dependent.   \r\n",
        "Since I am randomizing from tables, it would NOT be a good idea to broaden this scope as being representative of world citizens, which would take far more complexity."
      ]
    },
    {
      "cell_type": "code",
      "metadata": {
        "id": "Gn39rnU_50Os"
      },
      "source": [
        "#Import Packages to begin\r\n",
        "import random\r\n",
        "import pandas as pd\r\n",
        "import numpy as np"
      ],
      "execution_count": 302,
      "outputs": []
    },
    {
      "cell_type": "markdown",
      "metadata": {
        "id": "OCx3-bxCHWgl"
      },
      "source": [
        "Making sure that all phone numbers will be of len 3 + 7 = 10.  \r\n",
        "https://stackoverflow.com/questions/733454/best-way-to-format-integer-as-string-with-leading-zeros"
      ]
    },
    {
      "cell_type": "markdown",
      "metadata": {
        "id": "CyvMswZpWIZO"
      },
      "source": [
        "## Categories that we will look at\r\n",
        "•Email addresses. Must have @  \r\n",
        "•Phone  numbers  \r\n",
        "•Home  Address  \r\n",
        "•Person's  name  \r\n",
        "•Year born. Use realistic values.  \r\n",
        "•Number  of kids. Use realisticvalues  \r\n",
        "•Categorical variable: rent or own?  \r\n",
        "•Annual income.Optional challenge:  Use a non-uniform distribution  \r\n",
        "•Number  of speeding  tickets in past year.Optional challenge:  Use a   non-uniform distribution  "
      ]
    },
    {
      "cell_type": "markdown",
      "metadata": {
        "id": "YO65uXeHI-WC"
      },
      "source": [
        "US Area Codes are between 0-200. Since we don't really know where they got their phone number, it is possible for phone number not to be near or equal to the home address\r\n",
        "\r\n",
        "- I'm not 100% sure that the Z-fill will work, but I think it should"
      ]
    },
    {
      "cell_type": "markdown",
      "metadata": {
        "id": "nClnMizpTXLc"
      },
      "source": [
        "## Fake Phone Number"
      ]
    },
    {
      "cell_type": "code",
      "metadata": {
        "id": "Bi_SfmOPGGm-"
      },
      "source": [
        "def gen_fake_phone():\r\n",
        "    area_code = str(random.randint(200,999))\r\n",
        "    digits = random.randint(0,9999999)\r\n",
        "\r\n",
        "    #Phone Numbers Need to be at least 7 digits\r\n",
        "    len_check = len(str(digits))\r\n",
        "    \r\n",
        "    if len_check < 7:\r\n",
        "        extra_digits = len_check - 7\r\n",
        "        digits = (\"0\" * extra_digits) + str(digits)\r\n",
        "\r\n",
        "    fake_phone = int(str(area_code) + str(digits))\r\n",
        "    \r\n",
        "    return fake_phone"
      ],
      "execution_count": 327,
      "outputs": []
    },
    {
      "cell_type": "code",
      "metadata": {
        "colab": {
          "base_uri": "https://localhost:8080/"
        },
        "id": "fYsGCu1wUxOL",
        "outputId": "68fd5113-48b0-4463-e12f-3e2e3e2ff85b"
      },
      "source": [
        "for i in range(0,5):\r\n",
        "    print(generate_fake_phone())"
      ],
      "execution_count": 304,
      "outputs": [
        {
          "output_type": "stream",
          "text": [
            "7\n",
            "8191865196\n",
            "7\n",
            "2407859704\n",
            "7\n",
            "7991488370\n",
            "7\n",
            "4103363115\n",
            "7\n",
            "3238926922\n"
          ],
          "name": "stdout"
        }
      ]
    },
    {
      "cell_type": "markdown",
      "metadata": {
        "id": "OIuIudZ1XcQp"
      },
      "source": [
        "## Genders\r\n",
        "Let's assume that Gender is either M/F (as biological sex).  \r\n",
        "The US has about 52/48 F/M ratio for biological sex."
      ]
    },
    {
      "cell_type": "code",
      "metadata": {
        "id": "hbEFtDeqWt5K"
      },
      "source": [
        "#Randomize Gender (Based roughly on the 48/52 distribution in society)\r\n",
        "def fake_gender():\r\n",
        "    fake_gender = random.choices(('M','F'),(48,52))\r\n",
        "    return fake_gender[0]"
      ],
      "execution_count": 305,
      "outputs": []
    },
    {
      "cell_type": "code",
      "metadata": {
        "colab": {
          "base_uri": "https://localhost:8080/",
          "height": 35
        },
        "id": "ysbIR1bjZFoU",
        "outputId": "3c9e60e0-6c2b-4d6c-f1c6-b88940dd26e5"
      },
      "source": [
        "#For \r\n",
        "fake_gender()"
      ],
      "execution_count": 306,
      "outputs": [
        {
          "output_type": "execute_result",
          "data": {
            "application/vnd.google.colaboratory.intrinsic+json": {
              "type": "string"
            },
            "text/plain": [
              "'F'"
            ]
          },
          "metadata": {
            "tags": []
          },
          "execution_count": 306
        }
      ]
    },
    {
      "cell_type": "markdown",
      "metadata": {
        "id": "9g93Iu-0YA2N"
      },
      "source": [
        "## Generate a Random Name\r\n",
        "Takes a gender\r\n",
        "Random pick from Popular Last Names\r\n",
        "Takes both"
      ]
    },
    {
      "cell_type": "code",
      "metadata": {
        "id": "nWLgOWvQ8Sa_"
      },
      "source": [
        "#Read the HTML of the most popular first names\r\n",
        "df = pd.read_html('https://www.ksat.com/features/2020/12/31/these-were-the-50-most-popular-baby-names-in-2020/')[0]\r\n",
        "girls_fnames = df['Girls'].to_list()\r\n",
        "boys_fnames = df['Boys'].to_list()\r\n",
        "\r\n",
        "#Last Names\r\n",
        "df2 = pd.read_html('https://en.wikipedia.org/wiki/List_of_most_common_surnames_in_North_America')[7]\r\n",
        "flast_name_list = df2['Name'].to_list()"
      ],
      "execution_count": 307,
      "outputs": []
    },
    {
      "cell_type": "code",
      "metadata": {
        "id": "NCd95pyXXCPv"
      },
      "source": [
        "#Let's assume that names should go with genders (gender would be defined first, prior to birth, then naming would come after)\r\n",
        "def gen_fake_full_name(fake_gender):\r\n",
        "    if fake_gender == 'F':\r\n",
        "      fname = random.choice(girls_fnames)\r\n",
        "\r\n",
        "    elif fake_gender == 'M':\r\n",
        "      fname = random.choice(boys_fnames)\r\n",
        "\r\n",
        "    else:\r\n",
        "        fname = 'Unknown'\r\n",
        "\r\n",
        "    flast_name = random.choice(flast_name_list)\r\n",
        "\r\n",
        "    fake_full_name = \"\".join([fname, \" \",flast_name]) \r\n",
        "    return fake_full_name"
      ],
      "execution_count": 308,
      "outputs": []
    },
    {
      "cell_type": "code",
      "metadata": {
        "colab": {
          "base_uri": "https://localhost:8080/",
          "height": 35
        },
        "id": "HYsrrS_0YsYD",
        "outputId": "4150e615-0e29-4cc5-88a6-ff8f0f79b24a"
      },
      "source": [
        "fake_full_name('F')"
      ],
      "execution_count": 309,
      "outputs": [
        {
          "output_type": "execute_result",
          "data": {
            "application/vnd.google.colaboratory.intrinsic+json": {
              "type": "string"
            },
            "text/plain": [
              "'Hannah Harris'"
            ]
          },
          "metadata": {
            "tags": []
          },
          "execution_count": 309
        }
      ]
    },
    {
      "cell_type": "markdown",
      "metadata": {
        "id": "42YTWir_TP6-"
      },
      "source": [
        "## Locations\r\n",
        "So, what are the most common places for people to live? These places should be statistically most likely for our example fake data to be from, so they could be good candidates. I'll scrape a single table from Wikipedia."
      ]
    },
    {
      "cell_type": "code",
      "metadata": {
        "colab": {
          "base_uri": "https://localhost:8080/",
          "height": 204
        },
        "id": "FtxyaHKYbpKk",
        "outputId": "f9ecac8f-54ac-4c85-875d-741f2f6a2529"
      },
      "source": [
        "#Dataframe 'Locations' table 10 is the list for the USA\r\n",
        "df_locations = pd.read_html('https://en.wikipedia.org/wiki/List_of_United_States_cities_by_population')[10]\r\n",
        "df_locations.head()"
      ],
      "execution_count": 310,
      "outputs": [
        {
          "output_type": "execute_result",
          "data": {
            "text/html": [
              "<div>\n",
              "<style scoped>\n",
              "    .dataframe tbody tr th:only-of-type {\n",
              "        vertical-align: middle;\n",
              "    }\n",
              "\n",
              "    .dataframe tbody tr th {\n",
              "        vertical-align: top;\n",
              "    }\n",
              "\n",
              "    .dataframe thead th {\n",
              "        text-align: right;\n",
              "    }\n",
              "</style>\n",
              "<table border=\"1\" class=\"dataframe\">\n",
              "  <thead>\n",
              "    <tr style=\"text-align: right;\">\n",
              "      <th></th>\n",
              "      <th>City</th>\n",
              "      <th>State</th>\n",
              "      <th>2010 Census</th>\n",
              "      <th>2000 Census</th>\n",
              "      <th>Change</th>\n",
              "      <th>2010 land area</th>\n",
              "      <th>2010 land area.1</th>\n",
              "      <th>2010 population density</th>\n",
              "      <th>2010 population density.1</th>\n",
              "      <th>ANSI</th>\n",
              "      <th>Location</th>\n",
              "    </tr>\n",
              "  </thead>\n",
              "  <tbody>\n",
              "    <tr>\n",
              "      <th>0</th>\n",
              "      <td>Paradise</td>\n",
              "      <td>Nevada</td>\n",
              "      <td>223167</td>\n",
              "      <td>186070</td>\n",
              "      <td>+19.94%</td>\n",
              "      <td>46.717 sq mi</td>\n",
              "      <td>120.996 km2</td>\n",
              "      <td>4,777/sq mi</td>\n",
              "      <td>1,844/km2</td>\n",
              "      <td>2409023.0</td>\n",
              "      <td>36°04′51″N 115°08′12″W﻿ / ﻿36.08073°N 115.1368°W</td>\n",
              "    </tr>\n",
              "    <tr>\n",
              "      <th>1</th>\n",
              "      <td>Arlington</td>\n",
              "      <td>Virginia</td>\n",
              "      <td>207627</td>\n",
              "      <td>189453</td>\n",
              "      <td>+9.59%</td>\n",
              "      <td>25.98 sq mi</td>\n",
              "      <td>67.288 km2</td>\n",
              "      <td>7,992/sq mi</td>\n",
              "      <td>3,086/km2</td>\n",
              "      <td>NaN</td>\n",
              "      <td>38°52′48″N 77°10′59″W﻿ / ﻿38.880°N 77.183°W</td>\n",
              "    </tr>\n",
              "    <tr>\n",
              "      <th>2</th>\n",
              "      <td>Sunrise Manor</td>\n",
              "      <td>Nevada</td>\n",
              "      <td>189372</td>\n",
              "      <td>156120</td>\n",
              "      <td>+21.30%</td>\n",
              "      <td>33.352 sq mi</td>\n",
              "      <td>86.381 km2</td>\n",
              "      <td>5,678/sq mi</td>\n",
              "      <td>2,192/km2</td>\n",
              "      <td>2410035.0</td>\n",
              "      <td>36°10′43″N 115°02′56″W﻿ / ﻿36.1785°N 115.0490°W</td>\n",
              "    </tr>\n",
              "    <tr>\n",
              "      <th>3</th>\n",
              "      <td>Spring Valley</td>\n",
              "      <td>Nevada</td>\n",
              "      <td>178395</td>\n",
              "      <td>117390</td>\n",
              "      <td>+51.97%</td>\n",
              "      <td>33.226 sq mi</td>\n",
              "      <td>86.055 km2</td>\n",
              "      <td>5,369/sq mi</td>\n",
              "      <td>2,073/km2</td>\n",
              "      <td>2408797.0</td>\n",
              "      <td>36°05′55″N 115°15′43″W﻿ / ﻿36.0987°N 115.2619°W</td>\n",
              "    </tr>\n",
              "    <tr>\n",
              "      <th>4</th>\n",
              "      <td>Metairie</td>\n",
              "      <td>Louisiana</td>\n",
              "      <td>138481</td>\n",
              "      <td>146136</td>\n",
              "      <td>−5.24%</td>\n",
              "      <td>23.222 sq mi</td>\n",
              "      <td>60.145 km2</td>\n",
              "      <td>5,963/sq mi</td>\n",
              "      <td>2,302/km2</td>\n",
              "      <td>2403282.0</td>\n",
              "      <td>29°59′52″N 90°10′40″W﻿ / ﻿29.9978°N 90.1779°W</td>\n",
              "    </tr>\n",
              "  </tbody>\n",
              "</table>\n",
              "</div>"
            ],
            "text/plain": [
              "            City  ...                                          Location\n",
              "0       Paradise  ...  36°04′51″N 115°08′12″W﻿ / ﻿36.08073°N 115.1368°W\n",
              "1      Arlington  ...       38°52′48″N 77°10′59″W﻿ / ﻿38.880°N 77.183°W\n",
              "2  Sunrise Manor  ...   36°10′43″N 115°02′56″W﻿ / ﻿36.1785°N 115.0490°W\n",
              "3  Spring Valley  ...   36°05′55″N 115°15′43″W﻿ / ﻿36.0987°N 115.2619°W\n",
              "4       Metairie  ...     29°59′52″N 90°10′40″W﻿ / ﻿29.9978°N 90.1779°W\n",
              "\n",
              "[5 rows x 11 columns]"
            ]
          },
          "metadata": {
            "tags": []
          },
          "execution_count": 310
        }
      ]
    },
    {
      "cell_type": "code",
      "metadata": {
        "colab": {
          "base_uri": "https://localhost:8080/",
          "height": 204
        },
        "id": "CKDfzP2NThFh",
        "outputId": "6e5463b8-d336-4f2c-ff6c-11aa0635807f"
      },
      "source": [
        "#Let's focus in only on locations for the city and state. The other parts aren't important\r\n",
        "df_city_state = df_locations[['City','State']]\r\n",
        "df_city_state.head()"
      ],
      "execution_count": 311,
      "outputs": [
        {
          "output_type": "execute_result",
          "data": {
            "text/html": [
              "<div>\n",
              "<style scoped>\n",
              "    .dataframe tbody tr th:only-of-type {\n",
              "        vertical-align: middle;\n",
              "    }\n",
              "\n",
              "    .dataframe tbody tr th {\n",
              "        vertical-align: top;\n",
              "    }\n",
              "\n",
              "    .dataframe thead th {\n",
              "        text-align: right;\n",
              "    }\n",
              "</style>\n",
              "<table border=\"1\" class=\"dataframe\">\n",
              "  <thead>\n",
              "    <tr style=\"text-align: right;\">\n",
              "      <th></th>\n",
              "      <th>City</th>\n",
              "      <th>State</th>\n",
              "    </tr>\n",
              "  </thead>\n",
              "  <tbody>\n",
              "    <tr>\n",
              "      <th>0</th>\n",
              "      <td>Paradise</td>\n",
              "      <td>Nevada</td>\n",
              "    </tr>\n",
              "    <tr>\n",
              "      <th>1</th>\n",
              "      <td>Arlington</td>\n",
              "      <td>Virginia</td>\n",
              "    </tr>\n",
              "    <tr>\n",
              "      <th>2</th>\n",
              "      <td>Sunrise Manor</td>\n",
              "      <td>Nevada</td>\n",
              "    </tr>\n",
              "    <tr>\n",
              "      <th>3</th>\n",
              "      <td>Spring Valley</td>\n",
              "      <td>Nevada</td>\n",
              "    </tr>\n",
              "    <tr>\n",
              "      <th>4</th>\n",
              "      <td>Metairie</td>\n",
              "      <td>Louisiana</td>\n",
              "    </tr>\n",
              "  </tbody>\n",
              "</table>\n",
              "</div>"
            ],
            "text/plain": [
              "            City      State\n",
              "0       Paradise     Nevada\n",
              "1      Arlington   Virginia\n",
              "2  Sunrise Manor     Nevada\n",
              "3  Spring Valley     Nevada\n",
              "4       Metairie  Louisiana"
            ]
          },
          "metadata": {
            "tags": []
          },
          "execution_count": 311
        }
      ]
    },
    {
      "cell_type": "markdown",
      "metadata": {
        "id": "apk_AG-QmHdb"
      },
      "source": [
        "What is the highest house number: https://able2know.org/topic/160467-1#:~:text=The%20highest%20house%20number%20I,108%20miles%20from%20Key%20West."
      ]
    },
    {
      "cell_type": "code",
      "metadata": {
        "id": "eIdj4SEZlHy0"
      },
      "source": [
        "def gen_fake_address():\r\n",
        "    #Randomize what they might live in\r\n",
        "    fake_housing_type = random.choice([\"House\",\"Apartment\"])\r\n",
        "\r\n",
        "    fake_number = random.randint(0,33007)\r\n",
        "    fake_streetname = random.choice(['Lane','Golden Park'])\r\n",
        "    fake_street = random.choice([\"Street\", \"BLVD\", \"Ave\", \"Culdesac\"])\r\n",
        "\r\n",
        "    #Let's sample a city using pd.sample()\r\n",
        "    sample_city = df_city_state.sample(1)\r\n",
        "    fake_city = sample_city['City'].to_string(index = False)\r\n",
        "    fake_state = sample_city['State'].to_string(index = False)\r\n",
        "\r\n",
        "    #The corresponding zip code should probably match up, too\r\n",
        "    fake_zip = random.randint(10000,90000)\r\n",
        "\r\n",
        "    if fake_housing_type == 'Apartment':\r\n",
        "        fake_apartment_number = random.randint(0,9999)\r\n",
        "        fake_full_address = f\"{fake_number} {fake_streetname} {fake_street},{fake_city}{fake_state} {fake_zip}\"\r\n",
        "\r\n",
        "    else:\r\n",
        "        fake_full_address = f\"{fake_number} {fake_streetname} {fake_street},{fake_city}{fake_state} {fake_zip}\"\r\n",
        "\r\n",
        "    return str(fake_full_address)"
      ],
      "execution_count": 312,
      "outputs": []
    },
    {
      "cell_type": "code",
      "metadata": {
        "colab": {
          "base_uri": "https://localhost:8080/",
          "height": 35
        },
        "id": "HuEQ9w2QjYic",
        "outputId": "161e4ac7-36c4-444b-f9fa-0eb5dfa3d762"
      },
      "source": [
        "fake_address()"
      ],
      "execution_count": 313,
      "outputs": [
        {
          "output_type": "execute_result",
          "data": {
            "application/vnd.google.colaboratory.intrinsic+json": {
              "type": "string"
            },
            "text/plain": [
              "'3092 Lane Street, Spring Valley Nevada 80189'"
            ]
          },
          "metadata": {
            "tags": []
          },
          "execution_count": 313
        }
      ]
    },
    {
      "cell_type": "markdown",
      "metadata": {
        "id": "mR3Fgqub_oL4"
      },
      "source": [
        "Source: https://www.geeksforgeeks.org/compute-the-weighted-average-of-a-given-numpy-array/"
      ]
    },
    {
      "cell_type": "markdown",
      "metadata": {
        "id": "OVFmyvXOZvMm"
      },
      "source": [
        "## Children\r\n",
        "https://www.statista.com/statistics/718084/average-number-of-own-children-per-family/\r\n"
      ]
    },
    {
      "cell_type": "markdown",
      "metadata": {
        "id": "L4d5vKe8aRqn"
      },
      "source": [
        "Children can be seen as\r\n",
        "Is it a family household? \r\n",
        "https://www.prb.org/u-s-household-composition-shifts-as-the-population-grows-older-more-young-adults-live-with-parents/#:~:text=In%201960%2C%2085%20percent%20of,35%20percent%20during%20this%20period.\r\n",
        "(65% are)\r\n",
        "\r\n",
        "If it is a family household, do they have children?\r\n",
        "https://www.statista.com/statistics/242074/percentages-of-us-family-households-with-children-by-type/\r\n",
        "(40%)\r\n",
        "\r\n",
        "What number of children do families typically have?\r\n",
        "https://www.pewresearch.org/fact-tank/2018/08/09/middle-children-have-become-rarer-but-a-growing-share-of-americans-now-say-three-or-more-kids-are-ideal/"
      ]
    },
    {
      "cell_type": "code",
      "metadata": {
        "id": "gXVuoXYh56tc"
      },
      "source": [
        "def gen_fake_children():\r\n",
        "    #Chance of children in a family = if family household AND if family household has children\r\n",
        "    family_household_chance = .65\r\n",
        "    children_chance = .4\r\n",
        "\r\n",
        "    #Chance of children\r\n",
        "    chance_of_children = family_household_chance * children_chance\r\n",
        "\r\n",
        "    #Checks possibility of children\r\n",
        "    children_exist = random.choices(['Yes','No'],[chance_of_children,1-chance_of_children])[0]\r\n",
        "\r\n",
        "    if children_exist == 'Yes':\r\n",
        "        num_kids = random.choices([1,2,3,4],[21,41,23,15])[0]\r\n",
        "\r\n",
        "    elif children_exist == 'No':\r\n",
        "        num_kids = 0\r\n",
        "\r\n",
        "    else:\r\n",
        "        num_kids = 0\r\n",
        "\r\n",
        "    return num_kids"
      ],
      "execution_count": 315,
      "outputs": []
    },
    {
      "cell_type": "code",
      "metadata": {
        "colab": {
          "base_uri": "https://localhost:8080/"
        },
        "id": "_Sdrlp7dbYWq",
        "outputId": "3abf2c07-edcd-48cf-8a54-cd72b106a0d9"
      },
      "source": [
        "fake_children()"
      ],
      "execution_count": 316,
      "outputs": [
        {
          "output_type": "execute_result",
          "data": {
            "text/plain": [
              "0"
            ]
          },
          "metadata": {
            "tags": []
          },
          "execution_count": 316
        }
      ]
    },
    {
      "cell_type": "markdown",
      "metadata": {
        "id": "VXRuI-wqdVNT"
      },
      "source": [
        "## Speeding Tickets\r\n",
        "Background Information:\r\n",
        "What is the average number of speeding tickets? \r\n",
        "- First, the average number of speeding tickets per year is about ~17% (1/6)\r\n",
        "Source: https://modernattorney.com/blog/facts-statistics-about-speeding-tickets\r\n",
        "\r\n",
        "- Second, if you get more than 4 speeding convictions in 3 years, you have your license revoked. So, people cannot have more than 4/3 = 1.3 * years driving in tickets (that would be the max).\r\n",
        "\r\n",
        "-This function randomizes a theoretical age between 18-90 for the fake person, then randomizes and counts whether or not a ticket in each year driving, then compares it to the maximum number of tickets possible. \r\n",
        "\r\n",
        "If it is higher than the maximum, it is becomes the maximum, since you cannot drive if you have more than X number of tickets."
      ]
    },
    {
      "cell_type": "code",
      "metadata": {
        "id": "yVbL4VK6fUmm"
      },
      "source": [
        ""
      ],
      "execution_count": 316,
      "outputs": []
    },
    {
      "cell_type": "code",
      "metadata": {
        "id": "-G4Z8SjGfhMc"
      },
      "source": [
        "def gen_fake_tickets():\r\n",
        "    #This won't be used in the data, but will let us set a maximum number of lifetime speeding tickets.\r\n",
        "    fake_driving_years = random.randint(18,90) - 18\r\n",
        "\r\n",
        "    #Chance of a ticket\r\n",
        "    ticket_chance = .16\r\n",
        "    ticket_years = []\r\n",
        "\r\n",
        "    for year in range(0,fake_driving_years):\r\n",
        "        ticket_year = random.choices((0,1),(1-ticket_chance, ticket_chance))[0]\r\n",
        "        ticket_years.append(ticket_year)\r\n",
        "\r\n",
        "    tickets_full_count = sum(tickets)\r\n",
        "\r\n",
        "    if tickets_full_count >= (fake_driving_years * 1.3):\r\n",
        "        tickets_full_count = (fake_driving_years * 1.3)\r\n",
        "\r\n",
        "    return ticket_count"
      ],
      "execution_count": 317,
      "outputs": []
    },
    {
      "cell_type": "code",
      "metadata": {
        "colab": {
          "base_uri": "https://localhost:8080/"
        },
        "id": "FWIo9XNYhyo1",
        "outputId": "e4a239d3-bad1-4cb9-af68-4efef3138b2f"
      },
      "source": [
        "fake_tickets()"
      ],
      "execution_count": 318,
      "outputs": [
        {
          "output_type": "execute_result",
          "data": {
            "text/plain": [
              "4"
            ]
          },
          "metadata": {
            "tags": []
          },
          "execution_count": 318
        }
      ]
    },
    {
      "cell_type": "markdown",
      "metadata": {
        "id": "9MFof3uLBRCs"
      },
      "source": [
        "#\r\n",
        "https://www.census.gov/housing/hvs/files/currenthvspress.pdf"
      ]
    },
    {
      "cell_type": "code",
      "metadata": {
        "id": "3OpotW9a6WCv",
        "colab": {
          "base_uri": "https://localhost:8080/"
        },
        "outputId": "d09d2ba3-33e2-4e6f-d1a7-d7a26cd84e21"
      },
      "source": [
        "#Categorical Variable (Rent or Own)\r\n",
        "housing_status = random.choices(['Rent','Own'],[58.6,30.4])\r\n",
        "housing_status"
      ],
      "execution_count": 319,
      "outputs": [
        {
          "output_type": "execute_result",
          "data": {
            "text/plain": [
              "['Rent']"
            ]
          },
          "metadata": {
            "tags": []
          },
          "execution_count": 319
        }
      ]
    },
    {
      "cell_type": "code",
      "metadata": {
        "id": "R_YJyY007MJu",
        "colab": {
          "base_uri": "https://localhost:8080/",
          "height": 130
        },
        "outputId": "27880465-eb72-4760-9bcd-33d14b575f6c"
      },
      "source": [
        "home_address = "
      ],
      "execution_count": 320,
      "outputs": [
        {
          "output_type": "error",
          "ename": "SyntaxError",
          "evalue": "ignored",
          "traceback": [
            "\u001b[0;36m  File \u001b[0;32m\"<ipython-input-320-fd89af02472e>\"\u001b[0;36m, line \u001b[0;32m1\u001b[0m\n\u001b[0;31m    home_address =\u001b[0m\n\u001b[0m                   ^\u001b[0m\n\u001b[0;31mSyntaxError\u001b[0m\u001b[0;31m:\u001b[0m invalid syntax\n"
          ]
        }
      ]
    },
    {
      "cell_type": "code",
      "metadata": {
        "id": "4u5MFCiY7Z0l",
        "colab": {
          "base_uri": "https://localhost:8080/"
        },
        "outputId": "256e9374-6c79-4aa6-8765-fdc95efc2d99"
      },
      "source": [
        "#https://www.wcnc.com/article/life/heartwarming/oldest-living-american-is-from-charlotte-and-shes-celebrating-her-116th-birthday-amidst-coronavirus-pandemic/275-705e109b-18c0-45a9-b58a-f9a0fa63cb1e#:~:text=The%20oldest%20living%20American%20is,(COVID%2D19)%20pandemic.\r\n",
        "age = random.randint(0,116)\r\n",
        "print(age)"
      ],
      "execution_count": 321,
      "outputs": [
        {
          "output_type": "stream",
          "text": [
            "49\n"
          ],
          "name": "stdout"
        }
      ]
    },
    {
      "cell_type": "code",
      "metadata": {
        "id": "X02Qpr2D7drT",
        "colab": {
          "base_uri": "https://localhost:8080/",
          "height": 130
        },
        "outputId": "83b37756-269f-4e10-fe47-af3181aca32c"
      },
      "source": [
        "https://www.geeksforgeeks.org/compute-the-weighted-average-of-a-given-numpy-array/"
      ],
      "execution_count": 322,
      "outputs": [
        {
          "output_type": "error",
          "ename": "SyntaxError",
          "evalue": "ignored",
          "traceback": [
            "\u001b[0;36m  File \u001b[0;32m\"<ipython-input-322-ece693cbeed5>\"\u001b[0;36m, line \u001b[0;32m1\u001b[0m\n\u001b[0;31m    https://www.geeksforgeeks.org/compute-the-weighted-average-of-a-given-numpy-array/\u001b[0m\n\u001b[0m           ^\u001b[0m\n\u001b[0;31mSyntaxError\u001b[0m\u001b[0;31m:\u001b[0m invalid syntax\n"
          ]
        }
      ]
    },
    {
      "cell_type": "markdown",
      "metadata": {
        "id": "NrtQGHETipgr"
      },
      "source": [
        "## Recreate as a .CSV\r\n",
        "Each Row Will Include all of the data"
      ]
    },
    {
      "cell_type": "code",
      "metadata": {
        "colab": {
          "base_uri": "https://localhost:8080/"
        },
        "id": "QVhqlIuuSa-d",
        "outputId": "5d37ed1e-ef3f-49b3-effe-be39ab4dc625"
      },
      "source": [
        "number_people = 10\r\n",
        "people_list = []\r\n",
        "\r\n",
        "for person in range(0,number_people):\r\n",
        "    people_list.append([gen_fake_full_name('F'),\r\n",
        "                        gen_fake_address(),\r\n",
        "                        gen_fake_phone(),\r\n",
        "                        gen_fake_tickets(), \r\n",
        "                        gen_fake_children()\r\n",
        "                        ])\r\n",
        "\r\n",
        "people_list"
      ],
      "execution_count": 328,
      "outputs": [
        {
          "output_type": "execute_result",
          "data": {
            "text/plain": [
              "[['Emily Sanders',\n",
              "  '23075 Lane Culdesac, Enterprise Nevada 78862',\n",
              "  4373618787,\n",
              "  4,\n",
              "  0],\n",
              " ['Madison Jones',\n",
              "  '16911 Lane Ave, East Los Angeles California 28307',\n",
              "  6245153146,\n",
              "  4,\n",
              "  2],\n",
              " ['Ella Reyes',\n",
              "  '30755 Lane Street, East Los Angeles California 15041',\n",
              "  6812030705,\n",
              "  4,\n",
              "  0],\n",
              " ['Evelyn Cruz',\n",
              "  '21560 Golden Park Ave, Metairie Louisiana 22294',\n",
              "  9718012498,\n",
              "  4,\n",
              "  0],\n",
              " ['Madison Cruz',\n",
              "  '17671 Lane Street, Brandon Florida 20707',\n",
              "  4594114145,\n",
              "  4,\n",
              "  3],\n",
              " ['Adalyn Johnson',\n",
              "  '21727 Golden Park Ave, Paradise Nevada 22625',\n",
              "  6947217839,\n",
              "  4,\n",
              "  2],\n",
              " ['Luna Harris',\n",
              "  '12720 Lane Culdesac, Arlington Virginia 14764',\n",
              "  4792003463,\n",
              "  4,\n",
              "  3],\n",
              " ['Isabella Jenkins',\n",
              "  '26755 Golden Park Street, Spring Valley Nevada 54360',\n",
              "  7075611132,\n",
              "  4,\n",
              "  4],\n",
              " ['Evelyn Mitchell',\n",
              "  '24060 Lane BLVD, Sunrise Manor Nevada 75938',\n",
              "  8067408826,\n",
              "  4,\n",
              "  0],\n",
              " ['Aurora Clark',\n",
              "  '21889 Lane Street, Metairie Louisiana 71607',\n",
              "  9066198775,\n",
              "  4,\n",
              "  0]]"
            ]
          },
          "metadata": {
            "tags": []
          },
          "execution_count": 328
        }
      ]
    },
    {
      "cell_type": "code",
      "metadata": {
        "id": "_vSJ0a3piVom"
      },
      "source": [
        ""
      ],
      "execution_count": 323,
      "outputs": []
    }
  ]
}