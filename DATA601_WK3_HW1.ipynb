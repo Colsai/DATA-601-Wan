{
  "nbformat": 4,
  "nbformat_minor": 0,
  "metadata": {
    "colab": {
      "name": "DATA601_WK3_HW1.ipynb",
      "provenance": [],
      "collapsed_sections": [],
      "toc_visible": true,
      "authorship_tag": "ABX9TyNc2r2vKz5ReD4SpgCwM4KZ",
      "include_colab_link": true
    },
    "kernelspec": {
      "name": "python3",
      "display_name": "Python 3"
    }
  },
  "cells": [
    {
      "cell_type": "markdown",
      "metadata": {
        "id": "view-in-github",
        "colab_type": "text"
      },
      "source": [
        "<a href=\"https://colab.research.google.com/github/Colsai/DATA-601-Wan/blob/main/DATA601_WK3_HW1.ipynb\" target=\"_parent\"><img src=\"https://colab.research.google.com/assets/colab-badge.svg\" alt=\"Open In Colab\"/></a>"
      ]
    },
    {
      "cell_type": "markdown",
      "metadata": {
        "id": "G0QLOujn7fP9"
      },
      "source": [
        "# DATA601: Homework 3\r\n",
        "- Generate 100 (n) rows of randomly-chosen people.\r\n",
        "\r\n",
        "I'm going to assume that we are looking at *only faking US citizens*.  \r\n",
        "One of the issues with other countries is that phone numbers, postal codes, popular names, etc. are all very regionally/country-dependent.   \r\n",
        "Since I am randomizing from tables, it would NOT be a good idea to broaden this scope as being representative of world citizens, which would take far more complexity."
      ]
    },
    {
      "cell_type": "code",
      "metadata": {
        "id": "Gn39rnU_50Os"
      },
      "source": [
        "#Import Python Packages\r\n",
        "import random\r\n",
        "import pandas as pd\r\n",
        "import numpy as np"
      ],
      "execution_count": 665,
      "outputs": []
    },
    {
      "cell_type": "markdown",
      "metadata": {
        "id": "OCx3-bxCHWgl"
      },
      "source": [
        "Making sure that all phone numbers will be of len 3 + 7 = 10.  \r\n",
        "https://stackoverflow.com/questions/733454/best-way-to-format-integer-as-string-with-leading-zeros"
      ]
    },
    {
      "cell_type": "markdown",
      "metadata": {
        "id": "CyvMswZpWIZO"
      },
      "source": [
        "## 1a. Categories that we will look at\r\n",
        "•Email addresses. Must have @  \r\n",
        "•Phone  numbers  \r\n",
        "•Home  Address  \r\n",
        "•Person's  name  \r\n",
        "•Year born. Use realistic values.  \r\n",
        "•Number of kids. Use realistic values.   \r\n",
        "•Categorical variable: rent or own?  \r\n",
        "•Annual income. Optional challenge:  Use a non-uniform distribution  \r\n",
        "•Number  of speeding  tickets in past year.Optional challenge:  Use a   non-uniform distribution  "
      ]
    },
    {
      "cell_type": "markdown",
      "metadata": {
        "id": "YO65uXeHI-WC"
      },
      "source": [
        "US Area Codes are between 0-200. Since we don't really know where they got their phone number, it is possible for phone number not to be near or equal to the home address\r\n",
        "\r\n",
        "- I'm not 100% sure that the Z-fill will work, but I think it should"
      ]
    },
    {
      "cell_type": "markdown",
      "metadata": {
        "id": "nClnMizpTXLc"
      },
      "source": [
        "## 2. Fake Phone Number\r\n",
        "A US Phone number should be XXXXXXXXXX or 10 digits long.  \r\n",
        "*Note: For a more-accurate phone number, it would be better to tie the \r\n",
        "area code to the fake random address, but it is difficult to overlap the area code to the actual place of residence, since the locations are also fake.*"
      ]
    },
    {
      "cell_type": "code",
      "metadata": {
        "id": "Bi_SfmOPGGm-"
      },
      "source": [
        "def gen_fake_phone():\r\n",
        "    area_code = str(random.randint(200,999))\r\n",
        "    digits = random.randint(0,9999999)\r\n",
        "\r\n",
        "#Add zeroes to random numbers that are less than 7 in length (Force length = 7)\r\n",
        "    if len(str(digits)) < 7:\r\n",
        "        extra_digits = abs(len(str(digits)) - 7)\r\n",
        "        digits = (\"0\" * extra_digits) + str(digits)\r\n",
        "\r\n",
        "    fake_phone = int(str(area_code) + str(digits))\r\n",
        "    \r\n",
        "    return fake_phone"
      ],
      "execution_count": 666,
      "outputs": []
    },
    {
      "cell_type": "markdown",
      "metadata": {
        "id": "DuBNfbDCOxoo"
      },
      "source": [
        "### 2b. Test the function\r\n",
        "Generate 5 random phone numbers"
      ]
    },
    {
      "cell_type": "code",
      "metadata": {
        "colab": {
          "base_uri": "https://localhost:8080/"
        },
        "id": "fYsGCu1wUxOL",
        "outputId": "83fd3d92-c518-4c55-cddf-971c56f64802"
      },
      "source": [
        "for i in range(0,5):\r\n",
        "    print(gen_fake_phone())"
      ],
      "execution_count": 667,
      "outputs": [
        {
          "output_type": "stream",
          "text": [
            "3151805984\n",
            "6351654095\n",
            "2109842488\n",
            "5849261366\n",
            "8041065074\n"
          ],
          "name": "stdout"
        }
      ]
    },
    {
      "cell_type": "markdown",
      "metadata": {
        "id": "9g93Iu-0YA2N"
      },
      "source": [
        "## 3a. Generate a Random Name\r\n",
        "- Randomly chooses a gender.\r\n",
        "- Attaches a random common name from one of the gender lists to the person\r\n",
        "- Adds a random pick from common Last Names  "
      ]
    },
    {
      "cell_type": "code",
      "metadata": {
        "id": "nWLgOWvQ8Sa_"
      },
      "source": [
        "#Read the HTML of the most popular first names\r\n",
        "df = pd.read_html('https://www.ksat.com/features/2020/12/31/these-were-the-50-most-popular-baby-names-in-2020/')[0]\r\n",
        "girls_fnames = df['Girls'].to_list()\r\n",
        "boys_fnames = df['Boys'].to_list()\r\n",
        "\r\n",
        "#List of Last Names\r\n",
        "df2 = pd.read_html('https://en.wikipedia.org/wiki/List_of_most_common_surnames_in_North_America')[7]\r\n",
        "flast_name_list = df2['Name'].to_list()"
      ],
      "execution_count": 668,
      "outputs": []
    },
    {
      "cell_type": "code",
      "metadata": {
        "colab": {
          "base_uri": "https://localhost:8080/"
        },
        "id": "K3PRZPE99sLx",
        "outputId": "53e86b81-515c-46ff-a90f-04c7c27634e9"
      },
      "source": [
        "#How many possible combinations of random names are there?\r\n",
        "print((len(girls_fnames) + len(boys_fnames)) * len(flast_name_list))"
      ],
      "execution_count": 669,
      "outputs": [
        {
          "output_type": "stream",
          "text": [
            "10000\n"
          ],
          "name": "stdout"
        }
      ]
    },
    {
      "cell_type": "markdown",
      "metadata": {
        "id": "vrcaQHUhP3k2"
      },
      "source": [
        "### Randomly choose a gender first, then assign a name based on random gender\r\n",
        "- (the ratio is 51f/49m)  \r\n",
        "Source: http://statisticstimes.com/demographics/country/us-sex-ratio.php#:~:text=Gender%20Ratio%20in%20the%20United%20States%20in%202020%20is%2097.948,to%2049.48%20percent%20male%20population.\r\n",
        "- Were we to make this more-realistic over an amount of a million people +, we could also add n/nonbinary (and pick an inclusive list of first names)."
      ]
    },
    {
      "cell_type": "code",
      "metadata": {
        "id": "NCd95pyXXCPv"
      },
      "source": [
        "#Let's assume that names should go with genders (gender would be defined first, prior to birth, then naming would come after)\r\n",
        "def gen_fake_full_name():\r\n",
        "    fake_gender = random.choices(('M','F'),(49,51))[0]\r\n",
        "\r\n",
        "    if fake_gender == 'M':\r\n",
        "      fname = random.choice(boys_fnames)\r\n",
        "\r\n",
        "    elif fake_gender == 'F':\r\n",
        "      fname = random.choice(girls_fnames)\r\n",
        "\r\n",
        "    else:\r\n",
        "        #add non-gendered names list here\r\n",
        "        pass\r\n",
        "\r\n",
        "    flast_name = random.choice(flast_name_list)\r\n",
        "\r\n",
        "    fake_full_name = \"\".join([fname, \" \",flast_name]) \r\n",
        "    return fake_full_name"
      ],
      "execution_count": 670,
      "outputs": []
    },
    {
      "cell_type": "markdown",
      "metadata": {
        "id": "tCMQYNGYwFHi"
      },
      "source": [
        "### 3b. Test full name: \r\n",
        "Test the gen_fake_full_name function"
      ]
    },
    {
      "cell_type": "code",
      "metadata": {
        "colab": {
          "base_uri": "https://localhost:8080/",
          "height": 35
        },
        "id": "HYsrrS_0YsYD",
        "outputId": "70825699-a9f0-4b15-977a-23000084accf"
      },
      "source": [
        "gen_fake_full_name()"
      ],
      "execution_count": 671,
      "outputs": [
        {
          "output_type": "execute_result",
          "data": {
            "application/vnd.google.colaboratory.intrinsic+json": {
              "type": "string"
            },
            "text/plain": [
              "'Wyatt Clark'"
            ]
          },
          "metadata": {
            "tags": []
          },
          "execution_count": 671
        }
      ]
    },
    {
      "cell_type": "markdown",
      "metadata": {
        "id": "42YTWir_TP6-"
      },
      "source": [
        "## 4a. Address (Locations)\r\n",
        "So, what are the most common places for people to live? These places should be statistically most likely for our example fake data to be from, so they could be good candidates. I'll scrape a single table from Wikipedia.\r\n",
        "\r\n",
        "(If we wanted state abbreviations, we could also add something like: https://gist.github.com/rogerallen/1583593, which is a full dictionary of state -> abbrv)"
      ]
    },
    {
      "cell_type": "code",
      "metadata": {
        "id": "FtxyaHKYbpKk",
        "colab": {
          "base_uri": "https://localhost:8080/",
          "height": 272
        },
        "outputId": "eacefc11-668f-4a1a-d302-b5455655029d"
      },
      "source": [
        "#Dataframe 'Locations' table 10 is the list for the USA\r\n",
        "df_locations = pd.read_html('https://en.wikipedia.org/wiki/List_of_United_States_cities_by_population')[10]\r\n",
        "df_locations.head()"
      ],
      "execution_count": 672,
      "outputs": [
        {
          "output_type": "execute_result",
          "data": {
            "text/html": [
              "<div>\n",
              "<style scoped>\n",
              "    .dataframe tbody tr th:only-of-type {\n",
              "        vertical-align: middle;\n",
              "    }\n",
              "\n",
              "    .dataframe tbody tr th {\n",
              "        vertical-align: top;\n",
              "    }\n",
              "\n",
              "    .dataframe thead th {\n",
              "        text-align: right;\n",
              "    }\n",
              "</style>\n",
              "<table border=\"1\" class=\"dataframe\">\n",
              "  <thead>\n",
              "    <tr style=\"text-align: right;\">\n",
              "      <th></th>\n",
              "      <th>City</th>\n",
              "      <th>State</th>\n",
              "      <th>2010 Census</th>\n",
              "      <th>2000 Census</th>\n",
              "      <th>Change</th>\n",
              "      <th>2010 land area</th>\n",
              "      <th>2010 land area.1</th>\n",
              "      <th>2010 population density</th>\n",
              "      <th>2010 population density.1</th>\n",
              "      <th>ANSI</th>\n",
              "      <th>Location</th>\n",
              "    </tr>\n",
              "  </thead>\n",
              "  <tbody>\n",
              "    <tr>\n",
              "      <th>0</th>\n",
              "      <td>Paradise</td>\n",
              "      <td>Nevada</td>\n",
              "      <td>223167</td>\n",
              "      <td>186070</td>\n",
              "      <td>+19.94%</td>\n",
              "      <td>46.717 sq mi</td>\n",
              "      <td>120.996 km2</td>\n",
              "      <td>4,777/sq mi</td>\n",
              "      <td>1,844/km2</td>\n",
              "      <td>2409023.0</td>\n",
              "      <td>36°04′51″N 115°08′12″W﻿ / ﻿36.08073°N 115.1368°W</td>\n",
              "    </tr>\n",
              "    <tr>\n",
              "      <th>1</th>\n",
              "      <td>Arlington</td>\n",
              "      <td>Virginia</td>\n",
              "      <td>207627</td>\n",
              "      <td>189453</td>\n",
              "      <td>+9.59%</td>\n",
              "      <td>25.98 sq mi</td>\n",
              "      <td>67.288 km2</td>\n",
              "      <td>7,992/sq mi</td>\n",
              "      <td>3,086/km2</td>\n",
              "      <td>NaN</td>\n",
              "      <td>38°52′48″N 77°10′59″W﻿ / ﻿38.880°N 77.183°W</td>\n",
              "    </tr>\n",
              "    <tr>\n",
              "      <th>2</th>\n",
              "      <td>Sunrise Manor</td>\n",
              "      <td>Nevada</td>\n",
              "      <td>189372</td>\n",
              "      <td>156120</td>\n",
              "      <td>+21.30%</td>\n",
              "      <td>33.352 sq mi</td>\n",
              "      <td>86.381 km2</td>\n",
              "      <td>5,678/sq mi</td>\n",
              "      <td>2,192/km2</td>\n",
              "      <td>2410035.0</td>\n",
              "      <td>36°10′43″N 115°02′56″W﻿ / ﻿36.1785°N 115.0490°W</td>\n",
              "    </tr>\n",
              "    <tr>\n",
              "      <th>3</th>\n",
              "      <td>Spring Valley</td>\n",
              "      <td>Nevada</td>\n",
              "      <td>178395</td>\n",
              "      <td>117390</td>\n",
              "      <td>+51.97%</td>\n",
              "      <td>33.226 sq mi</td>\n",
              "      <td>86.055 km2</td>\n",
              "      <td>5,369/sq mi</td>\n",
              "      <td>2,073/km2</td>\n",
              "      <td>2408797.0</td>\n",
              "      <td>36°05′55″N 115°15′43″W﻿ / ﻿36.0987°N 115.2619°W</td>\n",
              "    </tr>\n",
              "    <tr>\n",
              "      <th>4</th>\n",
              "      <td>Metairie</td>\n",
              "      <td>Louisiana</td>\n",
              "      <td>138481</td>\n",
              "      <td>146136</td>\n",
              "      <td>−5.24%</td>\n",
              "      <td>23.222 sq mi</td>\n",
              "      <td>60.145 km2</td>\n",
              "      <td>5,963/sq mi</td>\n",
              "      <td>2,302/km2</td>\n",
              "      <td>2403282.0</td>\n",
              "      <td>29°59′52″N 90°10′40″W﻿ / ﻿29.9978°N 90.1779°W</td>\n",
              "    </tr>\n",
              "  </tbody>\n",
              "</table>\n",
              "</div>"
            ],
            "text/plain": [
              "            City  ...                                          Location\n",
              "0       Paradise  ...  36°04′51″N 115°08′12″W﻿ / ﻿36.08073°N 115.1368°W\n",
              "1      Arlington  ...       38°52′48″N 77°10′59″W﻿ / ﻿38.880°N 77.183°W\n",
              "2  Sunrise Manor  ...   36°10′43″N 115°02′56″W﻿ / ﻿36.1785°N 115.0490°W\n",
              "3  Spring Valley  ...   36°05′55″N 115°15′43″W﻿ / ﻿36.0987°N 115.2619°W\n",
              "4       Metairie  ...     29°59′52″N 90°10′40″W﻿ / ﻿29.9978°N 90.1779°W\n",
              "\n",
              "[5 rows x 11 columns]"
            ]
          },
          "metadata": {
            "tags": []
          },
          "execution_count": 672
        }
      ]
    },
    {
      "cell_type": "code",
      "metadata": {
        "id": "CKDfzP2NThFh",
        "colab": {
          "base_uri": "https://localhost:8080/",
          "height": 204
        },
        "outputId": "ae51b5e8-d4f4-45e3-9d11-d9e240ad7edc"
      },
      "source": [
        "#Let's focus in only on locations for the city and state. The other parts aren't important\r\n",
        "df_city_state = df_locations[['City','State']]\r\n",
        "df_city_state.head()"
      ],
      "execution_count": 673,
      "outputs": [
        {
          "output_type": "execute_result",
          "data": {
            "text/html": [
              "<div>\n",
              "<style scoped>\n",
              "    .dataframe tbody tr th:only-of-type {\n",
              "        vertical-align: middle;\n",
              "    }\n",
              "\n",
              "    .dataframe tbody tr th {\n",
              "        vertical-align: top;\n",
              "    }\n",
              "\n",
              "    .dataframe thead th {\n",
              "        text-align: right;\n",
              "    }\n",
              "</style>\n",
              "<table border=\"1\" class=\"dataframe\">\n",
              "  <thead>\n",
              "    <tr style=\"text-align: right;\">\n",
              "      <th></th>\n",
              "      <th>City</th>\n",
              "      <th>State</th>\n",
              "    </tr>\n",
              "  </thead>\n",
              "  <tbody>\n",
              "    <tr>\n",
              "      <th>0</th>\n",
              "      <td>Paradise</td>\n",
              "      <td>Nevada</td>\n",
              "    </tr>\n",
              "    <tr>\n",
              "      <th>1</th>\n",
              "      <td>Arlington</td>\n",
              "      <td>Virginia</td>\n",
              "    </tr>\n",
              "    <tr>\n",
              "      <th>2</th>\n",
              "      <td>Sunrise Manor</td>\n",
              "      <td>Nevada</td>\n",
              "    </tr>\n",
              "    <tr>\n",
              "      <th>3</th>\n",
              "      <td>Spring Valley</td>\n",
              "      <td>Nevada</td>\n",
              "    </tr>\n",
              "    <tr>\n",
              "      <th>4</th>\n",
              "      <td>Metairie</td>\n",
              "      <td>Louisiana</td>\n",
              "    </tr>\n",
              "  </tbody>\n",
              "</table>\n",
              "</div>"
            ],
            "text/plain": [
              "            City      State\n",
              "0       Paradise     Nevada\n",
              "1      Arlington   Virginia\n",
              "2  Sunrise Manor     Nevada\n",
              "3  Spring Valley     Nevada\n",
              "4       Metairie  Louisiana"
            ]
          },
          "metadata": {
            "tags": []
          },
          "execution_count": 673
        }
      ]
    },
    {
      "cell_type": "markdown",
      "metadata": {
        "id": "apk_AG-QmHdb"
      },
      "source": [
        "So that it is somewhat real...\r\n",
        "\r\n",
        "What is the highest house number: https://able2know.org/topic/160467-1#:~:text=The%20highest%20house%20number%20I,108%20miles%20from%20Key%20West?\r\n",
        "\r\n",
        "(33007, which I will use within choosing house numbers as the high bound).\r\n",
        "\r\n",
        "Unlike some of the other random statements, I will use pd.sample to pull results from wikipedia's table, since city name + state are connected."
      ]
    },
    {
      "cell_type": "markdown",
      "metadata": {
        "id": "gym7o9ESY9xT"
      },
      "source": [
        "### About fake streets\r\n",
        "I was having some issues using soup to scrape the street names, so I just added them as a list. If I were to revise this, I would probably go back in and try to scrape a list of popular street names from a website.\r\n",
        "\r\n",
        "Sources:\r\n",
        "https://www.nlc.org/resource/most-common-u-s-street-names/  \r\n",
        "https://christinarebuffet.com/blog/american-street-abbreviations/\r\n"
      ]
    },
    {
      "cell_type": "code",
      "metadata": {
        "id": "eIdj4SEZlHy0"
      },
      "source": [
        "def gen_fake_address():\r\n",
        "    #Randomize what they might live in... (in case we need apartment numbers)\r\n",
        "    fake_housing_type = random.choice([\"House\",\"Apartment\"])\r\n",
        "\r\n",
        "    #Fake street number/street name/street type\r\n",
        "    fake_number = random.randint(1,33007)\r\n",
        "    fake_streetname = random.choice(['First',\r\n",
        "                                     'Second',\r\n",
        "                                     'Third',\r\n",
        "                                     'Fourth',\r\n",
        "                                     'Fifth',\r\n",
        "                                     'Sixth',\r\n",
        "                                     'Seventh',\r\n",
        "                                     'Eighth',\r\n",
        "                                     'Ninth',\r\n",
        "                                     'Tenth',\r\n",
        "                                     'Park',\r\n",
        "                                     'Oak',\r\n",
        "                                     'Cedar'])\r\n",
        "    \r\n",
        "#This is not an efficient way to do this, but it is easy to implement\r\n",
        "    fake_street_type = random.choice(['St.', \r\n",
        "                                      'Ave', \r\n",
        "                                      'Ln.', \r\n",
        "                                      'Place',\r\n",
        "                                      'Blvd.',\r\n",
        "                                      'Dr.',\r\n",
        "                                      ])\r\n",
        "\r\n",
        "    #Let's sample a city using pd.sample()\r\n",
        "    sample_city = df_city_state.sample(1)\r\n",
        "    fake_city = sample_city['City'].to_string(index = False)\r\n",
        "    fake_state = sample_city['State'].to_string(index = False)\r\n",
        "\r\n",
        "    #The corresponding zip code should probably match up, too\r\n",
        "    #fake_zip = random.randint(10000,90000)\r\n",
        "\r\n",
        "    if fake_housing_type == 'Apartment':\r\n",
        "        fake_apartment_number = random.randint(0,9999)\r\n",
        "        fake_full_address = f\"{fake_number} {fake_streetname} {fake_street_type}, Apt {fake_apartment_number},{fake_city},{fake_state}\"\r\n",
        "\r\n",
        "    else:\r\n",
        "        fake_full_address = f\"{fake_number} {fake_streetname} {fake_street_type},{fake_city},{fake_state}\"\r\n",
        "\r\n",
        "    return str(fake_full_address)"
      ],
      "execution_count": 674,
      "outputs": []
    },
    {
      "cell_type": "markdown",
      "metadata": {
        "id": "tDGkW4USQwTj"
      },
      "source": [
        "### 4b. Test Fake Address\r\n",
        "Address should be number street street type city state"
      ]
    },
    {
      "cell_type": "code",
      "metadata": {
        "id": "HuEQ9w2QjYic",
        "colab": {
          "base_uri": "https://localhost:8080/",
          "height": 35
        },
        "outputId": "0d684fed-da6d-45c9-82b7-92c174297e4f"
      },
      "source": [
        "gen_fake_address()"
      ],
      "execution_count": 675,
      "outputs": [
        {
          "output_type": "execute_result",
          "data": {
            "application/vnd.google.colaboratory.intrinsic+json": {
              "type": "string"
            },
            "text/plain": [
              "'13725 Tenth St., Apt 6076, Spring Valley, Nevada'"
            ]
          },
          "metadata": {
            "tags": []
          },
          "execution_count": 675
        }
      ]
    },
    {
      "cell_type": "markdown",
      "metadata": {
        "id": "mR3Fgqub_oL4"
      },
      "source": [
        "Source: https://www.geeksforgeeks.org/compute-the-weighted-average-of-a-given-numpy-array/"
      ]
    },
    {
      "cell_type": "markdown",
      "metadata": {
        "id": "OVFmyvXOZvMm"
      },
      "source": [
        "## 5. Children\r\n",
        "https://www.statista.com/statistics/718084/average-number-of-own-children-per-family/\r\n"
      ]
    },
    {
      "cell_type": "markdown",
      "metadata": {
        "id": "L4d5vKe8aRqn"
      },
      "source": [
        "Children can be seen as\r\n",
        "Is it a family household? \r\n",
        "https://www.prb.org/u-s-household-composition-shifts-as-the-population-grows-older-more-young-adults-live-with-parents/#:~:text=In%201960%2C%2085%20percent%20of,35%20percent%20during%20this%20period.\r\n",
        "(65% are)\r\n",
        "\r\n",
        "If it is a family household, do they have children?\r\n",
        "https://www.statista.com/statistics/242074/percentages-of-us-family-households-with-children-by-type/\r\n",
        "(40%)\r\n",
        "\r\n",
        "What number of children do families typically have?\r\n",
        "https://www.pewresearch.org/fact-tank/2018/08/09/middle-children-have-become-rarer-but-a-growing-share-of-americans-now-say-three-or-more-kids-are-ideal/"
      ]
    },
    {
      "cell_type": "code",
      "metadata": {
        "id": "gXVuoXYh56tc"
      },
      "source": [
        "def gen_fake_children(age):\r\n",
        "    if age >= 15:\r\n",
        "        #Chance of children in a family = if family household AND if family household has children\r\n",
        "        family_household_chance = .65\r\n",
        "        children_chance = .4\r\n",
        "\r\n",
        "        #Chance of children\r\n",
        "        chance_of_children = family_household_chance * children_chance\r\n",
        "\r\n",
        "        #Checks possibility of children\r\n",
        "        children_exist = random.choices(['Yes','No'],[chance_of_children,1-chance_of_children])[0]\r\n",
        "\r\n",
        "        if children_exist == 'Yes':\r\n",
        "            num_kids = random.choices([1,2,3,4],[21,41,23,15])[0]\r\n",
        "\r\n",
        "        elif children_exist == 'No':\r\n",
        "            num_kids = 0\r\n",
        "\r\n",
        "        else:\r\n",
        "            num_kids = 0\r\n",
        "\r\n",
        "    else:\r\n",
        "        num_kids = 0\r\n",
        "        \r\n",
        "    return num_kids"
      ],
      "execution_count": 676,
      "outputs": []
    },
    {
      "cell_type": "code",
      "metadata": {
        "id": "_Sdrlp7dbYWq",
        "colab": {
          "base_uri": "https://localhost:8080/"
        },
        "outputId": "1fa6a68f-e1bf-4f90-c47d-fad283408d9f"
      },
      "source": [
        "gen_fake_children(15)"
      ],
      "execution_count": 677,
      "outputs": [
        {
          "output_type": "execute_result",
          "data": {
            "text/plain": [
              "0"
            ]
          },
          "metadata": {
            "tags": []
          },
          "execution_count": 677
        }
      ]
    },
    {
      "cell_type": "markdown",
      "metadata": {
        "id": "gLiBgpbLlsVz"
      },
      "source": [
        "## 6. Age (Years born in)"
      ]
    },
    {
      "cell_type": "code",
      "metadata": {
        "id": "URn_TRrdl_KV"
      },
      "source": [
        "def gen_year_born():\r\n",
        "    current_year = 2021\r\n",
        "    age = random.randint(0,100)\r\n",
        "    birth_year = current_year - age \r\n",
        "    \r\n",
        "    return birth_year"
      ],
      "execution_count": 678,
      "outputs": []
    },
    {
      "cell_type": "markdown",
      "metadata": {
        "id": "VXRuI-wqdVNT"
      },
      "source": [
        "## 7. Speeding Tickets\r\n",
        "Background Information:\r\n",
        "What is the average number of speeding tickets? \r\n",
        "- First, the average number of speeding tickets per year is about ~16% (1/6)\r\n",
        "Source: https://modernattorney.com/blog/facts-statistics-about-speeding-tickets\r\n",
        "\r\n",
        "- Second, if you get more than 4 speeding convictions in 3 years, you have your license revoked. So, people cannot have more than 4/3 = 1.3 * years driving in tickets (that would be the max)."
      ]
    },
    {
      "cell_type": "markdown",
      "metadata": {
        "id": "wHWjKsDalRe3"
      },
      "source": [
        "## How I calculated Tickets:\r\n",
        "Every ticket has a 16 chance.  \r\n",
        "Number of ticket chance = ticket_chance ** number of times occurring.  \r\n",
        "This is only up until 4 tickets. \r\n",
        "\r\n"
      ]
    },
    {
      "cell_type": "code",
      "metadata": {
        "colab": {
          "base_uri": "https://localhost:8080/"
        },
        "id": "sOJznG-LmZrz",
        "outputId": "84c67716-3517-4b1a-c256-2aa8bb92be21"
      },
      "source": [
        "#Roughly Two Ticket Chance\r\n",
        "1/6 * 1/6"
      ],
      "execution_count": 679,
      "outputs": [
        {
          "output_type": "execute_result",
          "data": {
            "text/plain": [
              "0.027777777777777776"
            ]
          },
          "metadata": {
            "tags": []
          },
          "execution_count": 679
        }
      ]
    },
    {
      "cell_type": "code",
      "metadata": {
        "colab": {
          "base_uri": "https://localhost:8080/"
        },
        "id": "Dk-LTteFmfDt",
        "outputId": "b4ed2953-65df-4e7b-aa1c-87f16ab8691c"
      },
      "source": [
        "#Three Ticket Chance\r\n",
        "1/6 * 1/6 * 1/6"
      ],
      "execution_count": 680,
      "outputs": [
        {
          "output_type": "execute_result",
          "data": {
            "text/plain": [
              "0.004629629629629629"
            ]
          },
          "metadata": {
            "tags": []
          },
          "execution_count": 680
        }
      ]
    },
    {
      "cell_type": "code",
      "metadata": {
        "id": "-G4Z8SjGfhMc"
      },
      "source": [
        "#Generate tickets\r\n",
        "def gen_fake_tickets(age):\r\n",
        "    if age >= 16:\r\n",
        "        #Chance of a ticket\r\n",
        "        ticket_chance = .16\r\n",
        "\r\n",
        "        ticket_count = random.choices([0,1,2,3],[1-ticket_chance,(ticket_chance)-(ticket_chance **2 + ticket_chance **3),ticket_chance ** 2,ticket_chance ** 3])[0]\r\n",
        "\r\n",
        "    else:\r\n",
        "        ticket_count = 0 #Cannot get tickets because not of age to drive\r\n",
        "\r\n",
        "    return ticket_count"
      ],
      "execution_count": 681,
      "outputs": []
    },
    {
      "cell_type": "markdown",
      "metadata": {
        "id": "0AiP0Qu04rgp"
      },
      "source": [
        "### Generate Fake Tickets\r\n",
        "It should be very rare to see ticket numbers at 2 or 3. It is rare enough to see a ticket at 1, with only 1/6."
      ]
    },
    {
      "cell_type": "code",
      "metadata": {
        "id": "FWIo9XNYhyo1",
        "colab": {
          "base_uri": "https://localhost:8080/"
        },
        "outputId": "c421a5e3-daed-4f72-9b2d-60651a5e2508"
      },
      "source": [
        "for i in range(0,10):\r\n",
        "    tickets = gen_fake_tickets(18)\r\n",
        "    print(tickets)"
      ],
      "execution_count": 682,
      "outputs": [
        {
          "output_type": "stream",
          "text": [
            "0\n",
            "0\n",
            "0\n",
            "0\n",
            "0\n",
            "1\n",
            "0\n",
            "0\n",
            "0\n",
            "0\n"
          ],
          "name": "stdout"
        }
      ]
    },
    {
      "cell_type": "markdown",
      "metadata": {
        "id": "9MFof3uLBRCs"
      },
      "source": [
        "#\r\n",
        "https://www.census.gov/housing/hvs/files/currenthvspress.pdf"
      ]
    },
    {
      "cell_type": "markdown",
      "metadata": {
        "id": "cjD-Y4MWzGsv"
      },
      "source": [
        "## 8. Rent or Own a Home\r\n",
        "This looks at the chance of whether or not someone can own a home. The ratio is about 59-30 https://www.census.gov/housing/hvs/files/currenthvspress.pdf .\r\n",
        "\r\n",
        "If current age is less than 18, the person should not be able to buy or own a home (since they would have to enter into a legal agreement generally requiring age of majority).\r\n",
        "\r\n",
        "https://www.thebalance.com/when-is-the-best-age-to-buy-a-home-4163871#:~:text=At%20What%20Age%20Can%20You,legal%20age%20signs%20the%20contracts."
      ]
    },
    {
      "cell_type": "code",
      "metadata": {
        "id": "3OpotW9a6WCv"
      },
      "source": [
        "def gen_home_status(age):\r\n",
        "    if age >= 18:\r\n",
        "        #Categorical Variable (Rent or Own)\r\n",
        "        housing_status = random.choices(['Rent','Own'],[58.6,30.4])[0]\r\n",
        "    else:\r\n",
        "        housing_status = 'N/A'\r\n",
        "\r\n",
        "    return housing_status"
      ],
      "execution_count": 683,
      "outputs": []
    },
    {
      "cell_type": "markdown",
      "metadata": {
        "id": "B2MG79vhz_XQ"
      },
      "source": [
        "## 9. Annual Income"
      ]
    },
    {
      "cell_type": "code",
      "metadata": {
        "id": "_JuvBSRwL_Tm"
      },
      "source": [
        "def gen_fake_annual_income(age):\r\n",
        "    if age >= 16:\r\n",
        "        #Annual Income\r\n",
        "        fake_income = random.randint(15000,250000)\r\n",
        "        fake_income = str(f\"${fake_income}\")\r\n",
        "    else:\r\n",
        "        fake_income = '0'\r\n",
        "\r\n",
        "    return fake_income"
      ],
      "execution_count": 684,
      "outputs": []
    },
    {
      "cell_type": "markdown",
      "metadata": {
        "id": "DlcA6LpyLSYp"
      },
      "source": [
        "## 10. Email Addresses\r\n",
        "There are a lot of ways we could do email addresses: as random combinations of characters, of words, etc. \r\n",
        "A lot of these names might be common, so some ways people make unique email accounts are:\r\n",
        "- adding numbers to the end of their name\r\n",
        "- shortening parts of their name for their email\r\n",
        "- adding different joining characters for their email.\r\n",
        "\r\n",
        "I'll try to add these three elements here:"
      ]
    },
    {
      "cell_type": "code",
      "metadata": {
        "id": "ffV0K_vJ5V8q"
      },
      "source": [
        "def gen_fake_email(fake_name):\r\n",
        "    domain = random.choice([\"gmail.com\",\r\n",
        "                            \"yahoo.com\",\r\n",
        "                            \"aol.com\",\r\n",
        "                            \"hotmail.com\",\r\n",
        "                            \"outlook.com\",\r\n",
        "                            \"protonmail.com\"])\r\n",
        "\r\n",
        "    num_suffix = random.randint(0,999)\r\n",
        "\r\n",
        "    #Split the string back into two names\r\n",
        "    fake_name = fake_name.split(\" \")\r\n",
        "\r\n",
        "    #Occasionally truncate email string, which people do for unique email addresses\r\n",
        "    for i in range(0,len(fake_name)):\r\n",
        "        fake_name[i] = fake_name[i][0:random.randint(int(len(fake_name[i])-1),len(fake_name[i]))]\r\n",
        "\r\n",
        "    #Adding different ways to join email address\r\n",
        "    email_separators = random.choice([\"\",\"_\",\".\",\"-\"])\r\n",
        "\r\n",
        "    #Re-joiing the fake email addresses\r\n",
        "    fake_name_joined = f'{email_separators}'.join(fake_name)\r\n",
        "\r\n",
        "    #Creating a full email address\r\n",
        "    email_address = (fake_name_joined + str(num_suffix) + \"@\" + domain).lower()\r\n",
        "    \r\n",
        "    return email_address"
      ],
      "execution_count": 685,
      "outputs": []
    },
    {
      "cell_type": "markdown",
      "metadata": {
        "id": "bj9IiLdff8Hi"
      },
      "source": [
        "https://stackoverflow.com/questions/12453580/how-to-concatenate-items-in-a-list-to-a-single-string"
      ]
    },
    {
      "cell_type": "markdown",
      "metadata": {
        "id": "NrtQGHETipgr"
      },
      "source": [
        "## 11 Recreate as a .CSV\r\n",
        "Each Row Will Include all of the data"
      ]
    },
    {
      "cell_type": "code",
      "metadata": {
        "id": "QVhqlIuuSa-d"
      },
      "source": [
        "number_people = 1000 #Change this number to the number of fake people\r\n",
        "people_list = []\r\n",
        "\r\n",
        "for person in range(0,number_people):\r\n",
        "    #These variables are generated first, because they affect other variables.\r\n",
        "    fake_full_name = gen_fake_full_name()\r\n",
        "    year_born = gen_year_born()\r\n",
        "\r\n",
        "    #Age variable is used for fake_children, annual_income, and home_status.\r\n",
        "    age = 2021 - year_born\r\n",
        "\r\n",
        "    people_list.append([fake_full_name,\r\n",
        "                        gen_fake_address(),\r\n",
        "                        gen_fake_phone(),\r\n",
        "                        year_born,\r\n",
        "                        gen_home_status(age),\r\n",
        "                        gen_fake_tickets(age), \r\n",
        "                        gen_fake_children(age),\r\n",
        "                        gen_fake_annual_income(age),\r\n",
        "                        gen_fake_email(fake_full_name),\r\n",
        "                        ])"
      ],
      "execution_count": 692,
      "outputs": []
    },
    {
      "cell_type": "markdown",
      "metadata": {
        "id": "KrpCPt6zhUXy"
      },
      "source": [
        "### Test the list output"
      ]
    },
    {
      "cell_type": "code",
      "metadata": {
        "colab": {
          "base_uri": "https://localhost:8080/"
        },
        "id": "lZTeuyQN-Dqs",
        "outputId": "24ea7365-6ff1-42de-e137-4316fb2a30fd"
      },
      "source": [
        "#Test the list output\r\n",
        "for person in people_list[0:5]:\r\n",
        "    print(person)"
      ],
      "execution_count": 693,
      "outputs": [
        {
          "output_type": "stream",
          "text": [
            "['Chloe Peterson', '3495 Oak Ave, Spring Valley, Nevada', 8862469286, 1978, 'Rent', 1, 3, '$186003', 'chloepeterso738@gmail.com']\n",
            "['Avery Kelly', '22915 Oak Place, Apt 2235, Paradise, Nevada', 9937257128, 1941, 'Own', 1, 0, '$237595', 'aver_kell22@yahoo.com']\n",
            "['Miles Hill', '15693 Ninth Blvd., Spring Valley, Nevada', 5692580299, 1958, 'Rent', 1, 3, '$177008', 'miles-hil623@outlook.com']\n",
            "['Julian Myers', '6777 Ninth Blvd., East Los Angeles, California', 7927172384, 1956, 'Rent', 0, 0, '$34547', 'julia.myers205@yahoo.com']\n",
            "['Emilia Roberts', '20736 Oak Blvd., Apt 8612, Paradise, Nevada', 7925064799, 2003, 'Rent', 2, 0, '$177055', 'emiliaroberts714@outlook.com']\n"
          ],
          "name": "stdout"
        }
      ]
    },
    {
      "cell_type": "markdown",
      "metadata": {
        "id": "wNOVg8ERhec_"
      },
      "source": [
        "### Convert it into a dataframe"
      ]
    },
    {
      "cell_type": "code",
      "metadata": {
        "colab": {
          "base_uri": "https://localhost:8080/",
          "height": 1000
        },
        "id": "c2_zkw4kxh6A",
        "outputId": "c3f427f3-c87e-4f26-8ec1-4582620c4fdb"
      },
      "source": [
        "#Columns and create dataframe\r\n",
        "name_columns = [\"Name\", \r\n",
        "                \"Address\", \r\n",
        "                \"Phone Numbers\",\r\n",
        "                \"Year Born\", \r\n",
        "                \"Home Status\",\r\n",
        "                \"Speeding Tickets\", \r\n",
        "                \"Children\",\r\n",
        "                \"Annual Income\",\r\n",
        "                \"Email\"]\r\n",
        "\r\n",
        "df_full = pd.DataFrame(people_list, columns = name_columns)\r\n",
        "df_full.head(15)"
      ],
      "execution_count": 694,
      "outputs": [
        {
          "output_type": "execute_result",
          "data": {
            "text/html": [
              "<div>\n",
              "<style scoped>\n",
              "    .dataframe tbody tr th:only-of-type {\n",
              "        vertical-align: middle;\n",
              "    }\n",
              "\n",
              "    .dataframe tbody tr th {\n",
              "        vertical-align: top;\n",
              "    }\n",
              "\n",
              "    .dataframe thead th {\n",
              "        text-align: right;\n",
              "    }\n",
              "</style>\n",
              "<table border=\"1\" class=\"dataframe\">\n",
              "  <thead>\n",
              "    <tr style=\"text-align: right;\">\n",
              "      <th></th>\n",
              "      <th>Name</th>\n",
              "      <th>Address</th>\n",
              "      <th>Phone Numbers</th>\n",
              "      <th>Year Born</th>\n",
              "      <th>Home Status</th>\n",
              "      <th>Speeding Tickets</th>\n",
              "      <th>Children</th>\n",
              "      <th>Annual Income</th>\n",
              "      <th>Email</th>\n",
              "    </tr>\n",
              "  </thead>\n",
              "  <tbody>\n",
              "    <tr>\n",
              "      <th>0</th>\n",
              "      <td>Chloe Peterson</td>\n",
              "      <td>3495 Oak Ave, Spring Valley, Nevada</td>\n",
              "      <td>8862469286</td>\n",
              "      <td>1978</td>\n",
              "      <td>Rent</td>\n",
              "      <td>1</td>\n",
              "      <td>3</td>\n",
              "      <td>$186003</td>\n",
              "      <td>chloepeterso738@gmail.com</td>\n",
              "    </tr>\n",
              "    <tr>\n",
              "      <th>1</th>\n",
              "      <td>Avery Kelly</td>\n",
              "      <td>22915 Oak Place, Apt 2235, Paradise, Nevada</td>\n",
              "      <td>9937257128</td>\n",
              "      <td>1941</td>\n",
              "      <td>Own</td>\n",
              "      <td>1</td>\n",
              "      <td>0</td>\n",
              "      <td>$237595</td>\n",
              "      <td>aver_kell22@yahoo.com</td>\n",
              "    </tr>\n",
              "    <tr>\n",
              "      <th>2</th>\n",
              "      <td>Miles Hill</td>\n",
              "      <td>15693 Ninth Blvd., Spring Valley, Nevada</td>\n",
              "      <td>5692580299</td>\n",
              "      <td>1958</td>\n",
              "      <td>Rent</td>\n",
              "      <td>1</td>\n",
              "      <td>3</td>\n",
              "      <td>$177008</td>\n",
              "      <td>miles-hil623@outlook.com</td>\n",
              "    </tr>\n",
              "    <tr>\n",
              "      <th>3</th>\n",
              "      <td>Julian Myers</td>\n",
              "      <td>6777 Ninth Blvd., East Los Angeles, California</td>\n",
              "      <td>7927172384</td>\n",
              "      <td>1956</td>\n",
              "      <td>Rent</td>\n",
              "      <td>0</td>\n",
              "      <td>0</td>\n",
              "      <td>$34547</td>\n",
              "      <td>julia.myers205@yahoo.com</td>\n",
              "    </tr>\n",
              "    <tr>\n",
              "      <th>4</th>\n",
              "      <td>Emilia Roberts</td>\n",
              "      <td>20736 Oak Blvd., Apt 8612, Paradise, Nevada</td>\n",
              "      <td>7925064799</td>\n",
              "      <td>2003</td>\n",
              "      <td>Rent</td>\n",
              "      <td>2</td>\n",
              "      <td>0</td>\n",
              "      <td>$177055</td>\n",
              "      <td>emiliaroberts714@outlook.com</td>\n",
              "    </tr>\n",
              "    <tr>\n",
              "      <th>5</th>\n",
              "      <td>Penelope Kelly</td>\n",
              "      <td>20385 Third Blvd., Apt 9869, Metairie, Louisiana</td>\n",
              "      <td>8645360519</td>\n",
              "      <td>1969</td>\n",
              "      <td>Rent</td>\n",
              "      <td>1</td>\n",
              "      <td>4</td>\n",
              "      <td>$213927</td>\n",
              "      <td>penelop.kell894@gmail.com</td>\n",
              "    </tr>\n",
              "    <tr>\n",
              "      <th>6</th>\n",
              "      <td>Layla Thompson</td>\n",
              "      <td>14195 Fourth Dr., Apt 48, East Los Angeles, Ca...</td>\n",
              "      <td>3142162523</td>\n",
              "      <td>2003</td>\n",
              "      <td>Rent</td>\n",
              "      <td>0</td>\n",
              "      <td>3</td>\n",
              "      <td>$36397</td>\n",
              "      <td>layl_thompson510@protonmail.com</td>\n",
              "    </tr>\n",
              "    <tr>\n",
              "      <th>7</th>\n",
              "      <td>Aiden Reed</td>\n",
              "      <td>27465 Fifth St., Brandon, Florida</td>\n",
              "      <td>7703844872</td>\n",
              "      <td>2000</td>\n",
              "      <td>Rent</td>\n",
              "      <td>1</td>\n",
              "      <td>0</td>\n",
              "      <td>$72531</td>\n",
              "      <td>aide_reed212@gmail.com</td>\n",
              "    </tr>\n",
              "    <tr>\n",
              "      <th>8</th>\n",
              "      <td>Mason Baker</td>\n",
              "      <td>11017 Third Ln., Apt 9005, Metairie, Louisiana</td>\n",
              "      <td>3801122443</td>\n",
              "      <td>1997</td>\n",
              "      <td>Rent</td>\n",
              "      <td>0</td>\n",
              "      <td>0</td>\n",
              "      <td>$189706</td>\n",
              "      <td>mason-bake438@protonmail.com</td>\n",
              "    </tr>\n",
              "    <tr>\n",
              "      <th>9</th>\n",
              "      <td>Isaac Allen</td>\n",
              "      <td>30178 Seventh Blvd., Spring Valley, Nevada</td>\n",
              "      <td>3742588735</td>\n",
              "      <td>1999</td>\n",
              "      <td>Rent</td>\n",
              "      <td>1</td>\n",
              "      <td>0</td>\n",
              "      <td>$241604</td>\n",
              "      <td>isaa_allen574@aol.com</td>\n",
              "    </tr>\n",
              "    <tr>\n",
              "      <th>10</th>\n",
              "      <td>Ethan Edwards</td>\n",
              "      <td>18036 Ninth Blvd., Apt 8862, Enterprise, Nevada</td>\n",
              "      <td>9993526681</td>\n",
              "      <td>1971</td>\n",
              "      <td>Own</td>\n",
              "      <td>0</td>\n",
              "      <td>0</td>\n",
              "      <td>$108724</td>\n",
              "      <td>etha_edward197@protonmail.com</td>\n",
              "    </tr>\n",
              "    <tr>\n",
              "      <th>11</th>\n",
              "      <td>Ethan Hernandez</td>\n",
              "      <td>15286 Fifth Place, Arlington, Virginia</td>\n",
              "      <td>8891716428</td>\n",
              "      <td>1942</td>\n",
              "      <td>Own</td>\n",
              "      <td>0</td>\n",
              "      <td>0</td>\n",
              "      <td>$218586</td>\n",
              "      <td>ethanhernandez647@hotmail.com</td>\n",
              "    </tr>\n",
              "    <tr>\n",
              "      <th>12</th>\n",
              "      <td>Penelope King</td>\n",
              "      <td>1878 Seventh Ln., Enterprise, Nevada</td>\n",
              "      <td>3580279019</td>\n",
              "      <td>2004</td>\n",
              "      <td>N/A</td>\n",
              "      <td>0</td>\n",
              "      <td>0</td>\n",
              "      <td>$240577</td>\n",
              "      <td>penelope-king904@protonmail.com</td>\n",
              "    </tr>\n",
              "    <tr>\n",
              "      <th>13</th>\n",
              "      <td>Carson Price</td>\n",
              "      <td>4857 Second Ave, East Los Angeles, California</td>\n",
              "      <td>5620848779</td>\n",
              "      <td>1947</td>\n",
              "      <td>Own</td>\n",
              "      <td>0</td>\n",
              "      <td>0</td>\n",
              "      <td>$121668</td>\n",
              "      <td>carsonpric850@aol.com</td>\n",
              "    </tr>\n",
              "    <tr>\n",
              "      <th>14</th>\n",
              "      <td>Emma Ross</td>\n",
              "      <td>723 Fifth Place, Spring Valley, Nevada</td>\n",
              "      <td>3524666923</td>\n",
              "      <td>1967</td>\n",
              "      <td>Own</td>\n",
              "      <td>0</td>\n",
              "      <td>2</td>\n",
              "      <td>$181151</td>\n",
              "      <td>emm-ros712@aol.com</td>\n",
              "    </tr>\n",
              "  </tbody>\n",
              "</table>\n",
              "</div>"
            ],
            "text/plain": [
              "               Name  ...                            Email\n",
              "0    Chloe Peterson  ...        chloepeterso738@gmail.com\n",
              "1       Avery Kelly  ...            aver_kell22@yahoo.com\n",
              "2        Miles Hill  ...         miles-hil623@outlook.com\n",
              "3      Julian Myers  ...         julia.myers205@yahoo.com\n",
              "4    Emilia Roberts  ...     emiliaroberts714@outlook.com\n",
              "5    Penelope Kelly  ...        penelop.kell894@gmail.com\n",
              "6    Layla Thompson  ...  layl_thompson510@protonmail.com\n",
              "7        Aiden Reed  ...           aide_reed212@gmail.com\n",
              "8       Mason Baker  ...     mason-bake438@protonmail.com\n",
              "9       Isaac Allen  ...            isaa_allen574@aol.com\n",
              "10    Ethan Edwards  ...    etha_edward197@protonmail.com\n",
              "11  Ethan Hernandez  ...    ethanhernandez647@hotmail.com\n",
              "12    Penelope King  ...  penelope-king904@protonmail.com\n",
              "13     Carson Price  ...            carsonpric850@aol.com\n",
              "14        Emma Ross  ...               emm-ros712@aol.com\n",
              "\n",
              "[15 rows x 9 columns]"
            ]
          },
          "metadata": {
            "tags": []
          },
          "execution_count": 694
        }
      ]
    },
    {
      "cell_type": "code",
      "metadata": {
        "id": "kVEKCgTab9tY"
      },
      "source": [
        "#Export as csv\r\n",
        "#https://pandas.pydata.org/pandas-docs/stable/reference/api/pandas.DataFrame.to_csv.html\r\n",
        "\r\n",
        "df_full.to_csv(\"fake_people_data.csv\")"
      ],
      "execution_count": 695,
      "outputs": []
    },
    {
      "cell_type": "code",
      "metadata": {
        "id": "wpYXijbVo1ok"
      },
      "source": [
        ""
      ],
      "execution_count": null,
      "outputs": []
    }
  ]
}